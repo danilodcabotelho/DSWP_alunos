{
  "nbformat": 4,
  "nbformat_minor": 0,
  "metadata": {
    "colab": {
      "name": "Labdata_Churn_Analise_Dados_01",
      "provenance": [],
      "authorship_tag": "ABX9TyMcVM2mrWaRExBsAI8EdOKR",
      "include_colab_link": true
    },
    "kernelspec": {
      "name": "python3",
      "display_name": "Python 3"
    }
  },
  "cells": [
    {
      "cell_type": "markdown",
      "metadata": {
        "id": "view-in-github",
        "colab_type": "text"
      },
      "source": [
        "<a href=\"https://colab.research.google.com/github/danilodcabotelho/DSWP_alunos/blob/main/Labdata_Churn_Analise_Dados_01.ipynb\" target=\"_parent\"><img src=\"https://colab.research.google.com/assets/colab-badge.svg\" alt=\"Open In Colab\"/></a>"
      ]
    },
    {
      "cell_type": "markdown",
      "metadata": {
        "id": "1W9QYBmzQ-GY"
      },
      "source": [
        "# Desafio Labdata Churn - Kaggle - Início dos trabalhos: 07 - 11 - 2020\n",
        "\n",
        "---\n",
        "\n",
        "\n",
        "## 1. Análise dos Dados - Início\n",
        "\n",
        "---\n",
        "\n"
      ]
    },
    {
      "cell_type": "markdown",
      "metadata": {
        "id": "xWvnte4SRg9n"
      },
      "source": [
        "# Carregamento e Visualização dos Dados"
      ]
    },
    {
      "cell_type": "code",
      "metadata": {
        "id": "LFFkeqweQavF"
      },
      "source": [
        "import pandas as pd\n",
        "import numpy as np"
      ],
      "execution_count": null,
      "outputs": []
    }
  ]
}