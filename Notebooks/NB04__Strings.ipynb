{
  "nbformat": 4,
  "nbformat_minor": 0,
  "metadata": {
    "colab": {
      "name": "NB04__Strings.ipynb",
      "provenance": [],
      "collapsed_sections": [
        "n8BIbzQbNWUo",
        "7eS94uQ4NhVR",
        "SYOgJpGYVLUu",
        "CaHFxk98W5if",
        "ReWUyWiHXCnc",
        "CqszHxaKHr2h",
        "tXgF1Wl9gHKY",
        "Fotx7XUquAo8",
        "36kmLUYDvsUI",
        "SWO2GdNovxAp",
        "vpN54l4vxze5",
        "u4HOf9SNytSq",
        "6BQ9oZiD9hg5",
        "tz5-QdrX9vct",
        "p1muBgMX8NK4",
        "FxTC2-U88ajk",
        "z8EYn0pP25Rh"
      ],
      "include_colab_link": true
    },
    "kernelspec": {
      "name": "python3",
      "display_name": "Python 3"
    },
    "accelerator": "GPU"
  },
  "cells": [
    {
      "cell_type": "markdown",
      "metadata": {
        "id": "view-in-github",
        "colab_type": "text"
      },
      "source": [
        "<a href=\"https://colab.research.google.com/github/danilodcabotelho/DSWP_alunos/blob/main/Notebooks/NB04__Strings.ipynb\" target=\"_parent\"><img src=\"https://colab.research.google.com/assets/colab-badge.svg\" alt=\"Open In Colab\"/></a>"
      ]
    },
    {
      "cell_type": "markdown",
      "metadata": {
        "id": "caaDTO_ym1Nf"
      },
      "source": [
        "<center><h1><b><i>STRINGS</i></b></h1></center>"
      ]
    },
    {
      "cell_type": "markdown",
      "metadata": {
        "id": "sjF60sU5RJrw"
      },
      "source": [
        "___\n",
        "# **AGENDA**:\n",
        "> Neste capítulo, vamos abordar os seguintes assuntos:\n",
        "\n",
        "* Strings\n",
        "* Formatar Strings\n",
        "* Manipular Strings\n",
        "* Wrap Up\n",
        "* Exercícios"
      ]
    },
    {
      "cell_type": "markdown",
      "metadata": {
        "id": "pKC1CJJggtQC"
      },
      "source": [
        "___\n",
        "# **STRINGS**\n",
        "* Strings são sequência de caracteres entre aspas (duplas ou simples);\n",
        "* Variáveis strings são imutáveis. Isso quer dizer que o valor de uma variável string não pode ser modificada ao longo do código."
      ]
    },
    {
      "cell_type": "code",
      "metadata": {
        "id": "pEm76z8IxFHt"
      },
      "source": [
        "s_frase = 'Strings são imutaveis.'"
      ],
      "execution_count": 3,
      "outputs": []
    },
    {
      "cell_type": "code",
      "metadata": {
        "id": "duPYy_N6xO_4",
        "outputId": "e1530f6c-12fe-4a9b-93d6-0f318c0453b2",
        "colab": {
          "base_uri": "https://localhost:8080/",
          "height": 35
        }
      },
      "source": [
        "# Endereço de memória da string s_frase:\n",
        "id(s_frase)"
      ],
      "execution_count": 4,
      "outputs": [
        {
          "output_type": "execute_result",
          "data": {
            "text/plain": [
              "139652354199152"
            ]
          },
          "metadata": {
            "tags": []
          },
          "execution_count": 4
        }
      ]
    },
    {
      "cell_type": "code",
      "metadata": {
        "id": "Um4nNkaJxoSH",
        "outputId": "c651eb33-f2a5-415e-aa64-f92e1ca34b9f",
        "colab": {
          "base_uri": "https://localhost:8080/",
          "height": 35
        }
      },
      "source": [
        "# Mostrando partes da string s_frase:\n",
        "s_frase[21]"
      ],
      "execution_count": 5,
      "outputs": [
        {
          "output_type": "execute_result",
          "data": {
            "application/vnd.google.colaboratory.intrinsic+json": {
              "type": "string"
            },
            "text/plain": [
              "'.'"
            ]
          },
          "metadata": {
            "tags": []
          },
          "execution_count": 5
        }
      ]
    },
    {
      "cell_type": "markdown",
      "metadata": {
        "id": "9wOJBaWnyB8z"
      },
      "source": [
        "Vamos tentar alterar o conteúdo de s_frase[21] para \"!\"..."
      ]
    },
    {
      "cell_type": "code",
      "metadata": {
        "id": "jHXDVlACxr3O",
        "outputId": "c9686089-d1e9-42e0-df0e-6d711dfccc15",
        "colab": {
          "base_uri": "https://localhost:8080/",
          "height": 166
        }
      },
      "source": [
        "s_frase[21] = '!' "
      ],
      "execution_count": 6,
      "outputs": [
        {
          "output_type": "error",
          "ename": "TypeError",
          "evalue": "ignored",
          "traceback": [
            "\u001b[0;31m---------------------------------------------------------------------------\u001b[0m",
            "\u001b[0;31mTypeError\u001b[0m                                 Traceback (most recent call last)",
            "\u001b[0;32m<ipython-input-6-61c0d0677ad3>\u001b[0m in \u001b[0;36m<module>\u001b[0;34m()\u001b[0m\n\u001b[0;32m----> 1\u001b[0;31m \u001b[0ms_frase\u001b[0m\u001b[0;34m[\u001b[0m\u001b[0;36m21\u001b[0m\u001b[0;34m]\u001b[0m \u001b[0;34m=\u001b[0m \u001b[0;34m'!'\u001b[0m\u001b[0;34m\u001b[0m\u001b[0;34m\u001b[0m\u001b[0m\n\u001b[0m",
            "\u001b[0;31mTypeError\u001b[0m: 'str' object does not support item assignment"
          ]
        }
      ]
    },
    {
      "cell_type": "markdown",
      "metadata": {
        "id": "nIa76RSCyN4x"
      },
      "source": [
        "Ou seja, não podemos alterar o valor de s_frase."
      ]
    },
    {
      "cell_type": "code",
      "metadata": {
        "id": "aXzrRV37x8om",
        "outputId": "c17062b2-e5e7-41d5-d282-12eae470fd18",
        "colab": {
          "base_uri": "https://localhost:8080/",
          "height": 35
        }
      },
      "source": [
        "s_frase"
      ],
      "execution_count": 7,
      "outputs": [
        {
          "output_type": "execute_result",
          "data": {
            "application/vnd.google.colaboratory.intrinsic+json": {
              "type": "string"
            },
            "text/plain": [
              "'Strings são imutaveis.'"
            ]
          },
          "metadata": {
            "tags": []
          },
          "execution_count": 7
        }
      ]
    },
    {
      "cell_type": "code",
      "metadata": {
        "id": "z7rsW-bvxSzY",
        "outputId": "d4d3e394-a2c5-49dc-c335-2781a50f4d41",
        "colab": {
          "base_uri": "https://localhost:8080/",
          "height": 35
        }
      },
      "source": [
        "# Mas se fizermos...\n",
        "s_frase = s_frase + ' Portanto, não podemos alterar o valor ao longo do programa.'\n",
        "s_frase"
      ],
      "execution_count": 8,
      "outputs": [
        {
          "output_type": "execute_result",
          "data": {
            "application/vnd.google.colaboratory.intrinsic+json": {
              "type": "string"
            },
            "text/plain": [
              "'Strings são imutaveis. Portanto, não podemos alterar o valor ao longo do programa.'"
            ]
          },
          "metadata": {
            "tags": []
          },
          "execution_count": 8
        }
      ]
    },
    {
      "cell_type": "code",
      "metadata": {
        "id": "Tg0ilTyLxg9h",
        "outputId": "281334ac-aaad-4a10-f870-34ad53dc680d",
        "colab": {
          "base_uri": "https://localhost:8080/",
          "height": 35
        }
      },
      "source": [
        "# Endereço de memória da string s_frase:\n",
        "id(s_frase)"
      ],
      "execution_count": 9,
      "outputs": [
        {
          "output_type": "execute_result",
          "data": {
            "text/plain": [
              "139652354496592"
            ]
          },
          "metadata": {
            "tags": []
          },
          "execution_count": 9
        }
      ]
    },
    {
      "cell_type": "markdown",
      "metadata": {
        "id": "81eenNJdydbz"
      },
      "source": [
        "Observe que agora temos outro endereço para a variável s_frase. Ou seja, esta é outra variável pois atribuimos s_frase = s_frase + '...'"
      ]
    },
    {
      "cell_type": "markdown",
      "metadata": {
        "id": "CqszHxaKHr2h"
      },
      "source": [
        "___\n",
        "# **FORMATAR STRINGS**\n",
        "* f-strings"
      ]
    },
    {
      "cell_type": "markdown",
      "metadata": {
        "id": "3DCs26n_ga62"
      },
      "source": [
        "Considere as variáveis a seguir:"
      ]
    },
    {
      "cell_type": "code",
      "metadata": {
        "id": "XSSN1lttbX39"
      },
      "source": [
        "s_nome = 'Nelio Machado'\n",
        "s_profissao = 'Cientista de Dados'\n",
        "i_idade = 44\n",
        "s_cidade = 'Lisboa'"
      ],
      "execution_count": 10,
      "outputs": []
    },
    {
      "cell_type": "code",
      "metadata": {
        "id": "xSHrkxPsckl4",
        "outputId": "b498f093-2b59-4a4f-ce2f-28610f0026db",
        "colab": {
          "base_uri": "https://localhost:8080/",
          "height": 35
        }
      },
      "source": [
        "print(f'O Senhor {s_nome} é {s_profissao}, tem {i_idade} anos de idade e mora em {s_cidade}.')"
      ],
      "execution_count": 11,
      "outputs": [
        {
          "output_type": "stream",
          "text": [
            "O Senhor Nelio Machado é Cientista de Dados, tem 44 anos de idade e mora em Lisboa.\n"
          ],
          "name": "stdout"
        }
      ]
    },
    {
      "cell_type": "markdown",
      "metadata": {
        "id": "5IiolSZKr7qr"
      },
      "source": [
        "Qual o valor de resultado?"
      ]
    },
    {
      "cell_type": "code",
      "metadata": {
        "id": "Yelq-zVPHwZp"
      },
      "source": [
        "i_numero1 = 700\n",
        "i_numero2 = 3"
      ],
      "execution_count": 22,
      "outputs": []
    },
    {
      "cell_type": "code",
      "metadata": {
        "id": "k_EKv-nQsBEX"
      },
      "source": [
        "resultado = i_numero1 / i_numero2"
      ],
      "execution_count": 23,
      "outputs": []
    },
    {
      "cell_type": "code",
      "metadata": {
        "id": "NEFO8lQq67Fq",
        "outputId": "cc343541-5d69-4a30-99af-9f3f89654d2d",
        "colab": {
          "base_uri": "https://localhost:8080/",
          "height": 35
        }
      },
      "source": [
        "resultado"
      ],
      "execution_count": 24,
      "outputs": [
        {
          "output_type": "execute_result",
          "data": {
            "text/plain": [
              "233.33333333333334"
            ]
          },
          "metadata": {
            "tags": []
          },
          "execution_count": 24
        }
      ]
    },
    {
      "cell_type": "markdown",
      "metadata": {
        "id": "oHM1rNXOPQQ8"
      },
      "source": [
        "Mostrar o valor de resultado usando 6 casas decimais:"
      ]
    },
    {
      "cell_type": "code",
      "metadata": {
        "id": "Z7Z-qu6XXCwz",
        "outputId": "2afa2932-f984-4b6a-dd82-ce024e2124a3",
        "colab": {
          "base_uri": "https://localhost:8080/",
          "height": 35
        }
      },
      "source": [
        "print(f'O valor de resultado é {resultado:{10}.{6}}')"
      ],
      "execution_count": 25,
      "outputs": [
        {
          "output_type": "stream",
          "text": [
            "O valor de resultado é    233.333\n"
          ],
          "name": "stdout"
        }
      ]
    },
    {
      "cell_type": "markdown",
      "metadata": {
        "id": "0lRQ26dzekb0"
      },
      "source": [
        "Veja que interessante e intuitivo: nome_var:{parte_inteira}.{casas_decimais}. Veja novamente:"
      ]
    },
    {
      "cell_type": "code",
      "metadata": {
        "id": "YQ8TcN3tezZ1",
        "outputId": "61bfb64c-eb82-4dc5-839b-3685feeca66e",
        "colab": {
          "base_uri": "https://localhost:8080/",
          "height": 35
        }
      },
      "source": [
        "# Ao contrário do que afirmado acima, me parece que a primeira casa 0 é o espaço para começar a imprimir,\n",
        "# e a segunda casa 6 é o total de caracteres\n",
        "print(f'O valor de resultado é {resultado:{0}.{6}}')"
      ],
      "execution_count": 48,
      "outputs": [
        {
          "output_type": "stream",
          "text": [
            "O valor de resultado é 233.333\n"
          ],
          "name": "stdout"
        }
      ]
    },
    {
      "cell_type": "markdown",
      "metadata": {
        "id": "cWAqmY3xqiig"
      },
      "source": [
        "Podemos aplicar funções às f-strings. Por exemplo:"
      ]
    },
    {
      "cell_type": "code",
      "metadata": {
        "id": "1c1xg2noqmyr"
      },
      "source": [
        "s_pais = 'Brasil'"
      ],
      "execution_count": 49,
      "outputs": []
    },
    {
      "cell_type": "code",
      "metadata": {
        "id": "mSn0hHQnq_6X",
        "outputId": "6a0a0af3-4e2c-496e-dfa5-fa8d34a8a100",
        "colab": {
          "base_uri": "https://localhost:8080/",
          "height": 35
        }
      },
      "source": [
        "# Sem aplicarmos a função upper():\n",
        "f'Eu nasci no {s_pais}'"
      ],
      "execution_count": 50,
      "outputs": [
        {
          "output_type": "execute_result",
          "data": {
            "application/vnd.google.colaboratory.intrinsic+json": {
              "type": "string"
            },
            "text/plain": [
              "'Eu nasci no Brasil'"
            ]
          },
          "metadata": {
            "tags": []
          },
          "execution_count": 50
        }
      ]
    },
    {
      "cell_type": "code",
      "metadata": {
        "id": "w76dcLUkrHer",
        "outputId": "229b2531-6e56-418d-cf53-c64e1fa34bd8",
        "colab": {
          "base_uri": "https://localhost:8080/",
          "height": 35
        }
      },
      "source": [
        "# Aplicando a função upper():\n",
        "f'Eu nasci no {s_pais.upper()}'"
      ],
      "execution_count": 51,
      "outputs": [
        {
          "output_type": "execute_result",
          "data": {
            "application/vnd.google.colaboratory.intrinsic+json": {
              "type": "string"
            },
            "text/plain": [
              "'Eu nasci no BRASIL'"
            ]
          },
          "metadata": {
            "tags": []
          },
          "execution_count": 51
        }
      ]
    },
    {
      "cell_type": "markdown",
      "metadata": {
        "id": "2nMtUdre08dE"
      },
      "source": [
        "___\n",
        "# **MANIPULAR STRINGS**"
      ]
    },
    {
      "cell_type": "markdown",
      "metadata": {
        "id": "UqlDK-4Oorif"
      },
      "source": [
        "Suponha a string a seguir:\n",
        "\n",
        "Source: Read more at https://www.brainyquote.com/topics/beauty-quotes\""
      ]
    },
    {
      "cell_type": "code",
      "metadata": {
        "id": "noNBsutFoN9w"
      },
      "source": [
        "s_frase = \"Beauty has so many forms, and I think the most beautiful thing is confidence and loving yourself.\""
      ],
      "execution_count": 52,
      "outputs": []
    },
    {
      "cell_type": "markdown",
      "metadata": {
        "id": "numMjHgzpEfn"
      },
      "source": [
        "Verificando o tipo da variável s_frase:"
      ]
    },
    {
      "cell_type": "code",
      "metadata": {
        "id": "unGvjFaRpMpr",
        "outputId": "a877a9d3-13b6-4444-f659-75eda66a64b0",
        "colab": {
          "base_uri": "https://localhost:8080/",
          "height": 35
        }
      },
      "source": [
        "type(s_frase)"
      ],
      "execution_count": 53,
      "outputs": [
        {
          "output_type": "execute_result",
          "data": {
            "text/plain": [
              "str"
            ]
          },
          "metadata": {
            "tags": []
          },
          "execution_count": 53
        }
      ]
    },
    {
      "cell_type": "markdown",
      "metadata": {
        "id": "dgDJhf30t6wR"
      },
      "source": [
        "Qual o tamanho da variável s_frase?"
      ]
    },
    {
      "cell_type": "code",
      "metadata": {
        "id": "YP9Jl3zQuF8B",
        "outputId": "3cd09214-95d2-45c9-8d18-e7ac8030c437",
        "colab": {
          "base_uri": "https://localhost:8080/",
          "height": 35
        }
      },
      "source": [
        "len(s_frase)"
      ],
      "execution_count": 54,
      "outputs": [
        {
          "output_type": "execute_result",
          "data": {
            "text/plain": [
              "97"
            ]
          },
          "metadata": {
            "tags": []
          },
          "execution_count": 54
        }
      ]
    },
    {
      "cell_type": "markdown",
      "metadata": {
        "id": "VtrNZcilx59p"
      },
      "source": [
        "O conteúdo da variável s_frase pode ser visto como um array. Portanto, podemos acessar cada caractere da frase da seguinte forma:"
      ]
    },
    {
      "cell_type": "code",
      "metadata": {
        "id": "KtshlZ5OptHy",
        "outputId": "e9ce9635-f971-455c-cd57-1ef7953d002d",
        "colab": {
          "base_uri": "https://localhost:8080/",
          "height": 35
        }
      },
      "source": [
        "s_frase[0]"
      ],
      "execution_count": 55,
      "outputs": [
        {
          "output_type": "execute_result",
          "data": {
            "application/vnd.google.colaboratory.intrinsic+json": {
              "type": "string"
            },
            "text/plain": [
              "'B'"
            ]
          },
          "metadata": {
            "tags": []
          },
          "execution_count": 55
        }
      ]
    },
    {
      "cell_type": "code",
      "metadata": {
        "id": "G5XDmNMKtQMl",
        "outputId": "8b950d9b-7c2e-4bea-e3b6-8b572b8cdba0",
        "colab": {
          "base_uri": "https://localhost:8080/",
          "height": 35
        }
      },
      "source": [
        "s_frase[6]"
      ],
      "execution_count": 56,
      "outputs": [
        {
          "output_type": "execute_result",
          "data": {
            "application/vnd.google.colaboratory.intrinsic+json": {
              "type": "string"
            },
            "text/plain": [
              "' '"
            ]
          },
          "metadata": {
            "tags": []
          },
          "execution_count": 56
        }
      ]
    },
    {
      "cell_type": "code",
      "metadata": {
        "id": "IEUxkaqoqDMR",
        "outputId": "16d06d08-171d-46f2-b3cf-4bc0413a21c1",
        "colab": {
          "base_uri": "https://localhost:8080/",
          "height": 35
        }
      },
      "source": [
        "s_frase[7]"
      ],
      "execution_count": 57,
      "outputs": [
        {
          "output_type": "execute_result",
          "data": {
            "application/vnd.google.colaboratory.intrinsic+json": {
              "type": "string"
            },
            "text/plain": [
              "'h'"
            ]
          },
          "metadata": {
            "tags": []
          },
          "execution_count": 57
        }
      ]
    },
    {
      "cell_type": "markdown",
      "metadata": {
        "id": "7r20rZ5JttEn"
      },
      "source": [
        "E o que há na posição 28?"
      ]
    },
    {
      "cell_type": "code",
      "metadata": {
        "id": "FEDrIYzgsja0",
        "outputId": "03508cb5-b7ed-447b-d22e-5dd22c22adf7",
        "colab": {
          "base_uri": "https://localhost:8080/",
          "height": 35
        }
      },
      "source": [
        "s_frase[28]"
      ],
      "execution_count": 58,
      "outputs": [
        {
          "output_type": "execute_result",
          "data": {
            "application/vnd.google.colaboratory.intrinsic+json": {
              "type": "string"
            },
            "text/plain": [
              "'d'"
            ]
          },
          "metadata": {
            "tags": []
          },
          "execution_count": 58
        }
      ]
    },
    {
      "cell_type": "markdown",
      "metadata": {
        "id": "-qH30_RNnlAF"
      },
      "source": [
        "E qual o caractere/conteúdo da posição 97?"
      ]
    },
    {
      "cell_type": "code",
      "metadata": {
        "id": "zROKPKyLnqde",
        "outputId": "1f008145-42ae-4816-8700-25a40e283fc9",
        "colab": {
          "base_uri": "https://localhost:8080/",
          "height": 166
        }
      },
      "source": [
        "s_frase[97]"
      ],
      "execution_count": 59,
      "outputs": [
        {
          "output_type": "error",
          "ename": "IndexError",
          "evalue": "ignored",
          "traceback": [
            "\u001b[0;31m---------------------------------------------------------------------------\u001b[0m",
            "\u001b[0;31mIndexError\u001b[0m                                Traceback (most recent call last)",
            "\u001b[0;32m<ipython-input-59-ec0b63044a6b>\u001b[0m in \u001b[0;36m<module>\u001b[0;34m()\u001b[0m\n\u001b[0;32m----> 1\u001b[0;31m \u001b[0ms_frase\u001b[0m\u001b[0;34m[\u001b[0m\u001b[0;36m97\u001b[0m\u001b[0;34m]\u001b[0m\u001b[0;34m\u001b[0m\u001b[0;34m\u001b[0m\u001b[0m\n\u001b[0m",
            "\u001b[0;31mIndexError\u001b[0m: string index out of range"
          ]
        }
      ]
    },
    {
      "cell_type": "markdown",
      "metadata": {
        "id": "1DIaG36XuOvK"
      },
      "source": [
        "Como esperando, Python aponta erro. Porque?\n",
        "\n",
        "* Lembre-se que len(s_frase) = 96, ok?"
      ]
    },
    {
      "cell_type": "markdown",
      "metadata": {
        "id": "v6X_L5leuW-M"
      },
      "source": [
        "... Mas s_frase[-1] parece estranho pra você? Vamos ver se há conteúdo para s_frase[-1]:"
      ]
    },
    {
      "cell_type": "code",
      "metadata": {
        "id": "MGfENyy-7rPw",
        "outputId": "817c1f41-5546-4a42-8462-7ef1a70e7a88",
        "colab": {
          "base_uri": "https://localhost:8080/",
          "height": 35
        }
      },
      "source": [
        "s_frase"
      ],
      "execution_count": 60,
      "outputs": [
        {
          "output_type": "execute_result",
          "data": {
            "application/vnd.google.colaboratory.intrinsic+json": {
              "type": "string"
            },
            "text/plain": [
              "'Beauty has so many forms, and I think the most beautiful thing is confidence and loving yourself.'"
            ]
          },
          "metadata": {
            "tags": []
          },
          "execution_count": 60
        }
      ]
    },
    {
      "cell_type": "code",
      "metadata": {
        "id": "GrJWvSBzubUp",
        "outputId": "2a873489-000d-4cb0-9a8a-c1e4ff9ebf73",
        "colab": {
          "base_uri": "https://localhost:8080/",
          "height": 35
        }
      },
      "source": [
        "s_frase[-1]"
      ],
      "execution_count": 61,
      "outputs": [
        {
          "output_type": "execute_result",
          "data": {
            "application/vnd.google.colaboratory.intrinsic+json": {
              "type": "string"
            },
            "text/plain": [
              "'.'"
            ]
          },
          "metadata": {
            "tags": []
          },
          "execution_count": 61
        }
      ]
    },
    {
      "cell_type": "markdown",
      "metadata": {
        "id": "l7YCDSoyujja"
      },
      "source": [
        "E qual o conteúdo da posição -2?"
      ]
    },
    {
      "cell_type": "code",
      "metadata": {
        "id": "ugAlE8L5uzhT",
        "outputId": "758fa7d3-aad9-4102-b8e1-825dee8bc7ca",
        "colab": {
          "base_uri": "https://localhost:8080/",
          "height": 35
        }
      },
      "source": [
        "s_frase[-2]"
      ],
      "execution_count": 62,
      "outputs": [
        {
          "output_type": "execute_result",
          "data": {
            "application/vnd.google.colaboratory.intrinsic+json": {
              "type": "string"
            },
            "text/plain": [
              "'f'"
            ]
          },
          "metadata": {
            "tags": []
          },
          "execution_count": 62
        }
      ]
    },
    {
      "cell_type": "markdown",
      "metadata": {
        "id": "f2ZTguXjumoS"
      },
      "source": [
        "Saberia explicar o que acontece?"
      ]
    },
    {
      "cell_type": "markdown",
      "metadata": {
        "id": "llMrN_idzT7F"
      },
      "source": [
        "## Concatenar strings\n",
        "* Considere as strings a seguir:"
      ]
    },
    {
      "cell_type": "code",
      "metadata": {
        "id": "tfYrq8auzcaT"
      },
      "source": [
        "s_frase1 = 'Strings são imutáveis!'\n",
        "s_frase2 = ' Portanto, não podemos alterar o valor.'"
      ],
      "execution_count": 63,
      "outputs": []
    },
    {
      "cell_type": "code",
      "metadata": {
        "id": "N0qNvZJUzqvh",
        "outputId": "736e0511-d4f9-4441-e391-f092f153a74c",
        "colab": {
          "base_uri": "https://localhost:8080/",
          "height": 35
        }
      },
      "source": [
        "s_frase1 + s_frase2"
      ],
      "execution_count": 64,
      "outputs": [
        {
          "output_type": "execute_result",
          "data": {
            "application/vnd.google.colaboratory.intrinsic+json": {
              "type": "string"
            },
            "text/plain": [
              "'Strings são imutáveis! Portanto, não podemos alterar o valor.'"
            ]
          },
          "metadata": {
            "tags": []
          },
          "execution_count": 64
        }
      ]
    },
    {
      "cell_type": "markdown",
      "metadata": {
        "id": "uzlTo9dXwjh7"
      },
      "source": [
        "## Cortar Strings\n",
        "* Algumas vezes precisamos de parte da string."
      ]
    },
    {
      "cell_type": "markdown",
      "metadata": {
        "id": "EDJk_u2fxgEs"
      },
      "source": [
        "Parte da string, com começo e fim..."
      ]
    },
    {
      "cell_type": "code",
      "metadata": {
        "id": "4y-DLj9MsxDm"
      },
      "source": [
        "# Nossa string:\n",
        "s_frase"
      ],
      "execution_count": null,
      "outputs": []
    },
    {
      "cell_type": "code",
      "metadata": {
        "id": "MTX25_yOwdfW",
        "outputId": "a3fa4421-109b-42b2-9a05-98f1f5ea1930",
        "colab": {
          "base_uri": "https://localhost:8080/",
          "height": 35
        }
      },
      "source": [
        "s_frase[0:24]"
      ],
      "execution_count": 65,
      "outputs": [
        {
          "output_type": "execute_result",
          "data": {
            "application/vnd.google.colaboratory.intrinsic+json": {
              "type": "string"
            },
            "text/plain": [
              "'Beauty has so many forms'"
            ]
          },
          "metadata": {
            "tags": []
          },
          "execution_count": 65
        }
      ]
    },
    {
      "cell_type": "markdown",
      "metadata": {
        "id": "kuWpwOCIenPm"
      },
      "source": [
        "Obs.: s_frase[0: 24] é equivalente a s_frase[:24]. Veja abaixo:"
      ]
    },
    {
      "cell_type": "code",
      "metadata": {
        "id": "dSAEiWWYewKs"
      },
      "source": [
        "s_frase[:24]"
      ],
      "execution_count": null,
      "outputs": []
    },
    {
      "cell_type": "markdown",
      "metadata": {
        "id": "vQwK-9Hwohfs"
      },
      "source": [
        "... Começa na posição 26 em diante..."
      ]
    },
    {
      "cell_type": "code",
      "metadata": {
        "id": "CJTBBmJ51Qhk",
        "outputId": "02f0dce8-19fb-4d8d-a0ad-0e215a3164fa",
        "colab": {
          "base_uri": "https://localhost:8080/",
          "height": 35
        }
      },
      "source": [
        "s_frase[26:]"
      ],
      "execution_count": 66,
      "outputs": [
        {
          "output_type": "execute_result",
          "data": {
            "application/vnd.google.colaboratory.intrinsic+json": {
              "type": "string"
            },
            "text/plain": [
              "'and I think the most beautiful thing is confidence and loving yourself.'"
            ]
          },
          "metadata": {
            "tags": []
          },
          "execution_count": 66
        }
      ]
    },
    {
      "cell_type": "markdown",
      "metadata": {
        "id": "AMwm33py2Bpq"
      },
      "source": [
        "... Conteúdo de toda a string:"
      ]
    },
    {
      "cell_type": "code",
      "metadata": {
        "id": "Gz5TPx1G2GLN",
        "outputId": "5994a031-6219-428d-bea4-e7a28c610c73",
        "colab": {
          "base_uri": "https://localhost:8080/",
          "height": 35
        }
      },
      "source": [
        "s_frase[:] # Intuitivo não? se não definirmos o início e fim, então o Python retorna toda a string."
      ],
      "execution_count": 67,
      "outputs": [
        {
          "output_type": "execute_result",
          "data": {
            "application/vnd.google.colaboratory.intrinsic+json": {
              "type": "string"
            },
            "text/plain": [
              "'Beauty has so many forms, and I think the most beautiful thing is confidence and loving yourself.'"
            ]
          },
          "metadata": {
            "tags": []
          },
          "execution_count": 67
        }
      ]
    },
    {
      "cell_type": "markdown",
      "metadata": {
        "id": "ze0w1N3I2OrO"
      },
      "source": [
        "... Conteúdo da string começando em -9 em diante:"
      ]
    },
    {
      "cell_type": "code",
      "metadata": {
        "id": "xxVVx-uUs62P"
      },
      "source": [
        "s_frase"
      ],
      "execution_count": null,
      "outputs": []
    },
    {
      "cell_type": "code",
      "metadata": {
        "id": "RDspRsKB2Sv9"
      },
      "source": [
        "s_frase[-9:]"
      ],
      "execution_count": null,
      "outputs": []
    },
    {
      "cell_type": "markdown",
      "metadata": {
        "id": "69LEpRHwe4W_"
      },
      "source": [
        "... Uso do step: s_frase[inicio:fim:step]. Vimos como selecionar partes da string usando inicio e fim. Agora vamos ver como usar step:"
      ]
    },
    {
      "cell_type": "code",
      "metadata": {
        "id": "X2ydaRNg8GzS",
        "outputId": "dc06fcfa-1095-4582-eacf-bb1b21b53523",
        "colab": {
          "base_uri": "https://localhost:8080/",
          "height": 35
        }
      },
      "source": [
        "s_frase"
      ],
      "execution_count": 68,
      "outputs": [
        {
          "output_type": "execute_result",
          "data": {
            "application/vnd.google.colaboratory.intrinsic+json": {
              "type": "string"
            },
            "text/plain": [
              "'Beauty has so many forms, and I think the most beautiful thing is confidence and loving yourself.'"
            ]
          },
          "metadata": {
            "tags": []
          },
          "execution_count": 68
        }
      ]
    },
    {
      "cell_type": "code",
      "metadata": {
        "id": "KaCtXKx8fI2q",
        "outputId": "b16499b5-0e14-43c8-df89-54f0286a3ceb",
        "colab": {
          "base_uri": "https://localhost:8080/",
          "height": 35
        }
      },
      "source": [
        "s_frase[::2]"
      ],
      "execution_count": 69,
      "outputs": [
        {
          "output_type": "execute_result",
          "data": {
            "application/vnd.google.colaboratory.intrinsic+json": {
              "type": "string"
            },
            "text/plain": [
              "'Bat a omn om,adItiktems euiu hn scniec n oigyusl.'"
            ]
          },
          "metadata": {
            "tags": []
          },
          "execution_count": 69
        }
      ]
    },
    {
      "cell_type": "markdown",
      "metadata": {
        "id": "77A_dBynfM1T"
      },
      "source": [
        "Alguém saberia explicar o resultado da expressão acima?"
      ]
    },
    {
      "cell_type": "markdown",
      "metadata": {
        "id": "C7jQjrTYfSyc"
      },
      "source": [
        "E da expressão a seguir:"
      ]
    },
    {
      "cell_type": "code",
      "metadata": {
        "id": "Bep0HF1zfUcF",
        "outputId": "316c9cde-a1fa-42f0-fa2d-43ea319bdc81",
        "colab": {
          "base_uri": "https://localhost:8080/",
          "height": 35
        }
      },
      "source": [
        "s_frase[2::2]"
      ],
      "execution_count": 70,
      "outputs": [
        {
          "output_type": "execute_result",
          "data": {
            "application/vnd.google.colaboratory.intrinsic+json": {
              "type": "string"
            },
            "text/plain": [
              "'at a omn om,adItiktems euiu hn scniec n oigyusl.'"
            ]
          },
          "metadata": {
            "tags": []
          },
          "execution_count": 70
        }
      ]
    },
    {
      "cell_type": "markdown",
      "metadata": {
        "id": "4psqkz9ZfcDG"
      },
      "source": [
        "E a explicação para a expressão a seguir:"
      ]
    },
    {
      "cell_type": "code",
      "metadata": {
        "id": "QLZ-TeyEfe_b",
        "outputId": "2c804275-fa2e-4bf3-f0f0-944e64bed6b9",
        "colab": {
          "base_uri": "https://localhost:8080/",
          "height": 35
        }
      },
      "source": [
        "s_frase[:10:3]"
      ],
      "execution_count": 71,
      "outputs": [
        {
          "output_type": "execute_result",
          "data": {
            "application/vnd.google.colaboratory.intrinsic+json": {
              "type": "string"
            },
            "text/plain": [
              "'Bu s'"
            ]
          },
          "metadata": {
            "tags": []
          },
          "execution_count": 71
        }
      ]
    },
    {
      "cell_type": "markdown",
      "metadata": {
        "id": "DdLGIGjEft6i"
      },
      "source": [
        "Por fim, quem saberia explicar o resultado a seguir:"
      ]
    },
    {
      "cell_type": "code",
      "metadata": {
        "id": "3MSTykjifxjV",
        "outputId": "229abec8-4a42-428f-a52e-70631f4c1616",
        "colab": {
          "base_uri": "https://localhost:8080/",
          "height": 35
        }
      },
      "source": [
        "s_frase[::-1]"
      ],
      "execution_count": 72,
      "outputs": [
        {
          "output_type": "execute_result",
          "data": {
            "application/vnd.google.colaboratory.intrinsic+json": {
              "type": "string"
            },
            "text/plain": [
              "'.flesruoy gnivol dna ecnedifnoc si gniht lufituaeb tsom eht kniht I dna ,smrof ynam os sah ytuaeB'"
            ]
          },
          "metadata": {
            "tags": []
          },
          "execution_count": 72
        }
      ]
    },
    {
      "cell_type": "markdown",
      "metadata": {
        "id": "ikg8ME172wKS"
      },
      "source": [
        "## Funções Especiais para Strings\n",
        "\n",
        "* Na tabela abaixo, 'i' significa início e 'f' significa fim,\n",
        "\n",
        "| Sintaxe | Descrição ou Ação |\n",
        "|---------|-------------------|\n",
        "s_string.count(s_substring[, i[, f]]) | Conta ocorrências de 's_substring' em s_string |\n",
        "s_string.endswith(s_substring[, i[, f]]) | 'True' se s_string termina com 's_substring' |\n",
        "s_string.find(s_substring [,i[, f]]) | Encontra a primeira ocorrência de 's_substring' em s_string e retorna o índice ou -1 se não encontrar |\n",
        "s_string.index(s_substring [,i[, f]]) | Encontra a primeira ocorrência de 's_substring' em s_string e retorna o índice ou erro se não encontrar |\n",
        "s_string.isalnum() | 'True' se s_string tem somente caracteres alfanuméricos |\n",
        "s_string.isalpha() | 'True' se s_string tem somente caracteres alfabéticos |\n",
        "s_string.isdigit() | 'True' se s_string tem somente dígitos |\n",
        "s_string.isspace() | 'True' se s_string tem somente espaços em branco |\n",
        "s_string.lower() | Converte s_string para lowercase |\n",
        "s_string.lstrip([chars]) | Remove espaços em branco do lado esquerdo de s_string |\n",
        "s_string.replace (old, new[, count]) | Substitui a string 'old' pela string 'new' |\n",
        "s_string.rfind(s_substring [, i[, f]]) | Encontra a última ocorrência de 's_substring' em s_string e retorna o índice ou -1 se não encontrar |\n",
        "s_string.rindex(s_substring [, i[, f]]) | Encontra a última ocorrência de 's_substring' em s_string e retorna seu índice ou erro se não encontrar |\n",
        "s_string.rstrip([chars]) |Remove espaços em branco à direita de s_string |\n",
        "s_string.split('sep') | Split s_string usando 'sep' e retorna a lista de substrings |\n",
        "s_string.startswith(s_substring[, i[, f]]) | 'True' se s_string começa com 's_substring' |\n",
        "s_string.strip([chars]) | Remove 'chars' do lado esquerdo e direito de s_string. O default é chars= ' ' |\n",
        "s_string.upper() | Converte s_string para uppercase |"
      ]
    },
    {
      "cell_type": "markdown",
      "metadata": {
        "id": "JgjsFY014Hqw"
      },
      "source": [
        "## Tamanho da String s_string\n",
        "* len(s_string)"
      ]
    },
    {
      "cell_type": "code",
      "metadata": {
        "id": "A8kFtNzxCFuN",
        "outputId": "47dd951d-70b4-45d3-9b5e-173aa785b99a",
        "colab": {
          "base_uri": "https://localhost:8080/",
          "height": 35
        }
      },
      "source": [
        "s_frase"
      ],
      "execution_count": 73,
      "outputs": [
        {
          "output_type": "execute_result",
          "data": {
            "application/vnd.google.colaboratory.intrinsic+json": {
              "type": "string"
            },
            "text/plain": [
              "'Beauty has so many forms, and I think the most beautiful thing is confidence and loving yourself.'"
            ]
          },
          "metadata": {
            "tags": []
          },
          "execution_count": 73
        }
      ]
    },
    {
      "cell_type": "code",
      "metadata": {
        "id": "A8DMhMnx_Gec",
        "outputId": "5202a881-b947-48bc-b625-d21b2c522c3a",
        "colab": {
          "base_uri": "https://localhost:8080/",
          "height": 35
        }
      },
      "source": [
        "len(s_frase)"
      ],
      "execution_count": 74,
      "outputs": [
        {
          "output_type": "execute_result",
          "data": {
            "text/plain": [
              "97"
            ]
          },
          "metadata": {
            "tags": []
          },
          "execution_count": 74
        }
      ]
    },
    {
      "cell_type": "markdown",
      "metadata": {
        "id": "FhSlJQkwBb_e"
      },
      "source": [
        "## Frequência com que s_Character aparece em s_string\n",
        "* s_string.count('s_Character')"
      ]
    },
    {
      "cell_type": "code",
      "metadata": {
        "id": "rmvBVIzjCLSt",
        "outputId": "2f15a340-3c3b-443b-ca0c-c89550c70135",
        "colab": {
          "base_uri": "https://localhost:8080/",
          "height": 35
        }
      },
      "source": [
        "s_frase"
      ],
      "execution_count": 75,
      "outputs": [
        {
          "output_type": "execute_result",
          "data": {
            "application/vnd.google.colaboratory.intrinsic+json": {
              "type": "string"
            },
            "text/plain": [
              "'Beauty has so many forms, and I think the most beautiful thing is confidence and loving yourself.'"
            ]
          },
          "metadata": {
            "tags": []
          },
          "execution_count": 75
        }
      ]
    },
    {
      "cell_type": "markdown",
      "metadata": {
        "id": "u51gdjMEpR6G"
      },
      "source": [
        "Quantas vezes o caractere 'a' aparece em s_frase?"
      ]
    },
    {
      "cell_type": "code",
      "metadata": {
        "id": "_albEvNaBrh0",
        "outputId": "02d14862-c2f2-4213-a35e-d88aa7b47145",
        "colab": {
          "base_uri": "https://localhost:8080/",
          "height": 35
        }
      },
      "source": [
        "s_frase.count('a')"
      ],
      "execution_count": 77,
      "outputs": [
        {
          "output_type": "execute_result",
          "data": {
            "text/plain": [
              "6"
            ]
          },
          "metadata": {
            "tags": []
          },
          "execution_count": 77
        }
      ]
    },
    {
      "cell_type": "code",
      "metadata": {
        "id": "fshkOZZToRaF",
        "outputId": "a3001605-0331-4b88-8d39-53ce3d123269",
        "colab": {
          "base_uri": "https://localhost:8080/",
          "height": 35
        }
      },
      "source": [
        "s_frase.count('b')"
      ],
      "execution_count": 78,
      "outputs": [
        {
          "output_type": "execute_result",
          "data": {
            "text/plain": [
              "1"
            ]
          },
          "metadata": {
            "tags": []
          },
          "execution_count": 78
        }
      ]
    },
    {
      "cell_type": "markdown",
      "metadata": {
        "id": "l3Gzk_WmpXiW"
      },
      "source": [
        "Quantas vezes o caractere ',' aparece em s_frase?"
      ]
    },
    {
      "cell_type": "code",
      "metadata": {
        "id": "tBjRzqvjpcJG",
        "outputId": "908f0ad9-21ac-4bf5-c652-11da4903a5e4",
        "colab": {
          "base_uri": "https://localhost:8080/",
          "height": 35
        }
      },
      "source": [
        "s_frase.count(',')"
      ],
      "execution_count": 79,
      "outputs": [
        {
          "output_type": "execute_result",
          "data": {
            "text/plain": [
              "1"
            ]
          },
          "metadata": {
            "tags": []
          },
          "execution_count": 79
        }
      ]
    },
    {
      "cell_type": "markdown",
      "metadata": {
        "id": "ECvPPzT9CnCZ"
      },
      "source": [
        "## Encontrar todas as ocorrências de s_substring em s_string usando List Comprehension\n",
        "* Suponha que queremos contar quantas vezes s_substring= 'a' aparece em s_frase. No entanto, veja o conteúdo a seguir:"
      ]
    },
    {
      "cell_type": "code",
      "metadata": {
        "id": "K1Uj8KhhGwAQ",
        "outputId": "a77feafe-34e2-4877-c67d-b92cdafeec1b",
        "colab": {
          "base_uri": "https://localhost:8080/",
          "height": 35
        }
      },
      "source": [
        "# Cria uma array bidimensional do tipo (indice, valor).\n",
        "enumerate(s_frase)"
      ],
      "execution_count": 84,
      "outputs": [
        {
          "output_type": "execute_result",
          "data": {
            "text/plain": [
              "<enumerate at 0x7f03511c8d38>"
            ]
          },
          "metadata": {
            "tags": []
          },
          "execution_count": 84
        }
      ]
    },
    {
      "cell_type": "code",
      "metadata": {
        "id": "3SkKB3hapgNw",
        "outputId": "623ea238-f8d9-4e62-e0ef-ff0c71a16891",
        "colab": {
          "base_uri": "https://localhost:8080/",
          "height": 1000
        }
      },
      "source": [
        "list(enumerate(s_frase))"
      ],
      "execution_count": 85,
      "outputs": [
        {
          "output_type": "execute_result",
          "data": {
            "text/plain": [
              "[(0, 'B'),\n",
              " (1, 'e'),\n",
              " (2, 'a'),\n",
              " (3, 'u'),\n",
              " (4, 't'),\n",
              " (5, 'y'),\n",
              " (6, ' '),\n",
              " (7, 'h'),\n",
              " (8, 'a'),\n",
              " (9, 's'),\n",
              " (10, ' '),\n",
              " (11, 's'),\n",
              " (12, 'o'),\n",
              " (13, ' '),\n",
              " (14, 'm'),\n",
              " (15, 'a'),\n",
              " (16, 'n'),\n",
              " (17, 'y'),\n",
              " (18, ' '),\n",
              " (19, 'f'),\n",
              " (20, 'o'),\n",
              " (21, 'r'),\n",
              " (22, 'm'),\n",
              " (23, 's'),\n",
              " (24, ','),\n",
              " (25, ' '),\n",
              " (26, 'a'),\n",
              " (27, 'n'),\n",
              " (28, 'd'),\n",
              " (29, ' '),\n",
              " (30, 'I'),\n",
              " (31, ' '),\n",
              " (32, 't'),\n",
              " (33, 'h'),\n",
              " (34, 'i'),\n",
              " (35, 'n'),\n",
              " (36, 'k'),\n",
              " (37, ' '),\n",
              " (38, 't'),\n",
              " (39, 'h'),\n",
              " (40, 'e'),\n",
              " (41, ' '),\n",
              " (42, 'm'),\n",
              " (43, 'o'),\n",
              " (44, 's'),\n",
              " (45, 't'),\n",
              " (46, ' '),\n",
              " (47, 'b'),\n",
              " (48, 'e'),\n",
              " (49, 'a'),\n",
              " (50, 'u'),\n",
              " (51, 't'),\n",
              " (52, 'i'),\n",
              " (53, 'f'),\n",
              " (54, 'u'),\n",
              " (55, 'l'),\n",
              " (56, ' '),\n",
              " (57, 't'),\n",
              " (58, 'h'),\n",
              " (59, 'i'),\n",
              " (60, 'n'),\n",
              " (61, 'g'),\n",
              " (62, ' '),\n",
              " (63, 'i'),\n",
              " (64, 's'),\n",
              " (65, ' '),\n",
              " (66, 'c'),\n",
              " (67, 'o'),\n",
              " (68, 'n'),\n",
              " (69, 'f'),\n",
              " (70, 'i'),\n",
              " (71, 'd'),\n",
              " (72, 'e'),\n",
              " (73, 'n'),\n",
              " (74, 'c'),\n",
              " (75, 'e'),\n",
              " (76, ' '),\n",
              " (77, 'a'),\n",
              " (78, 'n'),\n",
              " (79, 'd'),\n",
              " (80, ' '),\n",
              " (81, 'l'),\n",
              " (82, 'o'),\n",
              " (83, 'v'),\n",
              " (84, 'i'),\n",
              " (85, 'n'),\n",
              " (86, 'g'),\n",
              " (87, ' '),\n",
              " (88, 'y'),\n",
              " (89, 'o'),\n",
              " (90, 'u'),\n",
              " (91, 'r'),\n",
              " (92, 's'),\n",
              " (93, 'e'),\n",
              " (94, 'l'),\n",
              " (95, 'f'),\n",
              " (96, '.')]"
            ]
          },
          "metadata": {
            "tags": []
          },
          "execution_count": 85
        }
      ]
    },
    {
      "cell_type": "markdown",
      "metadata": {
        "id": "HBoUJfssZ_hd"
      },
      "source": [
        "A seguir, encontrar todas as ocorrências de s_substring em s_string:"
      ]
    },
    {
      "cell_type": "code",
      "metadata": {
        "id": "REop7N6tpQ6U",
        "outputId": "2587354c-5535-4193-a7ac-1d9df1d3fbac",
        "colab": {
          "base_uri": "https://localhost:8080/",
          "height": 35
        }
      },
      "source": [
        "lista = []\n",
        "for i in enumerate(s_frase):\n",
        "  if i[1] == 'a':\n",
        "    lista.append(i[0])\n",
        "lista"
      ],
      "execution_count": 88,
      "outputs": [
        {
          "output_type": "execute_result",
          "data": {
            "text/plain": [
              "[2, 8, 15, 26, 49, 77]"
            ]
          },
          "metadata": {
            "tags": []
          },
          "execution_count": 88
        }
      ]
    },
    {
      "cell_type": "code",
      "metadata": {
        "id": "hy8rMbMbqCaO",
        "outputId": "5b2c47f5-aabb-4a18-e919-871c619507e2",
        "colab": {
          "base_uri": "https://localhost:8080/",
          "height": 35
        }
      },
      "source": [
        "lista = []\n",
        "lista = [x for x,y in enumerate(s_frase) if y == 'a']\n",
        "lista"
      ],
      "execution_count": 89,
      "outputs": [
        {
          "output_type": "execute_result",
          "data": {
            "text/plain": [
              "[2, 8, 15, 26, 49, 77]"
            ]
          },
          "metadata": {
            "tags": []
          },
          "execution_count": 89
        }
      ]
    },
    {
      "cell_type": "code",
      "metadata": {
        "id": "2635PM1xC4v5",
        "outputId": "ec085bad-bfdd-4a03-8292-e09170a796b3",
        "colab": {
          "base_uri": "https://localhost:8080/",
          "height": 35
        }
      },
      "source": [
        "s_substring = 'a'\n",
        "l_Indices = [indice for indice, valor in enumerate(s_frase) if valor == s_substring]\n",
        "l_Indices"
      ],
      "execution_count": 81,
      "outputs": [
        {
          "output_type": "execute_result",
          "data": {
            "text/plain": [
              "[2, 8, 15, 26, 49, 77]"
            ]
          },
          "metadata": {
            "tags": []
          },
          "execution_count": 81
        }
      ]
    },
    {
      "cell_type": "markdown",
      "metadata": {
        "id": "xtVIZAsXEBC3"
      },
      "source": [
        "## Encontrar todas as ocorrências de s_substring em s_string usando Expressões Regulares"
      ]
    },
    {
      "cell_type": "code",
      "metadata": {
        "id": "lCsSl3MZEKu8",
        "outputId": "4873c3c3-34e7-4b2a-fcbb-90cbb7f22429",
        "colab": {
          "base_uri": "https://localhost:8080/",
          "height": 35
        }
      },
      "source": [
        "# neste pacote, ele o i.start() é o índice que é obtido na iteração no re.finditer(valor procurado, string total passada)\n",
        "import re\n",
        "\n",
        "s_substring = 'a'\n",
        "l_Indices = [i.start() for i in re.finditer(s_substring, s_frase)]\n",
        "l_Indices"
      ],
      "execution_count": null,
      "outputs": [
        {
          "output_type": "execute_result",
          "data": {
            "text/plain": [
              "[2, 8, 15, 26, 49, 77]"
            ]
          },
          "metadata": {
            "tags": []
          },
          "execution_count": 25
        }
      ]
    },
    {
      "cell_type": "markdown",
      "metadata": {
        "id": "x4uWzHqo2y5J"
      },
      "source": [
        "## s_string.lower()"
      ]
    },
    {
      "cell_type": "code",
      "metadata": {
        "id": "i96RNCQyCPBm",
        "outputId": "5410a0d0-f254-446d-d3a6-43e0d3ce1dc5",
        "colab": {
          "base_uri": "https://localhost:8080/",
          "height": 35
        }
      },
      "source": [
        "s_frase"
      ],
      "execution_count": 90,
      "outputs": [
        {
          "output_type": "execute_result",
          "data": {
            "application/vnd.google.colaboratory.intrinsic+json": {
              "type": "string"
            },
            "text/plain": [
              "'Beauty has so many forms, and I think the most beautiful thing is confidence and loving yourself.'"
            ]
          },
          "metadata": {
            "tags": []
          },
          "execution_count": 90
        }
      ]
    },
    {
      "cell_type": "code",
      "metadata": {
        "id": "h7QVh6nW_Wr3",
        "outputId": "4f1b0324-714e-4448-f3ab-d70baf4f68dc",
        "colab": {
          "base_uri": "https://localhost:8080/",
          "height": 35
        }
      },
      "source": [
        "s_frase.lower()"
      ],
      "execution_count": 91,
      "outputs": [
        {
          "output_type": "execute_result",
          "data": {
            "application/vnd.google.colaboratory.intrinsic+json": {
              "type": "string"
            },
            "text/plain": [
              "'beauty has so many forms, and i think the most beautiful thing is confidence and loving yourself.'"
            ]
          },
          "metadata": {
            "tags": []
          },
          "execution_count": 91
        }
      ]
    },
    {
      "cell_type": "markdown",
      "metadata": {
        "id": "YWjMKj9B4UTS"
      },
      "source": [
        "## s_string.upper()"
      ]
    },
    {
      "cell_type": "code",
      "metadata": {
        "id": "JWLXql2uCQVt",
        "outputId": "a524106b-456c-4cf8-8d75-ea904313fbd4",
        "colab": {
          "base_uri": "https://localhost:8080/",
          "height": 35
        }
      },
      "source": [
        "s_frase"
      ],
      "execution_count": 92,
      "outputs": [
        {
          "output_type": "execute_result",
          "data": {
            "application/vnd.google.colaboratory.intrinsic+json": {
              "type": "string"
            },
            "text/plain": [
              "'Beauty has so many forms, and I think the most beautiful thing is confidence and loving yourself.'"
            ]
          },
          "metadata": {
            "tags": []
          },
          "execution_count": 92
        }
      ]
    },
    {
      "cell_type": "code",
      "metadata": {
        "id": "80zNvZxD_cd3",
        "outputId": "9b67e597-a220-4922-9dfb-8da210f36be3",
        "colab": {
          "base_uri": "https://localhost:8080/",
          "height": 35
        }
      },
      "source": [
        "s_frase.upper()"
      ],
      "execution_count": 93,
      "outputs": [
        {
          "output_type": "execute_result",
          "data": {
            "application/vnd.google.colaboratory.intrinsic+json": {
              "type": "string"
            },
            "text/plain": [
              "'BEAUTY HAS SO MANY FORMS, AND I THINK THE MOST BEAUTIFUL THING IS CONFIDENCE AND LOVING YOURSELF.'"
            ]
          },
          "metadata": {
            "tags": []
          },
          "execution_count": 93
        }
      ]
    },
    {
      "cell_type": "markdown",
      "metadata": {
        "id": "orwwTq7A4Zl1"
      },
      "source": [
        "## s_str.strip()"
      ]
    },
    {
      "cell_type": "code",
      "metadata": {
        "id": "QbbCGcg1_m9t"
      },
      "source": [
        "s_frase2 = '  Brasil: Ordem e Progresso!  '"
      ],
      "execution_count": 94,
      "outputs": []
    },
    {
      "cell_type": "code",
      "metadata": {
        "id": "ehLGkpUC_h0A",
        "outputId": "dbd69cd6-1fc4-4807-f311-61eb5868fcf3",
        "colab": {
          "base_uri": "https://localhost:8080/",
          "height": 35
        }
      },
      "source": [
        "# remove os espaços em branco à direita e à esquerda da string\n",
        "s_frase2.strip()"
      ],
      "execution_count": 95,
      "outputs": [
        {
          "output_type": "execute_result",
          "data": {
            "application/vnd.google.colaboratory.intrinsic+json": {
              "type": "string"
            },
            "text/plain": [
              "'Brasil: Ordem e Progresso!'"
            ]
          },
          "metadata": {
            "tags": []
          },
          "execution_count": 95
        }
      ]
    },
    {
      "cell_type": "markdown",
      "metadata": {
        "id": "AC0VIn1Mqeyb"
      },
      "source": [
        "Observe acima que os espaços antes e depois da string foram excluídos."
      ]
    },
    {
      "cell_type": "markdown",
      "metadata": {
        "id": "xFTubPhW4e_c"
      },
      "source": [
        "## s_str.isdigit()"
      ]
    },
    {
      "cell_type": "code",
      "metadata": {
        "id": "1xK9VoBR_7-C",
        "outputId": "b65ff09e-b474-4e9b-f1c7-2dec04a0006e",
        "colab": {
          "base_uri": "https://localhost:8080/",
          "height": 35
        }
      },
      "source": [
        "s_frase.isdigit()"
      ],
      "execution_count": 96,
      "outputs": [
        {
          "output_type": "execute_result",
          "data": {
            "text/plain": [
              "False"
            ]
          },
          "metadata": {
            "tags": []
          },
          "execution_count": 96
        }
      ]
    },
    {
      "cell_type": "code",
      "metadata": {
        "id": "J2o9UAkT__vY",
        "outputId": "b50aab55-37f5-491f-ded7-0e26c6a4ca99",
        "colab": {
          "base_uri": "https://localhost:8080/",
          "height": 35
        }
      },
      "source": [
        "'1234567a'.isdigit()"
      ],
      "execution_count": 100,
      "outputs": [
        {
          "output_type": "execute_result",
          "data": {
            "text/plain": [
              "False"
            ]
          },
          "metadata": {
            "tags": []
          },
          "execution_count": 100
        }
      ]
    },
    {
      "cell_type": "code",
      "metadata": {
        "id": "Ll_nLgOpAFC2",
        "outputId": "89271319-5633-4cff-c213-a605bf0fcdb7",
        "colab": {
          "base_uri": "https://localhost:8080/",
          "height": 35
        }
      },
      "source": [
        "'1234567'.isdigit()"
      ],
      "execution_count": 101,
      "outputs": [
        {
          "output_type": "execute_result",
          "data": {
            "text/plain": [
              "True"
            ]
          },
          "metadata": {
            "tags": []
          },
          "execution_count": 101
        }
      ]
    },
    {
      "cell_type": "code",
      "metadata": {
        "id": "qtnBt-jBsqtz",
        "outputId": "71698a52-2a27-4c6a-9318-553e10be4062",
        "colab": {
          "base_uri": "https://localhost:8080/",
          "height": 35
        }
      },
      "source": [
        "import numpy as np\n",
        "b = np.array(['a', 'b', 'c'])\n",
        "b"
      ],
      "execution_count": 131,
      "outputs": [
        {
          "output_type": "execute_result",
          "data": {
            "text/plain": [
              "array(['a', 'b', 'c'], dtype='<U1')"
            ]
          },
          "metadata": {
            "tags": []
          },
          "execution_count": 131
        }
      ]
    },
    {
      "cell_type": "code",
      "metadata": {
        "id": "tl1erIXcujAZ",
        "outputId": "70eab92c-71ac-438d-9be9-7d82513f867a",
        "colab": {
          "base_uri": "https://localhost:8080/",
          "height": 35
        }
      },
      "source": [
        "b[0], b[0].isdigit()"
      ],
      "execution_count": 132,
      "outputs": [
        {
          "output_type": "execute_result",
          "data": {
            "text/plain": [
              "('a', False)"
            ]
          },
          "metadata": {
            "tags": []
          },
          "execution_count": 132
        }
      ]
    },
    {
      "cell_type": "code",
      "metadata": {
        "id": "_kmmVuTUtdqj",
        "outputId": "97f17c0b-9a7f-4499-f474-c5fe2e3c7efa",
        "colab": {
          "base_uri": "https://localhost:8080/",
          "height": 35
        }
      },
      "source": [
        "teste.isdigit()"
      ],
      "execution_count": 116,
      "outputs": [
        {
          "output_type": "execute_result",
          "data": {
            "text/plain": [
              "False"
            ]
          },
          "metadata": {
            "tags": []
          },
          "execution_count": 116
        }
      ]
    },
    {
      "cell_type": "markdown",
      "metadata": {
        "id": "NYN11jnx4l1z"
      },
      "source": [
        "## s_string.isspace()"
      ]
    },
    {
      "cell_type": "code",
      "metadata": {
        "id": "imww41-C1XXK",
        "outputId": "7aacebe0-583c-42ba-c84c-b44a9082b485",
        "colab": {
          "base_uri": "https://localhost:8080/",
          "height": 52
        }
      },
      "source": [
        "s_frase, s_frase[6:7].isspace()"
      ],
      "execution_count": 135,
      "outputs": [
        {
          "output_type": "execute_result",
          "data": {
            "text/plain": [
              "('Beauty has so many forms, and I think the most beautiful thing is confidence and loving yourself.',\n",
              " True)"
            ]
          },
          "metadata": {
            "tags": []
          },
          "execution_count": 135
        }
      ]
    },
    {
      "cell_type": "markdown",
      "metadata": {
        "id": "yft3MA264ot7"
      },
      "source": [
        "## s_string.startswith('s_Character')"
      ]
    },
    {
      "cell_type": "code",
      "metadata": {
        "id": "SB4SoJxuCTlY",
        "outputId": "8a5ae313-abf7-4f03-e7c4-be5a1765941c",
        "colab": {
          "base_uri": "https://localhost:8080/",
          "height": 35
        }
      },
      "source": [
        "s_frase"
      ],
      "execution_count": 136,
      "outputs": [
        {
          "output_type": "execute_result",
          "data": {
            "application/vnd.google.colaboratory.intrinsic+json": {
              "type": "string"
            },
            "text/plain": [
              "'Beauty has so many forms, and I think the most beautiful thing is confidence and loving yourself.'"
            ]
          },
          "metadata": {
            "tags": []
          },
          "execution_count": 136
        }
      ]
    },
    {
      "cell_type": "code",
      "metadata": {
        "id": "L1hY57TW4tL5",
        "outputId": "1af3a6de-bd8a-4fee-fa9a-b0c80f9bf05c",
        "colab": {
          "base_uri": "https://localhost:8080/",
          "height": 35
        }
      },
      "source": [
        "s_frase.startswith('Beauty')"
      ],
      "execution_count": 137,
      "outputs": [
        {
          "output_type": "execute_result",
          "data": {
            "text/plain": [
              "True"
            ]
          },
          "metadata": {
            "tags": []
          },
          "execution_count": 137
        }
      ]
    },
    {
      "cell_type": "code",
      "metadata": {
        "id": "HdAJPhAH40C6",
        "outputId": "f4f1ebfb-931b-49d8-90c6-006e5d989c23",
        "colab": {
          "base_uri": "https://localhost:8080/",
          "height": 35
        }
      },
      "source": [
        "s_frase.startswith('Beautiful')"
      ],
      "execution_count": 138,
      "outputs": [
        {
          "output_type": "execute_result",
          "data": {
            "text/plain": [
              "False"
            ]
          },
          "metadata": {
            "tags": []
          },
          "execution_count": 138
        }
      ]
    },
    {
      "cell_type": "markdown",
      "metadata": {
        "id": "aJ0XLdMN45kW"
      },
      "source": [
        "## s_string.endswith('s_Character')"
      ]
    },
    {
      "cell_type": "code",
      "metadata": {
        "id": "lIbh8oBICU3M",
        "outputId": "89c5e1af-2c7d-4bdb-b60f-599041643941",
        "colab": {
          "base_uri": "https://localhost:8080/",
          "height": 35
        }
      },
      "source": [
        "s_frase"
      ],
      "execution_count": 139,
      "outputs": [
        {
          "output_type": "execute_result",
          "data": {
            "application/vnd.google.colaboratory.intrinsic+json": {
              "type": "string"
            },
            "text/plain": [
              "'Beauty has so many forms, and I think the most beautiful thing is confidence and loving yourself.'"
            ]
          },
          "metadata": {
            "tags": []
          },
          "execution_count": 139
        }
      ]
    },
    {
      "cell_type": "markdown",
      "metadata": {
        "id": "fST0sCs6q3Se"
      },
      "source": [
        "A string s_frase termina com '!'?"
      ]
    },
    {
      "cell_type": "code",
      "metadata": {
        "id": "1oy9r22A5J2g",
        "outputId": "de3bfd57-8d19-4577-84c1-3623015beaa1",
        "colab": {
          "base_uri": "https://localhost:8080/",
          "height": 35
        }
      },
      "source": [
        "s_frase.endswith('!')"
      ],
      "execution_count": 141,
      "outputs": [
        {
          "output_type": "execute_result",
          "data": {
            "text/plain": [
              "False"
            ]
          },
          "metadata": {
            "tags": []
          },
          "execution_count": 141
        }
      ]
    },
    {
      "cell_type": "code",
      "metadata": {
        "id": "vgYoKnvCvAQH"
      },
      "source": [
        ""
      ],
      "execution_count": null,
      "outputs": []
    },
    {
      "cell_type": "markdown",
      "metadata": {
        "id": "wVAE2jyDq8lB"
      },
      "source": [
        "A string s_frase termina com '.'?"
      ]
    },
    {
      "cell_type": "code",
      "metadata": {
        "id": "1v332nD7qzga",
        "outputId": "228def05-f74a-4836-b025-61d4aeaf50d2",
        "colab": {
          "base_uri": "https://localhost:8080/",
          "height": 35
        }
      },
      "source": [
        "s_frase.endswith('.')"
      ],
      "execution_count": 142,
      "outputs": [
        {
          "output_type": "execute_result",
          "data": {
            "text/plain": [
              "True"
            ]
          },
          "metadata": {
            "tags": []
          },
          "execution_count": 142
        }
      ]
    },
    {
      "cell_type": "markdown",
      "metadata": {
        "id": "g4T-n_Vq5kje"
      },
      "source": [
        "## s_string.find('s_Charactere')"
      ]
    },
    {
      "cell_type": "code",
      "metadata": {
        "id": "fpYCC-pACWPb",
        "outputId": "371c7e22-b1d3-4cbd-8c51-11022dfaacf4",
        "colab": {
          "base_uri": "https://localhost:8080/",
          "height": 35
        }
      },
      "source": [
        "s_frase"
      ],
      "execution_count": 143,
      "outputs": [
        {
          "output_type": "execute_result",
          "data": {
            "application/vnd.google.colaboratory.intrinsic+json": {
              "type": "string"
            },
            "text/plain": [
              "'Beauty has so many forms, and I think the most beautiful thing is confidence and loving yourself.'"
            ]
          },
          "metadata": {
            "tags": []
          },
          "execution_count": 143
        }
      ]
    },
    {
      "cell_type": "code",
      "metadata": {
        "id": "NRIG8n0259yW",
        "outputId": "d5f77ff5-e8ec-443a-d580-35e70043e280",
        "colab": {
          "base_uri": "https://localhost:8080/",
          "height": 35
        }
      },
      "source": [
        "# Primeira ocorrência de ',':\n",
        "s_frase.find(',')"
      ],
      "execution_count": 144,
      "outputs": [
        {
          "output_type": "execute_result",
          "data": {
            "text/plain": [
              "24"
            ]
          },
          "metadata": {
            "tags": []
          },
          "execution_count": 144
        }
      ]
    },
    {
      "cell_type": "markdown",
      "metadata": {
        "id": "x1RDdI6x6YD8"
      },
      "source": [
        "Como esperado, substr= ',' faz parte de s_frase."
      ]
    },
    {
      "cell_type": "markdown",
      "metadata": {
        "id": "wXnNRYW46vhX"
      },
      "source": [
        "Se 's_Character' não faz parte de s_frase, Python retorna -1, como abaixo:"
      ]
    },
    {
      "cell_type": "code",
      "metadata": {
        "id": "k2Ok8__-654p",
        "outputId": "b413cadf-0ee3-41cb-cd18-09c114b1a986",
        "colab": {
          "base_uri": "https://localhost:8080/",
          "height": 35
        }
      },
      "source": [
        "s_frase.find('Beauti') # 'i' ao invés de 'y'"
      ],
      "execution_count": 145,
      "outputs": [
        {
          "output_type": "execute_result",
          "data": {
            "text/plain": [
              "-1"
            ]
          },
          "metadata": {
            "tags": []
          },
          "execution_count": 145
        }
      ]
    },
    {
      "cell_type": "markdown",
      "metadata": {
        "id": "p5jNHCDQ7Bl6"
      },
      "source": [
        "## s_string.replace(old, new)"
      ]
    },
    {
      "cell_type": "markdown",
      "metadata": {
        "id": "UUM3cnlDaqPs"
      },
      "source": [
        "### Exemplo 1"
      ]
    },
    {
      "cell_type": "code",
      "metadata": {
        "id": "Vi7TBVoXr0Uk",
        "outputId": "f48d93dd-d52b-4e10-b63f-bfecebac71f4",
        "colab": {
          "base_uri": "https://localhost:8080/",
          "height": 52
        }
      },
      "source": [
        "s_frase = \"Beauty has so many forms, and I think the most beautiful thing is confidence and loving yourself.\"\n",
        "s_frase, id(s_frase)"
      ],
      "execution_count": 157,
      "outputs": [
        {
          "output_type": "execute_result",
          "data": {
            "text/plain": [
              "('Beauty has so many forms, and I think the most beautiful thing is confidence and loving yourself.',\n",
              " 139652221865432)"
            ]
          },
          "metadata": {
            "tags": []
          },
          "execution_count": 157
        }
      ]
    },
    {
      "cell_type": "code",
      "metadata": {
        "id": "Dq8_S0f6vUkG",
        "outputId": "51e0c1d0-be10-4090-cdc2-3cac970fff64",
        "colab": {
          "base_uri": "https://localhost:8080/",
          "height": 52
        }
      },
      "source": [
        "s_frase = s_frase.replace('has', 'tem')\n",
        "s_frase, id(s_frase)"
      ],
      "execution_count": 158,
      "outputs": [
        {
          "output_type": "execute_result",
          "data": {
            "text/plain": [
              "('Beauty tem so many forms, and I think the most beautiful thing is confidence and loving yourself.',\n",
              " 139652221864976)"
            ]
          },
          "metadata": {
            "tags": []
          },
          "execution_count": 158
        }
      ]
    },
    {
      "cell_type": "code",
      "metadata": {
        "id": "MWFiLutR6cRR",
        "outputId": "0b5269cd-a836-4dfb-c066-3df4d9a1ef8f",
        "colab": {
          "base_uri": "https://localhost:8080/",
          "height": 35
        }
      },
      "source": [
        "s_frase.replace('most', 'MOST')"
      ],
      "execution_count": 159,
      "outputs": [
        {
          "output_type": "execute_result",
          "data": {
            "application/vnd.google.colaboratory.intrinsic+json": {
              "type": "string"
            },
            "text/plain": [
              "'Beauty tem so many forms, and I think the MOST beautiful thing is confidence and loving yourself.'"
            ]
          },
          "metadata": {
            "tags": []
          },
          "execution_count": 159
        }
      ]
    },
    {
      "cell_type": "markdown",
      "metadata": {
        "id": "RT46g3S0awnf"
      },
      "source": [
        "### Exemplo 2\n",
        "* Remover o caractere ' ' por ''."
      ]
    },
    {
      "cell_type": "code",
      "metadata": {
        "id": "UTKsbNIz9lnX",
        "outputId": "5579f810-a57d-44eb-dab5-0bfc2e3c8095",
        "colab": {
          "base_uri": "https://localhost:8080/",
          "height": 35
        }
      },
      "source": [
        "s_frase.replace(' ', '')"
      ],
      "execution_count": 160,
      "outputs": [
        {
          "output_type": "execute_result",
          "data": {
            "application/vnd.google.colaboratory.intrinsic+json": {
              "type": "string"
            },
            "text/plain": [
              "'Beautytemsomanyforms,andIthinkthemostbeautifulthingisconfidenceandlovingyourself.'"
            ]
          },
          "metadata": {
            "tags": []
          },
          "execution_count": 160
        }
      ]
    },
    {
      "cell_type": "markdown",
      "metadata": {
        "id": "TzPrEftNa69C"
      },
      "source": [
        "### Exemplo 3\n",
        "* Vamos tentar substituir o caracter '?' por '!'"
      ]
    },
    {
      "cell_type": "code",
      "metadata": {
        "id": "E0FTeY_lsNke",
        "outputId": "eb58ca4b-377d-443a-8c9b-b895223c4385",
        "colab": {
          "base_uri": "https://localhost:8080/",
          "height": 35
        }
      },
      "source": [
        "s_frase.replace('?', '!')"
      ],
      "execution_count": 161,
      "outputs": [
        {
          "output_type": "execute_result",
          "data": {
            "application/vnd.google.colaboratory.intrinsic+json": {
              "type": "string"
            },
            "text/plain": [
              "'Beauty tem so many forms, and I think the most beautiful thing is confidence and loving yourself.'"
            ]
          },
          "metadata": {
            "tags": []
          },
          "execution_count": 161
        }
      ]
    },
    {
      "cell_type": "markdown",
      "metadata": {
        "id": "mgzh1KQG7bx6"
      },
      "source": [
        "O que aconteceu? Não substituiu... Porque?\n",
        "\n",
        "Saberia explicar porque o Python não substituiu?"
      ]
    },
    {
      "cell_type": "markdown",
      "metadata": {
        "id": "DudTwJSX7ltC"
      },
      "source": [
        "E agora?"
      ]
    },
    {
      "cell_type": "code",
      "metadata": {
        "id": "-2BZQ6mG7hh6",
        "outputId": "2a42077a-00b5-4854-e5e7-6f26c4c18626",
        "colab": {
          "base_uri": "https://localhost:8080/",
          "height": 35
        }
      },
      "source": [
        "s_frase.replace('.', '!')"
      ],
      "execution_count": 162,
      "outputs": [
        {
          "output_type": "execute_result",
          "data": {
            "application/vnd.google.colaboratory.intrinsic+json": {
              "type": "string"
            },
            "text/plain": [
              "'Beauty tem so many forms, and I think the most beautiful thing is confidence and loving yourself!'"
            ]
          },
          "metadata": {
            "tags": []
          },
          "execution_count": 162
        }
      ]
    },
    {
      "cell_type": "markdown",
      "metadata": {
        "id": "42v6zRUO8DlQ"
      },
      "source": [
        "... Entretanto, qual o conteúdo de s_frase?"
      ]
    },
    {
      "cell_type": "code",
      "metadata": {
        "id": "Lmo4aiol7qUF",
        "outputId": "2a5a617b-2ef0-4139-c163-5091730a1bac",
        "colab": {
          "base_uri": "https://localhost:8080/",
          "height": 35
        }
      },
      "source": [
        "s_frase"
      ],
      "execution_count": 163,
      "outputs": [
        {
          "output_type": "execute_result",
          "data": {
            "application/vnd.google.colaboratory.intrinsic+json": {
              "type": "string"
            },
            "text/plain": [
              "'Beauty tem so many forms, and I think the most beautiful thing is confidence and loving yourself.'"
            ]
          },
          "metadata": {
            "tags": []
          },
          "execution_count": 163
        }
      ]
    },
    {
      "cell_type": "markdown",
      "metadata": {
        "id": "ap9nFc2E8MAG"
      },
      "source": [
        "**DICA**: Strings are imutáveis! A forma correta seria:"
      ]
    },
    {
      "cell_type": "code",
      "metadata": {
        "id": "eH8yHJik8U0N"
      },
      "source": [
        "s_frase= s_frase.replace('.', '!')"
      ],
      "execution_count": 164,
      "outputs": []
    },
    {
      "cell_type": "markdown",
      "metadata": {
        "id": "nHCudHwJ8eSf"
      },
      "source": [
        "Desta forma, redefinimos uma nova variável chamada s_frase. Mas é a mesma variável que anteriormente, certo?"
      ]
    },
    {
      "cell_type": "code",
      "metadata": {
        "id": "WRFcfuzH8cBL",
        "outputId": "4c9f63e2-d95b-4c59-e958-066453d2acd0",
        "colab": {
          "base_uri": "https://localhost:8080/",
          "height": 35
        }
      },
      "source": [
        "s_frase"
      ],
      "execution_count": 165,
      "outputs": [
        {
          "output_type": "execute_result",
          "data": {
            "application/vnd.google.colaboratory.intrinsic+json": {
              "type": "string"
            },
            "text/plain": [
              "'Beauty tem so many forms, and I think the most beautiful thing is confidence and loving yourself!'"
            ]
          },
          "metadata": {
            "tags": []
          },
          "execution_count": 165
        }
      ]
    },
    {
      "cell_type": "markdown",
      "metadata": {
        "id": "aL2UZp9T8lAk"
      },
      "source": [
        "## s_string.split('sep')"
      ]
    },
    {
      "cell_type": "markdown",
      "metadata": {
        "id": "pCPa0pBqbHdK"
      },
      "source": [
        "### Exemplo 1"
      ]
    },
    {
      "cell_type": "code",
      "metadata": {
        "id": "7y0ieQQm9Anx",
        "outputId": "01a0bc1c-b056-4b29-dc67-fc2f9126e848",
        "colab": {
          "base_uri": "https://localhost:8080/",
          "height": 35
        }
      },
      "source": [
        "s_frase.split(':')"
      ],
      "execution_count": 166,
      "outputs": [
        {
          "output_type": "execute_result",
          "data": {
            "text/plain": [
              "['Beauty tem so many forms, and I think the most beautiful thing is confidence and loving yourself!']"
            ]
          },
          "metadata": {
            "tags": []
          },
          "execution_count": 166
        }
      ]
    },
    {
      "cell_type": "markdown",
      "metadata": {
        "id": "aS-DYJAyshwc"
      },
      "source": [
        "Não separou nada! Correto, pois o Python separa somente quando enconra o separador ':'"
      ]
    },
    {
      "cell_type": "markdown",
      "metadata": {
        "id": "f3YeNvTDss_X"
      },
      "source": [
        "Vamos tentar o separador ','..."
      ]
    },
    {
      "cell_type": "code",
      "metadata": {
        "id": "1kNciI7f92_n",
        "outputId": "be262600-2d40-4f75-80fd-a6c5c3dec413",
        "colab": {
          "base_uri": "https://localhost:8080/",
          "height": 35
        }
      },
      "source": [
        "s_frase"
      ],
      "execution_count": 167,
      "outputs": [
        {
          "output_type": "execute_result",
          "data": {
            "application/vnd.google.colaboratory.intrinsic+json": {
              "type": "string"
            },
            "text/plain": [
              "'Beauty tem so many forms, and I think the most beautiful thing is confidence and loving yourself!'"
            ]
          },
          "metadata": {
            "tags": []
          },
          "execution_count": 167
        }
      ]
    },
    {
      "cell_type": "code",
      "metadata": {
        "id": "E3QlgKQYsv3k",
        "outputId": "b0b9ac48-cfac-4638-e4be-f711a9fe1d16",
        "colab": {
          "base_uri": "https://localhost:8080/",
          "height": 52
        }
      },
      "source": [
        "s_frase.split(',')"
      ],
      "execution_count": 170,
      "outputs": [
        {
          "output_type": "execute_result",
          "data": {
            "text/plain": [
              "['Beauty tem so many forms',\n",
              " ' and I think the most beautiful thing is confidence and loving yourself!']"
            ]
          },
          "metadata": {
            "tags": []
          },
          "execution_count": 170
        }
      ]
    },
    {
      "cell_type": "markdown",
      "metadata": {
        "id": "AA-z6jcQbKtq"
      },
      "source": [
        "### Exemplo 2"
      ]
    },
    {
      "cell_type": "code",
      "metadata": {
        "id": "2ATukxpd9kij"
      },
      "source": [
        "s_frase3 = '73540877412968744629867535897645310956547894653240984764'"
      ],
      "execution_count": 172,
      "outputs": []
    },
    {
      "cell_type": "markdown",
      "metadata": {
        "id": "506UkCh39xFS"
      },
      "source": [
        "Qual o output do code abaixo:"
      ]
    },
    {
      "cell_type": "code",
      "metadata": {
        "id": "C2G9vyGt91Ir",
        "outputId": "5858543d-5d63-4897-ae0a-b73521bec13c",
        "colab": {
          "base_uri": "https://localhost:8080/",
          "height": 156
        }
      },
      "source": [
        "s_frase3.split('6')"
      ],
      "execution_count": 173,
      "outputs": [
        {
          "output_type": "execute_result",
          "data": {
            "text/plain": [
              "['735408774129',\n",
              " '8744',\n",
              " '298',\n",
              " '7535897',\n",
              " '4531095',\n",
              " '547894',\n",
              " '532409847',\n",
              " '4']"
            ]
          },
          "metadata": {
            "tags": []
          },
          "execution_count": 173
        }
      ]
    },
    {
      "cell_type": "code",
      "metadata": {
        "id": "OiVCdu04-GwZ",
        "outputId": "f3c90f54-710a-4e86-b209-3e4a2cee898a",
        "colab": {
          "base_uri": "https://localhost:8080/",
          "height": 35
        }
      },
      "source": [
        "s_frase3.split('6')[0]"
      ],
      "execution_count": 174,
      "outputs": [
        {
          "output_type": "execute_result",
          "data": {
            "application/vnd.google.colaboratory.intrinsic+json": {
              "type": "string"
            },
            "text/plain": [
              "'735408774129'"
            ]
          },
          "metadata": {
            "tags": []
          },
          "execution_count": 174
        }
      ]
    },
    {
      "cell_type": "markdown",
      "metadata": {
        "id": "S3gX9y-tz9ZE"
      },
      "source": [
        "## s_string.join()"
      ]
    },
    {
      "cell_type": "code",
      "metadata": {
        "id": "6jwpWDWb0NFO",
        "outputId": "84d0ac0e-d329-4eeb-8af6-c8d7a138db15",
        "colab": {
          "base_uri": "https://localhost:8080/",
          "height": 35
        }
      },
      "source": [
        "'-'.join(['Strings','são','imutáveis']) # Observe que os elementos a serem concatenados estão entre []."
      ],
      "execution_count": 177,
      "outputs": [
        {
          "output_type": "execute_result",
          "data": {
            "application/vnd.google.colaboratory.intrinsic+json": {
              "type": "string"
            },
            "text/plain": [
              "'Strings-são-imutáveis'"
            ]
          },
          "metadata": {
            "tags": []
          },
          "execution_count": 177
        }
      ]
    },
    {
      "cell_type": "code",
      "metadata": {
        "id": "ueCpTzdH0XeJ",
        "outputId": "6ae8455f-f053-4dd7-abdf-980de1d203cd",
        "colab": {
          "base_uri": "https://localhost:8080/",
          "height": 35
        }
      },
      "source": [
        "s_frase4 = ' '.join(['Strings','são','imutáveis'])\n",
        "s_frase4"
      ],
      "execution_count": 178,
      "outputs": [
        {
          "output_type": "execute_result",
          "data": {
            "application/vnd.google.colaboratory.intrinsic+json": {
              "type": "string"
            },
            "text/plain": [
              "'Strings são imutáveis'"
            ]
          },
          "metadata": {
            "tags": []
          },
          "execution_count": 178
        }
      ]
    },
    {
      "cell_type": "markdown",
      "metadata": {
        "id": "5bW0K_5q-Ud2"
      },
      "source": [
        "## Membership 'in' e 'not in'\n",
        "* Este operador testa se um valor é ou não membro de uma sequência (list, string, ou  dictionary)."
      ]
    },
    {
      "cell_type": "code",
      "metadata": {
        "id": "7e0_9IfEtSf8",
        "outputId": "02c547f9-5e87-4094-aee8-6da5d6d5e765",
        "colab": {
          "base_uri": "https://localhost:8080/",
          "height": 35
        }
      },
      "source": [
        "s_frase"
      ],
      "execution_count": 179,
      "outputs": [
        {
          "output_type": "execute_result",
          "data": {
            "application/vnd.google.colaboratory.intrinsic+json": {
              "type": "string"
            },
            "text/plain": [
              "'Beauty tem so many forms, and I think the most beautiful thing is confidence and loving yourself!'"
            ]
          },
          "metadata": {
            "tags": []
          },
          "execution_count": 179
        }
      ]
    },
    {
      "cell_type": "code",
      "metadata": {
        "id": "NKhMZwTG-XZA",
        "outputId": "bac665a1-bd5f-43ea-9f53-c4d217de4497",
        "colab": {
          "base_uri": "https://localhost:8080/",
          "height": 35
        }
      },
      "source": [
        "'Beauti' in s_frase # Com 'i' ao invés de 'y'"
      ],
      "execution_count": 180,
      "outputs": [
        {
          "output_type": "execute_result",
          "data": {
            "text/plain": [
              "False"
            ]
          },
          "metadata": {
            "tags": []
          },
          "execution_count": 180
        }
      ]
    },
    {
      "cell_type": "code",
      "metadata": {
        "id": "brLjaj1B-b9Q",
        "outputId": "217bba95-ab90-46c1-d26c-13daaeddcbc8",
        "colab": {
          "base_uri": "https://localhost:8080/",
          "height": 35
        }
      },
      "source": [
        "'Beauty' in s_frase"
      ],
      "execution_count": 182,
      "outputs": [
        {
          "output_type": "execute_result",
          "data": {
            "text/plain": [
              "True"
            ]
          },
          "metadata": {
            "tags": []
          },
          "execution_count": 182
        }
      ]
    },
    {
      "cell_type": "code",
      "metadata": {
        "id": "0cccmPea-gkw",
        "outputId": "51634ca7-e0c3-4729-d75e-4562c06eeabc",
        "colab": {
          "base_uri": "https://localhost:8080/",
          "height": 35
        }
      },
      "source": [
        "'Beautiful' not in s_frase"
      ],
      "execution_count": 183,
      "outputs": [
        {
          "output_type": "execute_result",
          "data": {
            "text/plain": [
              "True"
            ]
          },
          "metadata": {
            "tags": []
          },
          "execution_count": 183
        }
      ]
    },
    {
      "cell_type": "code",
      "metadata": {
        "id": "AD7GIeAptVZM",
        "outputId": "075eb67a-95c1-4b96-8a45-c69765f8a389",
        "colab": {
          "base_uri": "https://localhost:8080/",
          "height": 35
        }
      },
      "source": [
        "'beautiful' not in s_frase"
      ],
      "execution_count": 184,
      "outputs": [
        {
          "output_type": "execute_result",
          "data": {
            "text/plain": [
              "False"
            ]
          },
          "metadata": {
            "tags": []
          },
          "execution_count": 184
        }
      ]
    },
    {
      "cell_type": "markdown",
      "metadata": {
        "id": "mVU0GxfUf9H1"
      },
      "source": [
        "___\n",
        "# **WRAP UP**"
      ]
    },
    {
      "cell_type": "markdown",
      "metadata": {
        "id": "lbj-kA95gAzI"
      },
      "source": [
        "___\n",
        "# **EXERCÍCIOS**"
      ]
    },
    {
      "cell_type": "markdown",
      "metadata": {
        "id": "x1TlgKY0xWB1"
      },
      "source": [
        "## Exercício 1\n",
        "Consulte a página [Python Data Type: String - Exercises, Practice, Solution](https://www.w3resource.com/python-exercises/string/) para mais exercícios relacionados á este tópico."
      ]
    }
  ]
}