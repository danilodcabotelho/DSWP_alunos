{
  "nbformat": 4,
  "nbformat_minor": 0,
  "metadata": {
    "colab": {
      "name": "Cópia de Exercicio_1_NB15_00_ML_Nelio",
      "provenance": [],
      "collapsed_sections": [],
      "authorship_tag": "ABX9TyO1hTaTTNs+P0tMFCUKnr8P",
      "include_colab_link": true
    },
    "kernelspec": {
      "name": "python3",
      "display_name": "Python 3"
    }
  },
  "cells": [
    {
      "cell_type": "markdown",
      "metadata": {
        "id": "view-in-github",
        "colab_type": "text"
      },
      "source": [
        "<a href=\"https://colab.research.google.com/github/danilodcabotelho/DSWP_alunos/blob/main/C%C3%B3pia_de_Exercicio_1_NB15_00_ML_Nelio.ipynb\" target=\"_parent\"><img src=\"https://colab.research.google.com/assets/colab-badge.svg\" alt=\"Open In Colab\"/></a>"
      ]
    },
    {
      "cell_type": "markdown",
      "metadata": {
        "id": "oP2OeSsNGQDd"
      },
      "source": [
        "# EXERCÍCIO 1 - NB_15_00_ML_Nelio_Machado\n",
        "### Colaciono alguns banners com a linguagem, Conceitos e Funções pré-criadas\n"
      ]
    },
    {
      "cell_type": "markdown",
      "metadata": {
        "id": "Yuj18CzME7Qs"
      },
      "source": [
        "\n",
        "![Scikit-Learn](https://github.com/MathMachado/Materials/blob/master/scikit-learn-1.png?raw=true)\n",
        "\n"
      ]
    },
    {
      "cell_type": "markdown",
      "metadata": {
        "id": "KhMlobz1FWUt"
      },
      "source": [
        "## Confusion Matrix\n",
        "* Termos associados à Confusion Matrix:\n",
        "    * **Verdadeiro Positivo** (TP = True Positive): Quando o valor observado é True e o modelo estima como True. Ou seja, o modelo acertou na estimativa.\n",
        "        * Exemplo: **Observado**: Fraude (Positive); **Modelo**: Fraude (Positive) --> Modelo acertou!\n",
        "    * **Verdadeiro Negativo** (TN = True Negative): Quando o valor observado é False e o modelo estima como False. Ou seja, o modelo acertou na estimativa;\n",
        "        * Exemplo: **Observado**: NÃO-Fraude (Negative); **Modelo**: NÃO-Fraude (Negative) --> Modelo acertou!\n",
        "    * **Falso Positivo** (FP = False Positive): Quando o valor observado é False e o modelo estima como True. Ou seja, o modelo errou na estimativa. \n",
        "        * Exemplo: **Observado**: NÃO-Fraude (Negative); **Modelo**: Fraude (Positive) --> Modelo errou!\n",
        "    * **Falso Negativo** (FN = False Negative): Quando o valor observado é True e o modelo estima como False.\n",
        "        * Exemplo: **Observado**: Fraude (Positive); **Modelo**: NÃO-Fraude (Negative) --> Modelo errou!\n",
        "\n",
        "* Consulte [Confusion matrix](https://scikit-learn.org/stable/auto_examples/model_selection/plot_confusion_matrix.html#sphx-glr-auto-examples-model-selection-plot-confusion-matrix-py)\n",
        "\n",
        "![ConfusionMatrix](https://github.com/MathMachado/Materials/blob/master/ConfusionMatrix.PNG?raw=true)\n",
        "\n",
        "Source: [Confusion Matrix](https://subscription.packtpub.com/book/big_data_and_business_intelligence/9781838555078/6/ch06lvl1sec34/confusion-matrix)\n"
      ]
    },
    {
      "cell_type": "markdown",
      "metadata": {
        "id": "FIG6VN7uIgXr"
      },
      "source": [
        "# Abaixo as Métricas a obter da Matriz Confusão (Confusion-Matrix):\n",
        "##Accuracy\n",
        "##Precision (Specificity)\n",
        "##Recall (Sensitivity)\n",
        "##Specificity\n",
        "##F1-Score\n"
      ]
    },
    {
      "cell_type": "markdown",
      "metadata": {
        "id": "7Ix_4dV-Fhvs"
      },
      "source": [
        "## Accuracy\n",
        "> Accuracy - é o número de previsões corretas feitas pelo modelo.\n",
        "\n",
        "Responde à seguinte pergunta:\n",
        "\n",
        "```\n",
        "Com que frequência o classificador (modelo preditivo) classifica corretamente?\n",
        "```\n",
        "\n",
        "$$Accuracy= \\frac{TP+TN}{TP+TN+FP+FN}$$"
      ]
    },
    {
      "cell_type": "markdown",
      "metadata": {
        "id": "vvJC16VWFh3N"
      },
      "source": [
        "## Precision (ou Specificity)\n",
        "> **Precision** - fornece informações sobre o desempenho em relação a Falsos Positivos (quantos capturamos).\n",
        "\n",
        "Responde à seguinte pergunta:\n",
        "\n",
        "```\n",
        "Com relação ao resultado Positivo, com que frequência o classificador está correto?\n",
        "```\n",
        "\n",
        "\n",
        "$$Precision= \\frac{TP}{TP+FP}$$\n",
        "\n",
        "**Exemplo**: Precison nos dirá a proporção de clientes que o modelo estimou como sendo Fraude quando, na verdade, são fraude.\n",
        "\n",
        "**Comentário**: Se nosso foco é minimizar Falso Negativos (FN), então precisamos nos esforçar para termos Recall próximo de 100%."
      ]
    },
    {
      "cell_type": "markdown",
      "metadata": {
        "id": "sxuH6RdVFiEl"
      },
      "source": [
        ""
      ]
    },
    {
      "cell_type": "markdown",
      "metadata": {
        "id": "a2skLzIeFiO0"
      },
      "source": [
        "## Recall (ou Sensitivity)\n",
        "> **Recall** - nos fornece informações sobre o desempenho de um classificador em relação a Falsos Negativos (quantos perdemos).\n",
        "\n",
        "Responde à seguinte pergunta:\n",
        "\n",
        "```\n",
        "Quando o valor observado é Positivo, com que frequência o classificador está correto?\n",
        "```\n",
        "\n",
        "$$Recall = Sensitivity = \\frac{TP}{TP+FN}$$\n",
        "\n",
        "**Exemplo**: Recall é a proporção de clientes observados como Fraude e que o modelo estima como Fraude.\n",
        "\n",
        "**Comentário**: Se nosso foco for minimizar Falso Positivos (FP), então precisamos nos esforçar para fazer Precision mais próximo de 100% possível."
      ]
    },
    {
      "cell_type": "markdown",
      "metadata": {
        "id": "s0Z10VFhFbrs"
      },
      "source": [
        ""
      ]
    },
    {
      "cell_type": "markdown",
      "metadata": {
        "id": "Cq46kY4uF2zt"
      },
      "source": [
        "## Specificity\n",
        "> **Specificity** - proporção de TN por TN+FP.\n",
        "\n",
        "Responde à seguinte pergunta:\n",
        "\n",
        "```\n",
        "Quando o valor observado é Negativo, com que frequência o classificador está correto?\n",
        "```\n",
        "\n",
        "**Exemplo**: Specificity é a proporção de clientes NÃO-Fraude que o modelo estima como NÃO-Fraude.\n",
        "\n",
        "$$Specificity= \\frac{TN}{TN+FP}$$"
      ]
    },
    {
      "cell_type": "markdown",
      "metadata": {
        "id": "WxttQdOQF-4F"
      },
      "source": [
        "## F1-Score\n",
        "> F1-Score é a média harmônica entre Recall e Precision e é um número entre 0 e 1. Quanto mais próximo de 1, melhor. Quanto mais próximo de 0, pior. Ou seja, é um equilíbrio entre Recall e Precision.\n",
        "\n",
        "$$F1\\_Score= 2\\left(\\frac{Recall*Precision}{Recall+Precision}\\right)$$"
      ]
    },
    {
      "cell_type": "markdown",
      "metadata": {
        "id": "glRnjFI8INWz"
      },
      "source": [
        "## FUNÇÃO PARA APLICAR O CROSS-VALIDATION"
      ]
    },
    {
      "cell_type": "code",
      "metadata": {
        "id": "JjX09CGqGy1E"
      },
      "source": [
        "# FUNÇÃO PARA O CROSS-VALIDATION com CROSS-VAL-SCORE\n",
        "\n",
        "# Cross-Validation\n",
        "from sklearn.model_selection import cross_val_score # Para o CV (Cross-Validation)\n",
        "\n",
        "# Função para Cross-Validation:\n",
        "\n",
        "def funcao_cross_val_score(modelo, X_treinamento, y_treinamento, CV):\n",
        "    \n",
        "    #versão com cross_val_score:\n",
        "    a_scores_CV = cross_val_score(modelo, X_treinamento, y_treinamento, cv = CV)\n",
        "    print(f'Média das Acurácias calculadas pelo CV....: {100*round(a_scores_CV.mean(),4)}')\n",
        "    print(f'std médio das Acurácias calculadas pelo CV: {100*round(a_scores_CV.std(),4)}')\n",
        "    return a_scores_CV          # é um array com os scores de cada iteração (fold) do CV\n",
        "\n"
      ],
      "execution_count": 104,
      "outputs": []
    },
    {
      "cell_type": "markdown",
      "metadata": {
        "id": "kQUFdRZVIJ16"
      },
      "source": [
        "## FUNÇÃO PARA PLOTAR A CONFUSION MATRIX"
      ]
    },
    {
      "cell_type": "code",
      "metadata": {
        "id": "v2N15a63H6V2"
      },
      "source": [
        "# FUNÇÃO PARA PLOTAR A MATRIZ CONFUSÃO (Confusion-Matrix)\n",
        "def mostra_confusion_matrix(cf, \n",
        "                            group_names = None, \n",
        "                            categories = 'auto', \n",
        "                            count = True, \n",
        "                            percent = True, \n",
        "                            cbar = True, \n",
        "                            xyticks = False, \n",
        "                            xyplotlabels = True, \n",
        "                            sum_stats = True, \n",
        "                            figsize = (8, 8), \n",
        "                            cmap = 'Blues'):\n",
        "    '''\n",
        "    This function will make a pretty plot of an sklearn Confusion Matrix cm using a Seaborn heatmap visualization.\n",
        "    Arguments\n",
        "    ---------\n",
        "    cf:            confusion matrix to be passed in\n",
        "    group_names:   List of strings that represent the labels row by row to be shown in each square.\n",
        "    categories:    List of strings containing the categories to be displayed on the x,y axis. Default is 'auto'\n",
        "    count:         If True, show the raw number in the confusion matrix. Default is True.\n",
        "    normalize:     If True, show the proportions for each category. Default is True.\n",
        "    cbar:          If True, show the color bar. The cbar values are based off the values in the confusion matrix.\n",
        "                   Default is True.\n",
        "    xyticks:       If True, show x and y ticks. Default is True.\n",
        "    xyplotlabels:  If True, show 'True Label' and 'Predicted Label' on the figure. Default is True.\n",
        "    sum_stats:     If True, display summary statistics below the figure. Default is True.\n",
        "    figsize:       Tuple representing the figure size. Default will be the matplotlib rcParams value.\n",
        "    cmap:          Colormap of the values displayed from matplotlib.pyplot.cm. Default is 'Blues'\n",
        "                   See http://matplotlib.org/examples/color/colormaps_reference.html\n",
        "    '''\n",
        "\n",
        "    # CODE TO GENERATE TEXT INSIDE EACH SQUARE\n",
        "    blanks = ['' for i in range(cf.size)]\n",
        "\n",
        "    if group_names and len(group_names)==cf.size:\n",
        "        group_labels = [\"{}\\n\".format(value) for value in group_names]\n",
        "    else:\n",
        "        group_labels = blanks\n",
        "\n",
        "    if count:\n",
        "        group_counts = [\"{0:0.0f}\\n\".format(value) for value in cf.flatten()]\n",
        "    else:\n",
        "        group_counts = blanks\n",
        "\n",
        "    if percent:\n",
        "        group_percentages = [\"{0:.2%}\".format(value) for value in cf.flatten()/np.sum(cf)]\n",
        "    else:\n",
        "        group_percentages = blanks\n",
        "\n",
        "    box_labels = [f\"{v1}{v2}{v3}\".strip() for v1, v2, v3 in zip(group_labels,group_counts,group_percentages)]\n",
        "    box_labels = np.asarray(box_labels).reshape(cf.shape[0],cf.shape[1])\n",
        "\n",
        "    # CODE TO GENERATE SUMMARY STATISTICS & TEXT FOR SUMMARY STATS\n",
        "    if sum_stats:\n",
        "        #Accuracy is sum of diagonal divided by total observations\n",
        "        accuracy  = np.trace(cf) / float(np.sum(cf))\n",
        "\n",
        "        #if it is a binary confusion matrix, show some more stats\n",
        "        if len(cf)==2:\n",
        "            #Metrics for Binary Confusion Matrices\n",
        "            precision = cf[1,1] / sum(cf[:,1])\n",
        "            recall    = cf[1,1] / sum(cf[1,:])\n",
        "            f1_score  = 2*precision*recall / (precision + recall)\n",
        "            stats_text = \"\\n\\nAccuracy={:0.3f}\\nPrecision={:0.3f}\\nRecall={:0.3f}\\nF1 Score={:0.3f}\".format(accuracy,precision,recall,f1_score)\n",
        "        else:\n",
        "            stats_text = \"\\n\\nAccuracy={:0.3f}\".format(accuracy)\n",
        "    else:\n",
        "        stats_text = \"\"\n",
        "\n",
        "    # SET FIGURE PARAMETERS ACCORDING TO OTHER ARGUMENTS\n",
        "    if figsize==None:\n",
        "        #Get default figure size if not set\n",
        "        figsize = plt.rcParams.get('figure.figsize')\n",
        "\n",
        "    if xyticks==False:\n",
        "        #Do not show categories if xyticks is False\n",
        "        categories=False\n",
        "\n",
        "    # MAKE THE HEATMAP VISUALIZATION\n",
        "    plt.figure(figsize=figsize)\n",
        "    sns.heatmap(cf,annot=box_labels,fmt=\"\",cmap=cmap,cbar=cbar,xticklabels=categories,yticklabels=categories)\n",
        "\n",
        "    if xyplotlabels:\n",
        "        plt.ylabel('True label')\n",
        "        plt.xlabel('Predicted label' + stats_text)\n",
        "    else:\n",
        "        plt.xlabel(stats_text)"
      ],
      "execution_count": 4,
      "outputs": []
    },
    {
      "cell_type": "markdown",
      "metadata": {
        "id": "tOrE8f0sJGRN"
      },
      "source": [
        "# Função para o GridSearchCV"
      ]
    },
    {
      "cell_type": "code",
      "metadata": {
        "id": "Ce5zYdq_JGhS"
      },
      "source": [
        "from sklearn.model_selection import GridSearchCV # para otimizar os parâmetros dos modelos preditivos\n",
        "from time import time\n",
        "\n",
        "def GridSearchOptimizer(modelo, ml_Opt, d_Parametros, X_treinamento, y_treinamento, X_teste, y_teste, i_CV, l_colunas):\n",
        "    ml_GridSearchCV = GridSearchCV(modelo, d_Parametros, cv = i_CV, n_jobs = -1, verbose= 10, scoring = 'accuracy')\n",
        "    start = time()\n",
        "    ml_GridSearchCV.fit(X_treinamento, y_treinamento)\n",
        "    tempo_elapsed = time()-start\n",
        "    #print(f\"\\nGridSearchCV levou {tempo_elapsed:.2f} segundos.\")\n",
        "\n",
        "    # Parâmetros que otimizam a classificação:\n",
        "    print(f'\\nParametros otimizados: {ml_GridSearchCV.best_params_}')\n",
        "    \n",
        "    if ml_Opt == 'ml_DT2':\n",
        "        print(f'\\nDecisionTreeClassifier *********************************************************************************************************')\n",
        "        ml_Opt = DecisionTreeClassifier(criterion= ml_GridSearchCV.best_params_['criterion'], \n",
        "                                        max_depth= ml_GridSearchCV.best_params_['max_depth'],\n",
        "                                        max_leaf_nodes= ml_GridSearchCV.best_params_['max_leaf_nodes'],\n",
        "                                        min_samples_split= ml_GridSearchCV.best_params_['min_samples_leaf'],\n",
        "                                        min_samples_leaf= ml_GridSearchCV.best_params_['min_samples_split'], \n",
        "                                        random_state= i_Seed)\n",
        "        \n",
        "    elif ml_Opt == 'ml_RF2':\n",
        "        print(f'\\nRandomForestClassifier *********************************************************************************************************')\n",
        "        ml_Opt = RandomForestClassifier(bootstrap= ml_GridSearchCV.best_params_['bootstrap'], \n",
        "                                        max_depth= ml_GridSearchCV.best_params_['max_depth'],\n",
        "                                        max_features= ml_GridSearchCV.best_params_['max_features'],\n",
        "                                        min_samples_leaf= ml_GridSearchCV.best_params_['min_samples_leaf'],\n",
        "                                        min_samples_split= ml_GridSearchCV.best_params_['min_samples_split'],\n",
        "                                        n_estimators= ml_GridSearchCV.best_params_['n_estimators'],\n",
        "                                        random_state= i_Seed)\n",
        "        \n",
        "    elif ml_Opt == 'ml_AB2':\n",
        "        print(f'\\nAdaBoostClassifier *********************************************************************************************************')\n",
        "        ml_Opt = AdaBoostClassifier(algorithm='SAMME.R', \n",
        "                                    base_estimator=RandomForestClassifier(bootstrap = False, \n",
        "                                                                          max_depth = 10, \n",
        "                                                                          max_features = 'auto', \n",
        "                                                                          min_samples_leaf = 1, \n",
        "                                                                          min_samples_split = 2, \n",
        "                                                                          n_estimators = 400), \n",
        "                                    learning_rate = ml_GridSearchCV.best_params_['learning_rate'], \n",
        "                                    n_estimators = ml_GridSearchCV.best_params_['n_estimators'], \n",
        "                                    random_state = i_Seed)\n",
        "        \n",
        "    elif ml_Opt == 'ml_GB2':\n",
        "        print(f'\\nGradientBoostingClassifier *********************************************************************************************************')\n",
        "        ml_Opt = GradientBoostingClassifier(learning_rate = ml_GridSearchCV.best_params_['learning_rate'], \n",
        "                                            n_estimators = ml_GridSearchCV.best_params_['n_estimators'], \n",
        "                                            max_depth = ml_GridSearchCV.best_params_['max_depth'], \n",
        "                                            min_samples_split = ml_GridSearchCV.best_params_['min_samples_split'], \n",
        "                                            min_samples_leaf = ml_GridSearchCV.best_params_['min_samples_leaf'], \n",
        "                                            max_features = ml_GridSearchCV.best_params_['max_features'])\n",
        "        \n",
        "    elif ml_Opt == 'ml_XGB2':\n",
        "        print(f'\\nXGBoostingClassifier *********************************************************************************************************')\n",
        "        ml_Opt = XGBoostingClassifier(learning_rate= ml_GridSearchCV.best_params_['learning_rate'], \n",
        "                                      max_depth= ml_GridSearchCV.best_params_['max_depth'], \n",
        "                                      colsample_bytree= ml_GridSearchCV.best_params_['colsample_bytree'], \n",
        "                                      subsample= ml_GridSearchCV.best_params_['subsample'], \n",
        "                                      gamma= ml_GridSearchCV.best_params_['gamma'], \n",
        "                                      min_child_weight= ml_GridSearchCV.best_params_['min_child_weight'])\n",
        "        \n",
        "    # Treina novamente usando os parametros otimizados...\n",
        "    ml_Opt.fit(X_treinamento, y_treinamento)\n",
        "\n",
        "    # Cross-Validation com 10 folds\n",
        "    print(f'\\n********* CROSS-VALIDATION ***********')\n",
        "    a_scores_CV = funcao_cross_val_score(ml_Opt, X_treinamento, y_treinamento, i_CV)\n",
        "\n",
        "    # Faz predições com os parametros otimizados...\n",
        "    y_pred = ml_Opt.predict(X_teste)\n",
        "  \n",
        "    # Importância das COLUNAS\n",
        "    print(f'\\n********* IMPORTÂNCIA DAS COLUNAS ***********')\n",
        "    df_importancia_variaveis = pd.DataFrame(zip(l_colunas, ml_Opt.feature_importances_), columns= ['coluna', 'importancia'])\n",
        "    df_importancia_variaveis = df_importancia_variaveis.sort_values(by= ['importancia'], ascending=False)\n",
        "    print(df_importancia_variaveis)\n",
        "\n",
        "    # Matriz de Confusão\n",
        "    print(f'\\n********* CONFUSION MATRIX - PARAMETER TUNNING ***********')\n",
        "    cf_matrix = confusion_matrix(y_teste, y_pred)\n",
        "    cf_labels = ['True_Negative', 'False_Positive', 'False_Negative', 'True_Positive']\n",
        "    cf_categories = ['Zero', 'One']\n",
        "    mostra_confusion_matrix(cf_matrix, group_names = cf_labels, categories = cf_categories)\n",
        "\n",
        "    return ml_Opt, ml_GridSearchCV.best_params_\n"
      ],
      "execution_count": 105,
      "outputs": []
    },
    {
      "cell_type": "markdown",
      "metadata": {
        "id": "bA7XZtb4LL_z"
      },
      "source": [
        "#### Função para selecionar COLUNAS relevantes dos dataframes"
      ]
    },
    {
      "cell_type": "code",
      "metadata": {
        "id": "jc56yY3jLOlo"
      },
      "source": [
        "from sklearn.feature_selection import SelectFromModel\n",
        "\n",
        "def seleciona_colunas_relevantes(modelo, X_treinamento, X_teste, threshold = 0.05):\n",
        "    # Cria um seletor para selecionar as COLUNAS com importância > threshold\n",
        "    sfm = SelectFromModel(modelo, threshold)\n",
        "    \n",
        "    # Treina o seletor\n",
        "    sfm.fit(X_treinamento, y_treinamento)\n",
        "\n",
        "    # Mostra o indice das COLUNAS mais importantes\n",
        "    print(f'\\n********** COLUNAS Relevantes ******')\n",
        "    print(sfm.get_support(indices=True))\n",
        "\n",
        "    # Seleciona somente as COLUNAS relevantes\n",
        "    X_treinamento_I = sfm.transform(X_treinamento)\n",
        "    X_teste_I = sfm.transform(X_teste)\n",
        "    return X_treinamento_I, X_teste_I   "
      ],
      "execution_count": 6,
      "outputs": []
    },
    {
      "cell_type": "markdown",
      "metadata": {
        "id": "-L4TOoIQLmlB"
      },
      "source": [
        "### Função para calcular a importância das colunas/variáveis/atributos\n",
        "* Source: [Plotting Feature Importances](https://www.kaggle.com/grfiv4/plotting-feature-importances)"
      ]
    },
    {
      "cell_type": "code",
      "metadata": {
        "id": "TXUIfSDMLpmp"
      },
      "source": [
        "def mostra_feature_importances(clf, X_treinamento, y_treinamento=None, \n",
        "                             top_n=10, figsize=(8,8), print_table=False, title=\"Feature Importances\"):\n",
        "    '''\n",
        "    plot feature importances of a tree-based sklearn estimator\n",
        "    \n",
        "    Note: X_treinamento and y_treinamento are pandas DataFrames\n",
        "    \n",
        "    Note: Scikit-plot is a lovely package but I sometimes have issues\n",
        "              1. flexibility/extendibility\n",
        "              2. complicated models/datasets\n",
        "          But for many situations Scikit-plot is the way to go\n",
        "          see https://scikit-plot.readthedocs.io/en/latest/Quickstart.html\n",
        "    \n",
        "    Parameters\n",
        "    ----------\n",
        "        clf         (sklearn estimator) if not fitted, this routine will fit it\n",
        "        \n",
        "        X_treinamento     (pandas DataFrame)\n",
        "        \n",
        "        y_treinamento     (pandas DataFrame)  optional\n",
        "                                        required only if clf has not already been fitted \n",
        "        \n",
        "        top_n       (int)               Plot the top_n most-important features\n",
        "                                        Default: 10\n",
        "                                        \n",
        "        figsize     ((int,int))         The physical size of the plot\n",
        "                                        Default: (8,8)\n",
        "        \n",
        "        print_table (boolean)           If True, print out the table of feature importances\n",
        "                                        Default: False\n",
        "        \n",
        "    Returns\n",
        "    -------\n",
        "        the pandas dataframe with the features and their importance\n",
        "        \n",
        "    Author\n",
        "    ------\n",
        "        George Fisher\n",
        "    '''\n",
        "    \n",
        "    __name__ = \"mostra_feature_importances\"\n",
        "    \n",
        "    import pandas as pd\n",
        "    import numpy  as np\n",
        "    import matplotlib.pyplot as plt\n",
        "    \n",
        "    from xgboost.core     import XGBoostError\n",
        "    from lightgbm.sklearn import LightGBMError\n",
        "    \n",
        "    try: \n",
        "        if not hasattr(clf, 'feature_importances_'):\n",
        "            clf.fit(X_treinamento.values, y_treinamento.values.ravel())\n",
        "\n",
        "            if not hasattr(clf, 'feature_importances_'):\n",
        "                raise AttributeError(\"{} does not have feature_importances_ attribute\".\n",
        "                                    format(clf.__class__.__name__))\n",
        "                \n",
        "    except (XGBoostError, LightGBMError, ValueError):\n",
        "        clf.fit(X_treinamento.values, y_treinamento.values.ravel())\n",
        "            \n",
        "    feat_imp = pd.DataFrame({'importance':clf.feature_importances_})    \n",
        "    feat_imp['feature'] = X_treinamento.columns\n",
        "    feat_imp.sort_values(by ='importance', ascending = False, inplace = True)\n",
        "    feat_imp = feat_imp.iloc[:top_n]\n",
        "    \n",
        "    feat_imp.sort_values(by='importance', inplace = True)\n",
        "    feat_imp = feat_imp.set_index('feature', drop = True)\n",
        "    feat_imp.plot.barh(title=title, figsize=figsize)\n",
        "    plt.xlabel('Feature Importance Score')\n",
        "    plt.show()\n",
        "    \n",
        "    if print_table:\n",
        "        from IPython.display import display\n",
        "        print(\"Top {} features in descending order of importance\".format(top_n))\n",
        "        display(feat_imp.sort_values(by = 'importance', ascending = False))\n",
        "        \n",
        "    return feat_imp"
      ],
      "execution_count": 7,
      "outputs": []
    },
    {
      "cell_type": "code",
      "metadata": {
        "id": "MaUhcO1P0L4T"
      },
      "source": [
        "# FUNÇÃO PARA A CORRELAÇÃO DE VARIÁVEIS NUM DATAFRAME\n",
        "# Identificando a correlação entre as variáveis\n",
        "# Correlação não implica causalidade\n",
        "def plot_corr(df, size=15):\n",
        "    corr = df.corr()    \n",
        "    fig, ax = plt.subplots(figsize = (size, size))\n",
        "    ax.matshow(corr)  \n",
        "    plt.xticks(range(len(corr.columns)), corr.columns) \n",
        "    plt.yticks(range(len(corr.columns)), corr.columns)  "
      ],
      "execution_count": 8,
      "outputs": []
    },
    {
      "cell_type": "markdown",
      "metadata": {
        "id": "XbSLkbDB2mzK"
      },
      "source": [
        "## Exercício 1 - Credit Card Fraud Detection\n",
        "Source: [Credit Card Fraud Detection](https://www.kaggle.com/mlg-ulb/creditcardfraud)\n",
        "\n",
        "### Leitura suporte\n",
        "* [Detecting Credit Card Fraud Using Machine Learning](https://towardsdatascience.com/detecting-credit-card-fraud-using-machine-learning-a3d83423d3b8)\n",
        "* [Credit Card Fraud Detection](https://towardsdatascience.com/credit-card-fraud-detection-a1c7e1b75f59)\n",
        "\n",
        "### Dataframe\n",
        "* [Creditcard.csv](https://raw.githubusercontent.com/MathMachado/DSWP/master/Dataframes/creditcard.csv)"
      ]
    },
    {
      "cell_type": "markdown",
      "metadata": {
        "id": "F9_78eFcMClp"
      },
      "source": [
        "## Definir variáveis globais para a análise:"
      ]
    },
    {
      "cell_type": "code",
      "metadata": {
        "id": "5U1sVeWrFNc-"
      },
      "source": [
        "i_CV = 10 # Número de Cross-Validation\n",
        "i_Seed = 20111974 # Para padronizar os resultados do exercício\n",
        "f_Test_Size = 0.3 # Proporção da amostra para Treinamento e Teste(Teste ficou com 30%)"
      ],
      "execution_count": 9,
      "outputs": []
    },
    {
      "cell_type": "code",
      "metadata": {
        "id": "53hfyOUoMZxp",
        "outputId": "5562f3ae-6c3b-409f-c331-598f520bcff4",
        "colab": {
          "base_uri": "https://localhost:8080/",
          "height": 827
        }
      },
      "source": [
        "# Importar pacotes básicos, e incluir outros no decorrer do exercício\n",
        "\n",
        "import pandas as pd\n",
        "import numpy as np\n",
        "import matplotlib.pyplot as plt\n",
        "import matplotlib as mat\n",
        "import seaborn as sns\n",
        "\n",
        "import sklearn\n",
        "from sklearn.model_selection import train_test_split\n",
        "from sklearn.tree import DecisionTreeClassifier\n",
        "\n",
        "!pip install category_encoders \n",
        "!pip install update\n",
        "from sklearn import preprocessing\n",
        "import category_encoders as ce\n",
        "\n",
        "from sklearn.ensemble import IsolationForest\n",
        "\n",
        "# Scaling variables\n",
        "from sklearn.preprocessing import StandardScaler\n",
        "from sklearn.preprocessing import MinMaxScaler\n",
        "\n",
        "from pyod.models.abod import ABOD\n",
        "from pyod.models.cblof import CBLOF\n",
        "\n",
        "#from pyod.models.feature_bagging import FeatureBagging\n",
        "from pyod.models.hbos import HBOS\n",
        "from pyod.models.iforest import IForest\n",
        "from pyod.models.knn import KNN\n",
        "#from pyod.models.lof import LOF\n",
        "from scipy import stats\n",
        "\n",
        "%matplotlib inline\n"
      ],
      "execution_count": 10,
      "outputs": [
        {
          "output_type": "stream",
          "text": [
            "Collecting category_encoders\n",
            "\u001b[?25l  Downloading https://files.pythonhosted.org/packages/44/57/fcef41c248701ee62e8325026b90c432adea35555cbc870aff9cfba23727/category_encoders-2.2.2-py2.py3-none-any.whl (80kB)\n",
            "\r\u001b[K     |████                            | 10kB 18.6MB/s eta 0:00:01\r\u001b[K     |████████▏                       | 20kB 1.7MB/s eta 0:00:01\r\u001b[K     |████████████▏                   | 30kB 2.2MB/s eta 0:00:01\r\u001b[K     |████████████████▎               | 40kB 2.5MB/s eta 0:00:01\r\u001b[K     |████████████████████▎           | 51kB 1.9MB/s eta 0:00:01\r\u001b[K     |████████████████████████▍       | 61kB 2.2MB/s eta 0:00:01\r\u001b[K     |████████████████████████████▍   | 71kB 2.5MB/s eta 0:00:01\r\u001b[K     |████████████████████████████████| 81kB 2.1MB/s \n",
            "\u001b[?25hRequirement already satisfied: numpy>=1.14.0 in /usr/local/lib/python3.6/dist-packages (from category_encoders) (1.18.5)\n",
            "Requirement already satisfied: statsmodels>=0.9.0 in /usr/local/lib/python3.6/dist-packages (from category_encoders) (0.10.2)\n",
            "Requirement already satisfied: patsy>=0.5.1 in /usr/local/lib/python3.6/dist-packages (from category_encoders) (0.5.1)\n",
            "Requirement already satisfied: scipy>=1.0.0 in /usr/local/lib/python3.6/dist-packages (from category_encoders) (1.4.1)\n",
            "Requirement already satisfied: scikit-learn>=0.20.0 in /usr/local/lib/python3.6/dist-packages (from category_encoders) (0.22.2.post1)\n",
            "Requirement already satisfied: pandas>=0.21.1 in /usr/local/lib/python3.6/dist-packages (from category_encoders) (1.1.3)\n",
            "Requirement already satisfied: six in /usr/local/lib/python3.6/dist-packages (from patsy>=0.5.1->category_encoders) (1.15.0)\n",
            "Requirement already satisfied: joblib>=0.11 in /usr/local/lib/python3.6/dist-packages (from scikit-learn>=0.20.0->category_encoders) (0.17.0)\n",
            "Requirement already satisfied: python-dateutil>=2.7.3 in /usr/local/lib/python3.6/dist-packages (from pandas>=0.21.1->category_encoders) (2.8.1)\n",
            "Requirement already satisfied: pytz>=2017.2 in /usr/local/lib/python3.6/dist-packages (from pandas>=0.21.1->category_encoders) (2018.9)\n",
            "Installing collected packages: category-encoders\n",
            "Successfully installed category-encoders-2.2.2\n",
            "Collecting update\n",
            "  Downloading https://files.pythonhosted.org/packages/9f/c4/dfe8a392edd35cc635c35cd3b20df6a746aacdeb39b685d1668b56bf819b/update-0.0.1-py2.py3-none-any.whl\n",
            "Collecting style==1.1.0\n",
            "  Downloading https://files.pythonhosted.org/packages/4c/0b/6be2071e20c621e7beb01b86e8474c2ec344a9750ba5315886f24d6e7386/style-1.1.0-py2.py3-none-any.whl\n",
            "Installing collected packages: style, update\n",
            "Successfully installed style-1.1.0 update-0.0.1\n"
          ],
          "name": "stdout"
        },
        {
          "output_type": "stream",
          "text": [
            "/usr/local/lib/python3.6/dist-packages/statsmodels/tools/_testing.py:19: FutureWarning: pandas.util.testing is deprecated. Use the functions in the public API at pandas.testing instead.\n",
            "  import pandas.util.testing as tm\n"
          ],
          "name": "stderr"
        },
        {
          "output_type": "error",
          "ename": "ModuleNotFoundError",
          "evalue": "ignored",
          "traceback": [
            "\u001b[0;31m---------------------------------------------------------------------------\u001b[0m",
            "\u001b[0;31mModuleNotFoundError\u001b[0m                       Traceback (most recent call last)",
            "\u001b[0;32m<ipython-input-10-d14d7553d938>\u001b[0m in \u001b[0;36m<module>\u001b[0;34m()\u001b[0m\n\u001b[1;32m     22\u001b[0m \u001b[0;32mfrom\u001b[0m \u001b[0msklearn\u001b[0m\u001b[0;34m.\u001b[0m\u001b[0mpreprocessing\u001b[0m \u001b[0;32mimport\u001b[0m \u001b[0mMinMaxScaler\u001b[0m\u001b[0;34m\u001b[0m\u001b[0;34m\u001b[0m\u001b[0m\n\u001b[1;32m     23\u001b[0m \u001b[0;34m\u001b[0m\u001b[0m\n\u001b[0;32m---> 24\u001b[0;31m \u001b[0;32mfrom\u001b[0m \u001b[0mpyod\u001b[0m\u001b[0;34m.\u001b[0m\u001b[0mmodels\u001b[0m\u001b[0;34m.\u001b[0m\u001b[0mabod\u001b[0m \u001b[0;32mimport\u001b[0m \u001b[0mABOD\u001b[0m\u001b[0;34m\u001b[0m\u001b[0;34m\u001b[0m\u001b[0m\n\u001b[0m\u001b[1;32m     25\u001b[0m \u001b[0;32mfrom\u001b[0m \u001b[0mpyod\u001b[0m\u001b[0;34m.\u001b[0m\u001b[0mmodels\u001b[0m\u001b[0;34m.\u001b[0m\u001b[0mcblof\u001b[0m \u001b[0;32mimport\u001b[0m \u001b[0mCBLOF\u001b[0m\u001b[0;34m\u001b[0m\u001b[0;34m\u001b[0m\u001b[0m\n\u001b[1;32m     26\u001b[0m \u001b[0;34m\u001b[0m\u001b[0m\n",
            "\u001b[0;31mModuleNotFoundError\u001b[0m: No module named 'pyod'",
            "",
            "\u001b[0;31m---------------------------------------------------------------------------\u001b[0;32m\nNOTE: If your import is failing due to a missing package, you can\nmanually install dependencies using either !pip or !apt.\n\nTo view examples of installing some common dependencies, click the\n\"Open Examples\" button below.\n\u001b[0;31m---------------------------------------------------------------------------\u001b[0m\n"
          ]
        }
      ]
    },
    {
      "cell_type": "code",
      "metadata": {
        "id": "-3_v8y4uNWra",
        "outputId": "1fd4be46-91de-4936-e5a9-924a0f418318",
        "colab": {
          "base_uri": "https://localhost:8080/",
          "height": 218
        }
      },
      "source": [
        "# Importar ao Pandas o dataset para trabalho\n",
        "\n",
        "url = 'https://raw.githubusercontent.com/MathMachado/DSWP/master/Dataframes/creditcard.csv'\n",
        "df_cc = pd.read_csv(url)\n",
        "df_cc.head(5)\n",
        "# Primeiras linhas do Dataframe"
      ],
      "execution_count": 11,
      "outputs": [
        {
          "output_type": "execute_result",
          "data": {
            "text/html": [
              "<div>\n",
              "<style scoped>\n",
              "    .dataframe tbody tr th:only-of-type {\n",
              "        vertical-align: middle;\n",
              "    }\n",
              "\n",
              "    .dataframe tbody tr th {\n",
              "        vertical-align: top;\n",
              "    }\n",
              "\n",
              "    .dataframe thead th {\n",
              "        text-align: right;\n",
              "    }\n",
              "</style>\n",
              "<table border=\"1\" class=\"dataframe\">\n",
              "  <thead>\n",
              "    <tr style=\"text-align: right;\">\n",
              "      <th></th>\n",
              "      <th>Time</th>\n",
              "      <th>V1</th>\n",
              "      <th>V2</th>\n",
              "      <th>V3</th>\n",
              "      <th>V4</th>\n",
              "      <th>V5</th>\n",
              "      <th>V6</th>\n",
              "      <th>V7</th>\n",
              "      <th>V8</th>\n",
              "      <th>V9</th>\n",
              "      <th>V10</th>\n",
              "      <th>V11</th>\n",
              "      <th>V12</th>\n",
              "      <th>V13</th>\n",
              "      <th>V14</th>\n",
              "      <th>V15</th>\n",
              "      <th>V16</th>\n",
              "      <th>V17</th>\n",
              "      <th>V18</th>\n",
              "      <th>V19</th>\n",
              "      <th>V20</th>\n",
              "      <th>V21</th>\n",
              "      <th>V22</th>\n",
              "      <th>V23</th>\n",
              "      <th>V24</th>\n",
              "      <th>V25</th>\n",
              "      <th>V26</th>\n",
              "      <th>V27</th>\n",
              "      <th>V28</th>\n",
              "      <th>Amount</th>\n",
              "      <th>Class</th>\n",
              "    </tr>\n",
              "  </thead>\n",
              "  <tbody>\n",
              "    <tr>\n",
              "      <th>0</th>\n",
              "      <td>0</td>\n",
              "      <td>-1.359807</td>\n",
              "      <td>-0.072781</td>\n",
              "      <td>2.536347</td>\n",
              "      <td>1.378155</td>\n",
              "      <td>-0.338321</td>\n",
              "      <td>0.462388</td>\n",
              "      <td>0.239599</td>\n",
              "      <td>0.098698</td>\n",
              "      <td>0.363787</td>\n",
              "      <td>0.090794</td>\n",
              "      <td>-0.551600</td>\n",
              "      <td>-0.617801</td>\n",
              "      <td>-0.991390</td>\n",
              "      <td>-0.311169</td>\n",
              "      <td>1.468177</td>\n",
              "      <td>-0.470401</td>\n",
              "      <td>0.207971</td>\n",
              "      <td>0.025791</td>\n",
              "      <td>0.403993</td>\n",
              "      <td>0.251412</td>\n",
              "      <td>-0.018307</td>\n",
              "      <td>0.277838</td>\n",
              "      <td>-0.110474</td>\n",
              "      <td>0.066928</td>\n",
              "      <td>0.128539</td>\n",
              "      <td>-0.189115</td>\n",
              "      <td>0.133558</td>\n",
              "      <td>-0.021053</td>\n",
              "      <td>149.62</td>\n",
              "      <td>0.0</td>\n",
              "    </tr>\n",
              "    <tr>\n",
              "      <th>1</th>\n",
              "      <td>0</td>\n",
              "      <td>1.191857</td>\n",
              "      <td>0.266151</td>\n",
              "      <td>0.166480</td>\n",
              "      <td>0.448154</td>\n",
              "      <td>0.060018</td>\n",
              "      <td>-0.082361</td>\n",
              "      <td>-0.078803</td>\n",
              "      <td>0.085102</td>\n",
              "      <td>-0.255425</td>\n",
              "      <td>-0.166974</td>\n",
              "      <td>1.612727</td>\n",
              "      <td>1.065235</td>\n",
              "      <td>0.489095</td>\n",
              "      <td>-0.143772</td>\n",
              "      <td>0.635558</td>\n",
              "      <td>0.463917</td>\n",
              "      <td>-0.114805</td>\n",
              "      <td>-0.183361</td>\n",
              "      <td>-0.145783</td>\n",
              "      <td>-0.069083</td>\n",
              "      <td>-0.225775</td>\n",
              "      <td>-0.638672</td>\n",
              "      <td>0.101288</td>\n",
              "      <td>-0.339846</td>\n",
              "      <td>0.167170</td>\n",
              "      <td>0.125895</td>\n",
              "      <td>-0.008983</td>\n",
              "      <td>0.014724</td>\n",
              "      <td>2.69</td>\n",
              "      <td>0.0</td>\n",
              "    </tr>\n",
              "    <tr>\n",
              "      <th>2</th>\n",
              "      <td>1</td>\n",
              "      <td>-1.358354</td>\n",
              "      <td>-1.340163</td>\n",
              "      <td>1.773209</td>\n",
              "      <td>0.379780</td>\n",
              "      <td>-0.503198</td>\n",
              "      <td>1.800499</td>\n",
              "      <td>0.791461</td>\n",
              "      <td>0.247676</td>\n",
              "      <td>-1.514654</td>\n",
              "      <td>0.207643</td>\n",
              "      <td>0.624501</td>\n",
              "      <td>0.066084</td>\n",
              "      <td>0.717293</td>\n",
              "      <td>-0.165946</td>\n",
              "      <td>2.345865</td>\n",
              "      <td>-2.890083</td>\n",
              "      <td>1.109969</td>\n",
              "      <td>-0.121359</td>\n",
              "      <td>-2.261857</td>\n",
              "      <td>0.524980</td>\n",
              "      <td>0.247998</td>\n",
              "      <td>0.771679</td>\n",
              "      <td>0.909412</td>\n",
              "      <td>-0.689281</td>\n",
              "      <td>-0.327642</td>\n",
              "      <td>-0.139097</td>\n",
              "      <td>-0.055353</td>\n",
              "      <td>-0.059752</td>\n",
              "      <td>378.66</td>\n",
              "      <td>0.0</td>\n",
              "    </tr>\n",
              "    <tr>\n",
              "      <th>3</th>\n",
              "      <td>1</td>\n",
              "      <td>-0.966272</td>\n",
              "      <td>-0.185226</td>\n",
              "      <td>1.792993</td>\n",
              "      <td>-0.863291</td>\n",
              "      <td>-0.010309</td>\n",
              "      <td>1.247203</td>\n",
              "      <td>0.237609</td>\n",
              "      <td>0.377436</td>\n",
              "      <td>-1.387024</td>\n",
              "      <td>-0.054952</td>\n",
              "      <td>-0.226487</td>\n",
              "      <td>0.178228</td>\n",
              "      <td>0.507757</td>\n",
              "      <td>-0.287924</td>\n",
              "      <td>-0.631418</td>\n",
              "      <td>-1.059647</td>\n",
              "      <td>-0.684093</td>\n",
              "      <td>1.965775</td>\n",
              "      <td>-1.232622</td>\n",
              "      <td>-0.208038</td>\n",
              "      <td>-0.108300</td>\n",
              "      <td>0.005274</td>\n",
              "      <td>-0.190321</td>\n",
              "      <td>-1.175575</td>\n",
              "      <td>0.647376</td>\n",
              "      <td>-0.221929</td>\n",
              "      <td>0.062723</td>\n",
              "      <td>0.061458</td>\n",
              "      <td>123.50</td>\n",
              "      <td>0.0</td>\n",
              "    </tr>\n",
              "    <tr>\n",
              "      <th>4</th>\n",
              "      <td>2</td>\n",
              "      <td>-1.158233</td>\n",
              "      <td>0.877737</td>\n",
              "      <td>1.548718</td>\n",
              "      <td>0.403034</td>\n",
              "      <td>-0.407193</td>\n",
              "      <td>0.095921</td>\n",
              "      <td>0.592941</td>\n",
              "      <td>-0.270533</td>\n",
              "      <td>0.817739</td>\n",
              "      <td>0.753074</td>\n",
              "      <td>-0.822843</td>\n",
              "      <td>0.538196</td>\n",
              "      <td>1.345852</td>\n",
              "      <td>-1.119670</td>\n",
              "      <td>0.175121</td>\n",
              "      <td>-0.451449</td>\n",
              "      <td>-0.237033</td>\n",
              "      <td>-0.038195</td>\n",
              "      <td>0.803487</td>\n",
              "      <td>0.408542</td>\n",
              "      <td>-0.009431</td>\n",
              "      <td>0.798278</td>\n",
              "      <td>-0.137458</td>\n",
              "      <td>0.141267</td>\n",
              "      <td>-0.206010</td>\n",
              "      <td>0.502292</td>\n",
              "      <td>0.219422</td>\n",
              "      <td>0.215153</td>\n",
              "      <td>69.99</td>\n",
              "      <td>0.0</td>\n",
              "    </tr>\n",
              "  </tbody>\n",
              "</table>\n",
              "</div>"
            ],
            "text/plain": [
              "   Time        V1        V2        V3  ...       V27       V28  Amount  Class\n",
              "0     0 -1.359807 -0.072781  2.536347  ...  0.133558 -0.021053  149.62    0.0\n",
              "1     0  1.191857  0.266151  0.166480  ... -0.008983  0.014724    2.69    0.0\n",
              "2     1 -1.358354 -1.340163  1.773209  ... -0.055353 -0.059752  378.66    0.0\n",
              "3     1 -0.966272 -0.185226  1.792993  ...  0.062723  0.061458  123.50    0.0\n",
              "4     2 -1.158233  0.877737  1.548718  ...  0.219422  0.215153   69.99    0.0\n",
              "\n",
              "[5 rows x 31 columns]"
            ]
          },
          "metadata": {
            "tags": []
          },
          "execution_count": 11
        }
      ]
    },
    {
      "cell_type": "code",
      "metadata": {
        "id": "PhGUH2g5NDwo",
        "outputId": "7ccb80fd-25bb-49bd-8dd8-9d550e9e7678",
        "colab": {
          "base_uri": "https://localhost:8080/",
          "height": 218
        }
      },
      "source": [
        "# Últimas linhas do dataframe\n",
        "df_cc.tail(5)"
      ],
      "execution_count": 12,
      "outputs": [
        {
          "output_type": "execute_result",
          "data": {
            "text/html": [
              "<div>\n",
              "<style scoped>\n",
              "    .dataframe tbody tr th:only-of-type {\n",
              "        vertical-align: middle;\n",
              "    }\n",
              "\n",
              "    .dataframe tbody tr th {\n",
              "        vertical-align: top;\n",
              "    }\n",
              "\n",
              "    .dataframe thead th {\n",
              "        text-align: right;\n",
              "    }\n",
              "</style>\n",
              "<table border=\"1\" class=\"dataframe\">\n",
              "  <thead>\n",
              "    <tr style=\"text-align: right;\">\n",
              "      <th></th>\n",
              "      <th>Time</th>\n",
              "      <th>V1</th>\n",
              "      <th>V2</th>\n",
              "      <th>V3</th>\n",
              "      <th>V4</th>\n",
              "      <th>V5</th>\n",
              "      <th>V6</th>\n",
              "      <th>V7</th>\n",
              "      <th>V8</th>\n",
              "      <th>V9</th>\n",
              "      <th>V10</th>\n",
              "      <th>V11</th>\n",
              "      <th>V12</th>\n",
              "      <th>V13</th>\n",
              "      <th>V14</th>\n",
              "      <th>V15</th>\n",
              "      <th>V16</th>\n",
              "      <th>V17</th>\n",
              "      <th>V18</th>\n",
              "      <th>V19</th>\n",
              "      <th>V20</th>\n",
              "      <th>V21</th>\n",
              "      <th>V22</th>\n",
              "      <th>V23</th>\n",
              "      <th>V24</th>\n",
              "      <th>V25</th>\n",
              "      <th>V26</th>\n",
              "      <th>V27</th>\n",
              "      <th>V28</th>\n",
              "      <th>Amount</th>\n",
              "      <th>Class</th>\n",
              "    </tr>\n",
              "  </thead>\n",
              "  <tbody>\n",
              "    <tr>\n",
              "      <th>12837</th>\n",
              "      <td>22543</td>\n",
              "      <td>-1.730579</td>\n",
              "      <td>2.510772</td>\n",
              "      <td>-3.816998</td>\n",
              "      <td>1.981314</td>\n",
              "      <td>-0.013296</td>\n",
              "      <td>-2.005823</td>\n",
              "      <td>-0.761365</td>\n",
              "      <td>1.439695</td>\n",
              "      <td>1.029358</td>\n",
              "      <td>-1.507332</td>\n",
              "      <td>0.574218</td>\n",
              "      <td>-3.026862</td>\n",
              "      <td>1.041710</td>\n",
              "      <td>-0.878371</td>\n",
              "      <td>0.412419</td>\n",
              "      <td>1.463627</td>\n",
              "      <td>4.071892</td>\n",
              "      <td>2.149217</td>\n",
              "      <td>-0.544000</td>\n",
              "      <td>0.013777</td>\n",
              "      <td>-0.256248</td>\n",
              "      <td>-0.705186</td>\n",
              "      <td>0.012378</td>\n",
              "      <td>-0.531591</td>\n",
              "      <td>-0.260890</td>\n",
              "      <td>-0.398332</td>\n",
              "      <td>0.078616</td>\n",
              "      <td>-0.176480</td>\n",
              "      <td>1.00</td>\n",
              "      <td>0.0</td>\n",
              "    </tr>\n",
              "    <tr>\n",
              "      <th>12838</th>\n",
              "      <td>22545</td>\n",
              "      <td>0.092413</td>\n",
              "      <td>0.707487</td>\n",
              "      <td>1.468534</td>\n",
              "      <td>0.835819</td>\n",
              "      <td>0.077369</td>\n",
              "      <td>0.319184</td>\n",
              "      <td>-0.309622</td>\n",
              "      <td>-0.926561</td>\n",
              "      <td>1.308510</td>\n",
              "      <td>-0.798995</td>\n",
              "      <td>-0.374541</td>\n",
              "      <td>-1.944870</td>\n",
              "      <td>2.612574</td>\n",
              "      <td>1.113404</td>\n",
              "      <td>-0.813064</td>\n",
              "      <td>-0.454353</td>\n",
              "      <td>0.802003</td>\n",
              "      <td>-0.030830</td>\n",
              "      <td>0.925470</td>\n",
              "      <td>-0.062606</td>\n",
              "      <td>0.440212</td>\n",
              "      <td>-0.720211</td>\n",
              "      <td>-0.648152</td>\n",
              "      <td>-0.415473</td>\n",
              "      <td>1.544434</td>\n",
              "      <td>0.696797</td>\n",
              "      <td>0.053918</td>\n",
              "      <td>0.133374</td>\n",
              "      <td>10.00</td>\n",
              "      <td>0.0</td>\n",
              "    </tr>\n",
              "    <tr>\n",
              "      <th>12839</th>\n",
              "      <td>22545</td>\n",
              "      <td>1.105940</td>\n",
              "      <td>-0.093522</td>\n",
              "      <td>0.775855</td>\n",
              "      <td>0.797238</td>\n",
              "      <td>-0.601505</td>\n",
              "      <td>-0.372565</td>\n",
              "      <td>-0.332458</td>\n",
              "      <td>-0.138450</td>\n",
              "      <td>1.685372</td>\n",
              "      <td>-0.491947</td>\n",
              "      <td>0.192390</td>\n",
              "      <td>-2.428955</td>\n",
              "      <td>1.946760</td>\n",
              "      <td>1.473073</td>\n",
              "      <td>0.616349</td>\n",
              "      <td>0.699512</td>\n",
              "      <td>0.009298</td>\n",
              "      <td>0.317635</td>\n",
              "      <td>-0.366135</td>\n",
              "      <td>0.052355</td>\n",
              "      <td>-0.220249</td>\n",
              "      <td>-0.562235</td>\n",
              "      <td>-0.029329</td>\n",
              "      <td>-0.164029</td>\n",
              "      <td>0.174923</td>\n",
              "      <td>0.197386</td>\n",
              "      <td>-0.048843</td>\n",
              "      <td>0.029153</td>\n",
              "      <td>87.00</td>\n",
              "      <td>0.0</td>\n",
              "    </tr>\n",
              "    <tr>\n",
              "      <th>12840</th>\n",
              "      <td>22548</td>\n",
              "      <td>1.169834</td>\n",
              "      <td>0.017381</td>\n",
              "      <td>0.836739</td>\n",
              "      <td>1.035206</td>\n",
              "      <td>-0.671919</td>\n",
              "      <td>-0.362198</td>\n",
              "      <td>-0.373648</td>\n",
              "      <td>-0.005412</td>\n",
              "      <td>1.745210</td>\n",
              "      <td>-0.393025</td>\n",
              "      <td>1.911392</td>\n",
              "      <td>-1.687593</td>\n",
              "      <td>0.686310</td>\n",
              "      <td>1.605153</td>\n",
              "      <td>-1.768634</td>\n",
              "      <td>-0.221949</td>\n",
              "      <td>0.689228</td>\n",
              "      <td>0.232808</td>\n",
              "      <td>0.201811</td>\n",
              "      <td>-0.210741</td>\n",
              "      <td>-0.182634</td>\n",
              "      <td>-0.105628</td>\n",
              "      <td>-0.054807</td>\n",
              "      <td>0.527694</td>\n",
              "      <td>0.479663</td>\n",
              "      <td>0.371689</td>\n",
              "      <td>-0.051277</td>\n",
              "      <td>-0.005160</td>\n",
              "      <td>6.99</td>\n",
              "      <td>0.0</td>\n",
              "    </tr>\n",
              "    <tr>\n",
              "      <th>12841</th>\n",
              "      <td>22549</td>\n",
              "      <td>-0.828844</td>\n",
              "      <td>-0.902245</td>\n",
              "      <td>2.474188</td>\n",
              "      <td>-0.620688</td>\n",
              "      <td>-0.871399</td>\n",
              "      <td>0.049340</td>\n",
              "      <td>-0.056384</td>\n",
              "      <td>0.071709</td>\n",
              "      <td>3.451847</td>\n",
              "      <td>NaN</td>\n",
              "      <td>NaN</td>\n",
              "      <td>NaN</td>\n",
              "      <td>NaN</td>\n",
              "      <td>NaN</td>\n",
              "      <td>NaN</td>\n",
              "      <td>NaN</td>\n",
              "      <td>NaN</td>\n",
              "      <td>NaN</td>\n",
              "      <td>NaN</td>\n",
              "      <td>NaN</td>\n",
              "      <td>NaN</td>\n",
              "      <td>NaN</td>\n",
              "      <td>NaN</td>\n",
              "      <td>NaN</td>\n",
              "      <td>NaN</td>\n",
              "      <td>NaN</td>\n",
              "      <td>NaN</td>\n",
              "      <td>NaN</td>\n",
              "      <td>NaN</td>\n",
              "      <td>NaN</td>\n",
              "    </tr>\n",
              "  </tbody>\n",
              "</table>\n",
              "</div>"
            ],
            "text/plain": [
              "        Time        V1        V2        V3  ...       V27       V28  Amount  Class\n",
              "12837  22543 -1.730579  2.510772 -3.816998  ...  0.078616 -0.176480    1.00    0.0\n",
              "12838  22545  0.092413  0.707487  1.468534  ...  0.053918  0.133374   10.00    0.0\n",
              "12839  22545  1.105940 -0.093522  0.775855  ... -0.048843  0.029153   87.00    0.0\n",
              "12840  22548  1.169834  0.017381  0.836739  ... -0.051277 -0.005160    6.99    0.0\n",
              "12841  22549 -0.828844 -0.902245  2.474188  ...       NaN       NaN     NaN    NaN\n",
              "\n",
              "[5 rows x 31 columns]"
            ]
          },
          "metadata": {
            "tags": []
          },
          "execution_count": 12
        }
      ]
    },
    {
      "cell_type": "code",
      "metadata": {
        "id": "qrycJ6S0N2XV",
        "outputId": "15173c6b-e865-41ee-b40c-28d3c0e51bb4",
        "colab": {
          "base_uri": "https://localhost:8080/",
          "height": 35
        }
      },
      "source": [
        "# O tamanho do dataframe:\n",
        "df_cc.shape"
      ],
      "execution_count": 13,
      "outputs": [
        {
          "output_type": "execute_result",
          "data": {
            "text/plain": [
              "(12842, 31)"
            ]
          },
          "metadata": {
            "tags": []
          },
          "execution_count": 13
        }
      ]
    },
    {
      "cell_type": "code",
      "metadata": {
        "id": "cpHp6zKeOCzx",
        "outputId": "319df857-6e6e-4d67-c624-616347476c2f",
        "colab": {
          "base_uri": "https://localhost:8080/",
          "height": 72
        }
      },
      "source": [
        "# A variável TARGET é a CLASS\n",
        "# Vamos ver as respostas target existentes do dataframe, e suas quantidades\n",
        "df_cc['Class'].value_counts()"
      ],
      "execution_count": 14,
      "outputs": [
        {
          "output_type": "execute_result",
          "data": {
            "text/plain": [
              "0.0    12785\n",
              "1.0       56\n",
              "Name: Class, dtype: int64"
            ]
          },
          "metadata": {
            "tags": []
          },
          "execution_count": 14
        }
      ]
    },
    {
      "cell_type": "markdown",
      "metadata": {
        "id": "BUSzBn_GOtE7"
      },
      "source": [
        "## Vemos que o Dataset está bem desbalanceado, em termos de target, pois há apenas 56 tuplas - registros - linhas com a resposta 1.0, e mais de 12 mil com a resposta 0.0"
      ]
    },
    {
      "cell_type": "code",
      "metadata": {
        "id": "L9fsIqjDOQrP",
        "outputId": "8140b608-8c3a-4dc2-e62e-435ce9397e5d",
        "colab": {
          "base_uri": "https://localhost:8080/",
          "height": 599
        }
      },
      "source": [
        "# Análise dos Missing Values (valores faltantes NaN)\n",
        "df_cc.isnull().sum()\n",
        "\n",
        "# Podemos ver que há apenas um valor NaN para as variáveis, que por acaso é a última linha do dataframe,\n",
        "# nas variáveis V10 até a última."
      ],
      "execution_count": 15,
      "outputs": [
        {
          "output_type": "execute_result",
          "data": {
            "text/plain": [
              "Time      0\n",
              "V1        0\n",
              "V2        0\n",
              "V3        0\n",
              "V4        0\n",
              "V5        0\n",
              "V6        0\n",
              "V7        0\n",
              "V8        0\n",
              "V9        0\n",
              "V10       1\n",
              "V11       1\n",
              "V12       1\n",
              "V13       1\n",
              "V14       1\n",
              "V15       1\n",
              "V16       1\n",
              "V17       1\n",
              "V18       1\n",
              "V19       1\n",
              "V20       1\n",
              "V21       1\n",
              "V22       1\n",
              "V23       1\n",
              "V24       1\n",
              "V25       1\n",
              "V26       1\n",
              "V27       1\n",
              "V28       1\n",
              "Amount    1\n",
              "Class     1\n",
              "dtype: int64"
            ]
          },
          "metadata": {
            "tags": []
          },
          "execution_count": 15
        }
      ]
    },
    {
      "cell_type": "code",
      "metadata": {
        "id": "aaBWM9EcP58i",
        "outputId": "ee7c60b5-a2d4-4eff-a689-9744fa968d8d",
        "colab": {
          "base_uri": "https://localhost:8080/",
          "height": 35
        }
      },
      "source": [
        "df_cc.shape"
      ],
      "execution_count": 16,
      "outputs": [
        {
          "output_type": "execute_result",
          "data": {
            "text/plain": [
              "(12842, 31)"
            ]
          },
          "metadata": {
            "tags": []
          },
          "execution_count": 16
        }
      ]
    },
    {
      "cell_type": "code",
      "metadata": {
        "id": "IsD6VVe-PLrw",
        "outputId": "2d057b20-b76e-4f56-d21a-bad8e812ad6e",
        "colab": {
          "base_uri": "https://localhost:8080/",
          "height": 35
        }
      },
      "source": [
        "# Como  é apenas uma linha, decidi excluir esta linha do dataframe.\n",
        "# Vou fazer uma cópia para não alterar o dataframe original\n",
        "# o shape do df_cc2, portanto terá uma linha a menos que o dataframe original df_cc\n",
        "df_cc2 = df_cc.copy()\n",
        "df_cc2 = df_cc2.dropna()\n",
        "df_cc2.shape"
      ],
      "execution_count": 17,
      "outputs": [
        {
          "output_type": "execute_result",
          "data": {
            "text/plain": [
              "(12841, 31)"
            ]
          },
          "metadata": {
            "tags": []
          },
          "execution_count": 17
        }
      ]
    },
    {
      "cell_type": "code",
      "metadata": {
        "id": "pfoyb8cAV7x6"
      },
      "source": [
        ""
      ],
      "execution_count": null,
      "outputs": []
    },
    {
      "cell_type": "code",
      "metadata": {
        "id": "gODSir6NV77B"
      },
      "source": [
        ""
      ],
      "execution_count": null,
      "outputs": []
    },
    {
      "cell_type": "code",
      "metadata": {
        "id": "1PaZQPktP5CC",
        "outputId": "4da1cdea-42ea-494a-e3c0-2cb8bb505aa6",
        "colab": {
          "base_uri": "https://localhost:8080/",
          "height": 90
        }
      },
      "source": [
        "# Vamos agora criar dois conjuntos: \n",
        "# df_y -> Variável Resposta\n",
        "# df_X -> Variáveis Preditivas\n",
        "\n",
        "df_y = df_cc2['Class']\n",
        "df_y.head(3)"
      ],
      "execution_count": 18,
      "outputs": [
        {
          "output_type": "execute_result",
          "data": {
            "text/plain": [
              "0    0.0\n",
              "1    0.0\n",
              "2    0.0\n",
              "Name: Class, dtype: float64"
            ]
          },
          "metadata": {
            "tags": []
          },
          "execution_count": 18
        }
      ]
    },
    {
      "cell_type": "code",
      "metadata": {
        "id": "ffWtI92GQ0li",
        "outputId": "6f68d23a-6683-4432-9c03-239e5cf1475a",
        "colab": {
          "base_uri": "https://localhost:8080/",
          "height": 158
        }
      },
      "source": [
        "# Retirando a coluna target para o dataframe com as colunas preditivas.\n",
        "df_X = df_cc2.copy()\n",
        "df_X.drop(columns = ['Class'], axis = 1, inplace = True)\n",
        "df_X.head(3)"
      ],
      "execution_count": 19,
      "outputs": [
        {
          "output_type": "execute_result",
          "data": {
            "text/html": [
              "<div>\n",
              "<style scoped>\n",
              "    .dataframe tbody tr th:only-of-type {\n",
              "        vertical-align: middle;\n",
              "    }\n",
              "\n",
              "    .dataframe tbody tr th {\n",
              "        vertical-align: top;\n",
              "    }\n",
              "\n",
              "    .dataframe thead th {\n",
              "        text-align: right;\n",
              "    }\n",
              "</style>\n",
              "<table border=\"1\" class=\"dataframe\">\n",
              "  <thead>\n",
              "    <tr style=\"text-align: right;\">\n",
              "      <th></th>\n",
              "      <th>Time</th>\n",
              "      <th>V1</th>\n",
              "      <th>V2</th>\n",
              "      <th>V3</th>\n",
              "      <th>V4</th>\n",
              "      <th>V5</th>\n",
              "      <th>V6</th>\n",
              "      <th>V7</th>\n",
              "      <th>V8</th>\n",
              "      <th>V9</th>\n",
              "      <th>V10</th>\n",
              "      <th>V11</th>\n",
              "      <th>V12</th>\n",
              "      <th>V13</th>\n",
              "      <th>V14</th>\n",
              "      <th>V15</th>\n",
              "      <th>V16</th>\n",
              "      <th>V17</th>\n",
              "      <th>V18</th>\n",
              "      <th>V19</th>\n",
              "      <th>V20</th>\n",
              "      <th>V21</th>\n",
              "      <th>V22</th>\n",
              "      <th>V23</th>\n",
              "      <th>V24</th>\n",
              "      <th>V25</th>\n",
              "      <th>V26</th>\n",
              "      <th>V27</th>\n",
              "      <th>V28</th>\n",
              "      <th>Amount</th>\n",
              "    </tr>\n",
              "  </thead>\n",
              "  <tbody>\n",
              "    <tr>\n",
              "      <th>0</th>\n",
              "      <td>0</td>\n",
              "      <td>-1.359807</td>\n",
              "      <td>-0.072781</td>\n",
              "      <td>2.536347</td>\n",
              "      <td>1.378155</td>\n",
              "      <td>-0.338321</td>\n",
              "      <td>0.462388</td>\n",
              "      <td>0.239599</td>\n",
              "      <td>0.098698</td>\n",
              "      <td>0.363787</td>\n",
              "      <td>0.090794</td>\n",
              "      <td>-0.551600</td>\n",
              "      <td>-0.617801</td>\n",
              "      <td>-0.991390</td>\n",
              "      <td>-0.311169</td>\n",
              "      <td>1.468177</td>\n",
              "      <td>-0.470401</td>\n",
              "      <td>0.207971</td>\n",
              "      <td>0.025791</td>\n",
              "      <td>0.403993</td>\n",
              "      <td>0.251412</td>\n",
              "      <td>-0.018307</td>\n",
              "      <td>0.277838</td>\n",
              "      <td>-0.110474</td>\n",
              "      <td>0.066928</td>\n",
              "      <td>0.128539</td>\n",
              "      <td>-0.189115</td>\n",
              "      <td>0.133558</td>\n",
              "      <td>-0.021053</td>\n",
              "      <td>149.62</td>\n",
              "    </tr>\n",
              "    <tr>\n",
              "      <th>1</th>\n",
              "      <td>0</td>\n",
              "      <td>1.191857</td>\n",
              "      <td>0.266151</td>\n",
              "      <td>0.166480</td>\n",
              "      <td>0.448154</td>\n",
              "      <td>0.060018</td>\n",
              "      <td>-0.082361</td>\n",
              "      <td>-0.078803</td>\n",
              "      <td>0.085102</td>\n",
              "      <td>-0.255425</td>\n",
              "      <td>-0.166974</td>\n",
              "      <td>1.612727</td>\n",
              "      <td>1.065235</td>\n",
              "      <td>0.489095</td>\n",
              "      <td>-0.143772</td>\n",
              "      <td>0.635558</td>\n",
              "      <td>0.463917</td>\n",
              "      <td>-0.114805</td>\n",
              "      <td>-0.183361</td>\n",
              "      <td>-0.145783</td>\n",
              "      <td>-0.069083</td>\n",
              "      <td>-0.225775</td>\n",
              "      <td>-0.638672</td>\n",
              "      <td>0.101288</td>\n",
              "      <td>-0.339846</td>\n",
              "      <td>0.167170</td>\n",
              "      <td>0.125895</td>\n",
              "      <td>-0.008983</td>\n",
              "      <td>0.014724</td>\n",
              "      <td>2.69</td>\n",
              "    </tr>\n",
              "    <tr>\n",
              "      <th>2</th>\n",
              "      <td>1</td>\n",
              "      <td>-1.358354</td>\n",
              "      <td>-1.340163</td>\n",
              "      <td>1.773209</td>\n",
              "      <td>0.379780</td>\n",
              "      <td>-0.503198</td>\n",
              "      <td>1.800499</td>\n",
              "      <td>0.791461</td>\n",
              "      <td>0.247676</td>\n",
              "      <td>-1.514654</td>\n",
              "      <td>0.207643</td>\n",
              "      <td>0.624501</td>\n",
              "      <td>0.066084</td>\n",
              "      <td>0.717293</td>\n",
              "      <td>-0.165946</td>\n",
              "      <td>2.345865</td>\n",
              "      <td>-2.890083</td>\n",
              "      <td>1.109969</td>\n",
              "      <td>-0.121359</td>\n",
              "      <td>-2.261857</td>\n",
              "      <td>0.524980</td>\n",
              "      <td>0.247998</td>\n",
              "      <td>0.771679</td>\n",
              "      <td>0.909412</td>\n",
              "      <td>-0.689281</td>\n",
              "      <td>-0.327642</td>\n",
              "      <td>-0.139097</td>\n",
              "      <td>-0.055353</td>\n",
              "      <td>-0.059752</td>\n",
              "      <td>378.66</td>\n",
              "    </tr>\n",
              "  </tbody>\n",
              "</table>\n",
              "</div>"
            ],
            "text/plain": [
              "   Time        V1        V2        V3  ...       V26       V27       V28  Amount\n",
              "0     0 -1.359807 -0.072781  2.536347  ... -0.189115  0.133558 -0.021053  149.62\n",
              "1     0  1.191857  0.266151  0.166480  ...  0.125895 -0.008983  0.014724    2.69\n",
              "2     1 -1.358354 -1.340163  1.773209  ... -0.139097 -0.055353 -0.059752  378.66\n",
              "\n",
              "[3 rows x 30 columns]"
            ]
          },
          "metadata": {
            "tags": []
          },
          "execution_count": 19
        }
      ]
    },
    {
      "cell_type": "markdown",
      "metadata": {
        "id": "suJVKEuDRgJW"
      },
      "source": [
        "## distribuir o dataframe com as colunas preditivas (amostra)"
      ]
    },
    {
      "cell_type": "code",
      "metadata": {
        "id": "xy-E1aLfRRXu"
      },
      "source": [
        "# DISTRIBUINDO O DATAFRAME ENTRE TREINAMENTO E TESTE, aleatoriamente com a função train_test_split\n",
        "# obs: f_Test_Size e i_Seed são variáveis globais que eu defini no começo como 0.3 e 20111974 respectivamente\n",
        "\n",
        "from sklearn.model_selection import train_test_split\n",
        "X_treinamento, X_teste, y_treinamento, y_teste = train_test_split(df_X, df_y, test_size = f_Test_Size, random_state = i_Seed)"
      ],
      "execution_count": 20,
      "outputs": []
    },
    {
      "cell_type": "code",
      "metadata": {
        "id": "5q9xUkgyShiV",
        "outputId": "07964af6-ea81-41be-f1df-35ed26cef57a",
        "colab": {
          "base_uri": "https://localhost:8080/",
          "height": 35
        }
      },
      "source": [
        "# Vejamos como ficou a distribuição\n",
        "# Das 12841 linhas, ficaram 8988 para o treinamento e 3853 para os testes.\n",
        "df_X.shape, X_treinamento.shape, X_teste.shape, X_treinamento.shape[0]/df_X.shape[0]"
      ],
      "execution_count": 21,
      "outputs": [
        {
          "output_type": "execute_result",
          "data": {
            "text/plain": [
              "((12841, 30), (8988, 30), (3853, 30), 0.6999454871115957)"
            ]
          },
          "metadata": {
            "tags": []
          },
          "execution_count": 21
        }
      ]
    },
    {
      "cell_type": "markdown",
      "metadata": {
        "id": "Qu6Bt51wYLWO"
      },
      "source": [
        "##Vamos escolher um modelo de ML: DecisionTreeClassifier\n"
      ]
    },
    {
      "cell_type": "code",
      "metadata": {
        "id": "m9SndqvJYLl_"
      },
      "source": [
        "from sklearn.tree import DecisionTreeClassifier"
      ],
      "execution_count": 22,
      "outputs": []
    },
    {
      "cell_type": "code",
      "metadata": {
        "id": "bBmMs9e_YLs8"
      },
      "source": [
        "# Instanciar o modelo neste primeiro momento, para verificar as colunas mais imoprtantes em outro fit logo abaixo.\n",
        "ml_DT = DecisionTreeClassifier(criterion = 'gini', \n",
        "                               splitter = 'best', \n",
        "                               max_depth = None, \n",
        "                               min_samples_split = 2, \n",
        "                               min_samples_leaf = 1, \n",
        "                               min_weight_fraction_leaf = 0.0, \n",
        "                               max_features = None, \n",
        "                               random_state = i_Seed, \n",
        "                               max_leaf_nodes = None, \n",
        "                               min_impurity_decrease = 0.0, \n",
        "                               min_impurity_split = None, \n",
        "                               class_weight = None, \n",
        "                               presort = False)"
      ],
      "execution_count": 23,
      "outputs": []
    },
    {
      "cell_type": "code",
      "metadata": {
        "id": "UW05nfq0sK0z",
        "outputId": "aae13754-494e-497e-b441-867a10158c8d",
        "colab": {
          "base_uri": "https://localhost:8080/",
          "height": 126
        }
      },
      "source": [
        "ml_DT"
      ],
      "execution_count": 24,
      "outputs": [
        {
          "output_type": "execute_result",
          "data": {
            "text/plain": [
              "DecisionTreeClassifier(ccp_alpha=0.0, class_weight=None, criterion='gini',\n",
              "                       max_depth=None, max_features=None, max_leaf_nodes=None,\n",
              "                       min_impurity_decrease=0.0, min_impurity_split=None,\n",
              "                       min_samples_leaf=1, min_samples_split=2,\n",
              "                       min_weight_fraction_leaf=0.0, presort=False,\n",
              "                       random_state=20111974, splitter='best')"
            ]
          },
          "metadata": {
            "tags": []
          },
          "execution_count": 24
        }
      ]
    },
    {
      "cell_type": "markdown",
      "metadata": {
        "id": "xwwYQpDh0N43"
      },
      "source": [
        "##Vamos ver a correlação entre as variáveis preditivas entre si ,e com a variável target também."
      ]
    },
    {
      "cell_type": "code",
      "metadata": {
        "id": "8m1sobHD0xT-",
        "outputId": "da4e0a0a-70e5-4601-a4f5-20e17b260f9d",
        "colab": {
          "base_uri": "https://localhost:8080/",
          "height": 867
        }
      },
      "source": [
        "plot_corr(df_cc2)"
      ],
      "execution_count": 25,
      "outputs": [
        {
          "output_type": "display_data",
          "data": {
            "image/png": "[encoded data removed]",
            "text/plain": [
              "<Figure size 1080x1080 with 1 Axes>"
            ]
          },
          "metadata": {
            "tags": [],
            "needs_background": "light"
          }
        }
      ]
    },
    {
      "cell_type": "markdown",
      "metadata": {
        "id": "xHni3QwUV8e3"
      },
      "source": [
        "## VERIFICANDO QUAIS AS PRINCIPAIS VARIÁVEIS, AS MAIS IMPORTANTES:"
      ]
    },
    {
      "cell_type": "code",
      "metadata": {
        "id": "dpADhkbbWthX",
        "outputId": "ff5294b8-505c-4c6d-875c-2a015582c090",
        "colab": {
          "base_uri": "https://localhost:8080/",
          "height": 383
        }
      },
      "source": [
        "# Para verificar quais colunas/variáveis são as mais importantes,\n",
        "# vou executar a função já criada: seleciona_colunas_relevantes(modelo, X_treinamento, X_teste, threshold = 0.05)\n",
        "\n",
        "seleciona_colunas_relevantes(modelo = ml_DT,X_treinamento = X_treinamento, X_teste = X_teste)"
      ],
      "execution_count": 26,
      "outputs": [
        {
          "output_type": "stream",
          "text": [
            "/usr/local/lib/python3.6/dist-packages/sklearn/tree/_classes.py:319: FutureWarning: The parameter 'presort' is deprecated and has no effect. It will be removed in v0.24. You can suppress this warning by not passing any value to the 'presort' parameter.\n",
            "  FutureWarning)\n"
          ],
          "name": "stderr"
        },
        {
          "output_type": "stream",
          "text": [
            "\n",
            "********** COLUNAS Relevantes ******\n",
            "[12 15 17]\n"
          ],
          "name": "stdout"
        },
        {
          "output_type": "execute_result",
          "data": {
            "text/plain": [
              "(array([[ 1.46796278, -1.88639013,  1.04641545],\n",
              "        [-2.53507653,  0.56252422,  0.23682534],\n",
              "        [ 0.91213358, -0.72219285, -0.53231629],\n",
              "        ...,\n",
              "        [ 1.26503375,  0.56504941, -0.95096273],\n",
              "        [-1.99083711,  0.46734464,  0.61605017],\n",
              "        [ 0.06443944,  0.97912334, -0.59036011]]),\n",
              " array([[-0.82535974, -0.46420694,  0.51908598],\n",
              "        [-1.70623292, -0.49732695,  0.13049473],\n",
              "        [-1.20923164,  0.14147256, -0.16622207],\n",
              "        ...,\n",
              "        [-2.84743407, -1.63203286,  0.39412851],\n",
              "        [-1.85346181, -0.76322193, -0.24240143],\n",
              "        [-2.02312058, -0.09744221,  0.39238383]]))"
            ]
          },
          "metadata": {
            "tags": []
          },
          "execution_count": 26
        }
      ]
    },
    {
      "cell_type": "code",
      "metadata": {
        "id": "ndFSeI1xWtpN",
        "outputId": "d85d61e8-1df5-403d-9cd1-5409c926775b",
        "colab": {
          "base_uri": "https://localhost:8080/",
          "height": 930
        }
      },
      "source": [
        "# Testando agora com a outra função para ver as colunas relevantes:\n",
        "# mostra_feature_importances(clf, X_treinamento, y_treinamento=None, top_n=10, figsize=(8,8), print_table=False, title=\"Feature Importances\")\n",
        "\n",
        "mostra_feature_importances(ml_DT,X_treinamento,y_treinamento)  "
      ],
      "execution_count": 27,
      "outputs": [
        {
          "output_type": "stream",
          "text": [
            "/usr/local/lib/python3.6/dist-packages/sklearn/tree/_classes.py:319: FutureWarning: The parameter 'presort' is deprecated and has no effect. It will be removed in v0.24. You can suppress this warning by not passing any value to the 'presort' parameter.\n",
            "  FutureWarning)\n"
          ],
          "name": "stderr"
        },
        {
          "output_type": "display_data",
          "data": {
            "image/png": "[encoded data removed]",
            "text/plain": [
              "<Figure size 576x576 with 1 Axes>"
            ]
          },
          "metadata": {
            "tags": [],
            "needs_background": "light"
          }
        },
        {
          "output_type": "execute_result",
          "data": {
            "text/html": [
              "<div>\n",
              "<style scoped>\n",
              "    .dataframe tbody tr th:only-of-type {\n",
              "        vertical-align: middle;\n",
              "    }\n",
              "\n",
              "    .dataframe tbody tr th {\n",
              "        vertical-align: top;\n",
              "    }\n",
              "\n",
              "    .dataframe thead th {\n",
              "        text-align: right;\n",
              "    }\n",
              "</style>\n",
              "<table border=\"1\" class=\"dataframe\">\n",
              "  <thead>\n",
              "    <tr style=\"text-align: right;\">\n",
              "      <th></th>\n",
              "      <th>importance</th>\n",
              "    </tr>\n",
              "    <tr>\n",
              "      <th>feature</th>\n",
              "      <th></th>\n",
              "    </tr>\n",
              "  </thead>\n",
              "  <tbody>\n",
              "    <tr>\n",
              "      <th>V25</th>\n",
              "      <td>0.000000</td>\n",
              "    </tr>\n",
              "    <tr>\n",
              "      <th>V4</th>\n",
              "      <td>0.000096</td>\n",
              "    </tr>\n",
              "    <tr>\n",
              "      <th>V14</th>\n",
              "      <td>0.006757</td>\n",
              "    </tr>\n",
              "    <tr>\n",
              "      <th>V27</th>\n",
              "      <td>0.020354</td>\n",
              "    </tr>\n",
              "    <tr>\n",
              "      <th>V23</th>\n",
              "      <td>0.026477</td>\n",
              "    </tr>\n",
              "    <tr>\n",
              "      <th>V1</th>\n",
              "      <td>0.027039</td>\n",
              "    </tr>\n",
              "    <tr>\n",
              "      <th>V19</th>\n",
              "      <td>0.027130</td>\n",
              "    </tr>\n",
              "    <tr>\n",
              "      <th>V15</th>\n",
              "      <td>0.090081</td>\n",
              "    </tr>\n",
              "    <tr>\n",
              "      <th>V17</th>\n",
              "      <td>0.093557</td>\n",
              "    </tr>\n",
              "    <tr>\n",
              "      <th>V12</th>\n",
              "      <td>0.708508</td>\n",
              "    </tr>\n",
              "  </tbody>\n",
              "</table>\n",
              "</div>"
            ],
            "text/plain": [
              "         importance\n",
              "feature            \n",
              "V25        0.000000\n",
              "V4         0.000096\n",
              "V14        0.006757\n",
              "V27        0.020354\n",
              "V23        0.026477\n",
              "V1         0.027039\n",
              "V19        0.027130\n",
              "V15        0.090081\n",
              "V17        0.093557\n",
              "V12        0.708508"
            ]
          },
          "metadata": {
            "tags": []
          },
          "execution_count": 27
        }
      ]
    },
    {
      "cell_type": "code",
      "metadata": {
        "id": "xSQ1W9Ofx8TR",
        "outputId": "fc9baf72-3aa2-497a-d5c5-fbf1301fb4c0",
        "colab": {
          "base_uri": "https://localhost:8080/",
          "height": 98
        }
      },
      "source": [
        "df_cc2.head(1)"
      ],
      "execution_count": 28,
      "outputs": [
        {
          "output_type": "execute_result",
          "data": {
            "text/html": [
              "<div>\n",
              "<style scoped>\n",
              "    .dataframe tbody tr th:only-of-type {\n",
              "        vertical-align: middle;\n",
              "    }\n",
              "\n",
              "    .dataframe tbody tr th {\n",
              "        vertical-align: top;\n",
              "    }\n",
              "\n",
              "    .dataframe thead th {\n",
              "        text-align: right;\n",
              "    }\n",
              "</style>\n",
              "<table border=\"1\" class=\"dataframe\">\n",
              "  <thead>\n",
              "    <tr style=\"text-align: right;\">\n",
              "      <th></th>\n",
              "      <th>Time</th>\n",
              "      <th>V1</th>\n",
              "      <th>V2</th>\n",
              "      <th>V3</th>\n",
              "      <th>V4</th>\n",
              "      <th>V5</th>\n",
              "      <th>V6</th>\n",
              "      <th>V7</th>\n",
              "      <th>V8</th>\n",
              "      <th>V9</th>\n",
              "      <th>V10</th>\n",
              "      <th>V11</th>\n",
              "      <th>V12</th>\n",
              "      <th>V13</th>\n",
              "      <th>V14</th>\n",
              "      <th>V15</th>\n",
              "      <th>V16</th>\n",
              "      <th>V17</th>\n",
              "      <th>V18</th>\n",
              "      <th>V19</th>\n",
              "      <th>V20</th>\n",
              "      <th>V21</th>\n",
              "      <th>V22</th>\n",
              "      <th>V23</th>\n",
              "      <th>V24</th>\n",
              "      <th>V25</th>\n",
              "      <th>V26</th>\n",
              "      <th>V27</th>\n",
              "      <th>V28</th>\n",
              "      <th>Amount</th>\n",
              "      <th>Class</th>\n",
              "    </tr>\n",
              "  </thead>\n",
              "  <tbody>\n",
              "    <tr>\n",
              "      <th>0</th>\n",
              "      <td>0</td>\n",
              "      <td>-1.359807</td>\n",
              "      <td>-0.072781</td>\n",
              "      <td>2.536347</td>\n",
              "      <td>1.378155</td>\n",
              "      <td>-0.338321</td>\n",
              "      <td>0.462388</td>\n",
              "      <td>0.239599</td>\n",
              "      <td>0.098698</td>\n",
              "      <td>0.363787</td>\n",
              "      <td>0.090794</td>\n",
              "      <td>-0.5516</td>\n",
              "      <td>-0.617801</td>\n",
              "      <td>-0.99139</td>\n",
              "      <td>-0.311169</td>\n",
              "      <td>1.468177</td>\n",
              "      <td>-0.470401</td>\n",
              "      <td>0.207971</td>\n",
              "      <td>0.025791</td>\n",
              "      <td>0.403993</td>\n",
              "      <td>0.251412</td>\n",
              "      <td>-0.018307</td>\n",
              "      <td>0.277838</td>\n",
              "      <td>-0.110474</td>\n",
              "      <td>0.066928</td>\n",
              "      <td>0.128539</td>\n",
              "      <td>-0.189115</td>\n",
              "      <td>0.133558</td>\n",
              "      <td>-0.021053</td>\n",
              "      <td>149.62</td>\n",
              "      <td>0.0</td>\n",
              "    </tr>\n",
              "  </tbody>\n",
              "</table>\n",
              "</div>"
            ],
            "text/plain": [
              "   Time        V1        V2        V3  ...       V27       V28  Amount  Class\n",
              "0     0 -1.359807 -0.072781  2.536347  ...  0.133558 -0.021053  149.62    0.0\n",
              "\n",
              "[1 rows x 31 columns]"
            ]
          },
          "metadata": {
            "tags": []
          },
          "execution_count": 28
        }
      ]
    },
    {
      "cell_type": "markdown",
      "metadata": {
        "id": "a4w3kdLkwVa4"
      },
      "source": [
        "# mostou-se importantes V12, V17, V15,V23,V27,V14, em ambas as funções rodadas."
      ]
    },
    {
      "cell_type": "code",
      "metadata": {
        "id": "bJRt-vMtwgCt",
        "outputId": "cc9e28c9-98d7-4cdc-9756-d9e5ec22903c",
        "colab": {
          "base_uri": "https://localhost:8080/",
          "height": 128
        }
      },
      "source": [
        "# RESOLVI então reduzir as colunas/variáveis preditivas apenas para as acima indicadas.\n",
        "# Para isso, vou pegar novamente o df_cc2, e gerar novos df_X, apenas com as colunas importantes, e então\n",
        "# criar novos X_treinamento, X_teste, y_treinamento, y_teste\n",
        "\n",
        "df_cc3 = df_cc2.copy()\n",
        "df_cc3.head(2)\n",
        "\n"
      ],
      "execution_count": 29,
      "outputs": [
        {
          "output_type": "execute_result",
          "data": {
            "text/html": [
              "<div>\n",
              "<style scoped>\n",
              "    .dataframe tbody tr th:only-of-type {\n",
              "        vertical-align: middle;\n",
              "    }\n",
              "\n",
              "    .dataframe tbody tr th {\n",
              "        vertical-align: top;\n",
              "    }\n",
              "\n",
              "    .dataframe thead th {\n",
              "        text-align: right;\n",
              "    }\n",
              "</style>\n",
              "<table border=\"1\" class=\"dataframe\">\n",
              "  <thead>\n",
              "    <tr style=\"text-align: right;\">\n",
              "      <th></th>\n",
              "      <th>Time</th>\n",
              "      <th>V1</th>\n",
              "      <th>V2</th>\n",
              "      <th>V3</th>\n",
              "      <th>V4</th>\n",
              "      <th>V5</th>\n",
              "      <th>V6</th>\n",
              "      <th>V7</th>\n",
              "      <th>V8</th>\n",
              "      <th>V9</th>\n",
              "      <th>V10</th>\n",
              "      <th>V11</th>\n",
              "      <th>V12</th>\n",
              "      <th>V13</th>\n",
              "      <th>V14</th>\n",
              "      <th>V15</th>\n",
              "      <th>V16</th>\n",
              "      <th>V17</th>\n",
              "      <th>V18</th>\n",
              "      <th>V19</th>\n",
              "      <th>V20</th>\n",
              "      <th>V21</th>\n",
              "      <th>V22</th>\n",
              "      <th>V23</th>\n",
              "      <th>V24</th>\n",
              "      <th>V25</th>\n",
              "      <th>V26</th>\n",
              "      <th>V27</th>\n",
              "      <th>V28</th>\n",
              "      <th>Amount</th>\n",
              "      <th>Class</th>\n",
              "    </tr>\n",
              "  </thead>\n",
              "  <tbody>\n",
              "    <tr>\n",
              "      <th>0</th>\n",
              "      <td>0</td>\n",
              "      <td>-1.359807</td>\n",
              "      <td>-0.072781</td>\n",
              "      <td>2.536347</td>\n",
              "      <td>1.378155</td>\n",
              "      <td>-0.338321</td>\n",
              "      <td>0.462388</td>\n",
              "      <td>0.239599</td>\n",
              "      <td>0.098698</td>\n",
              "      <td>0.363787</td>\n",
              "      <td>0.090794</td>\n",
              "      <td>-0.551600</td>\n",
              "      <td>-0.617801</td>\n",
              "      <td>-0.991390</td>\n",
              "      <td>-0.311169</td>\n",
              "      <td>1.468177</td>\n",
              "      <td>-0.470401</td>\n",
              "      <td>0.207971</td>\n",
              "      <td>0.025791</td>\n",
              "      <td>0.403993</td>\n",
              "      <td>0.251412</td>\n",
              "      <td>-0.018307</td>\n",
              "      <td>0.277838</td>\n",
              "      <td>-0.110474</td>\n",
              "      <td>0.066928</td>\n",
              "      <td>0.128539</td>\n",
              "      <td>-0.189115</td>\n",
              "      <td>0.133558</td>\n",
              "      <td>-0.021053</td>\n",
              "      <td>149.62</td>\n",
              "      <td>0.0</td>\n",
              "    </tr>\n",
              "    <tr>\n",
              "      <th>1</th>\n",
              "      <td>0</td>\n",
              "      <td>1.191857</td>\n",
              "      <td>0.266151</td>\n",
              "      <td>0.166480</td>\n",
              "      <td>0.448154</td>\n",
              "      <td>0.060018</td>\n",
              "      <td>-0.082361</td>\n",
              "      <td>-0.078803</td>\n",
              "      <td>0.085102</td>\n",
              "      <td>-0.255425</td>\n",
              "      <td>-0.166974</td>\n",
              "      <td>1.612727</td>\n",
              "      <td>1.065235</td>\n",
              "      <td>0.489095</td>\n",
              "      <td>-0.143772</td>\n",
              "      <td>0.635558</td>\n",
              "      <td>0.463917</td>\n",
              "      <td>-0.114805</td>\n",
              "      <td>-0.183361</td>\n",
              "      <td>-0.145783</td>\n",
              "      <td>-0.069083</td>\n",
              "      <td>-0.225775</td>\n",
              "      <td>-0.638672</td>\n",
              "      <td>0.101288</td>\n",
              "      <td>-0.339846</td>\n",
              "      <td>0.167170</td>\n",
              "      <td>0.125895</td>\n",
              "      <td>-0.008983</td>\n",
              "      <td>0.014724</td>\n",
              "      <td>2.69</td>\n",
              "      <td>0.0</td>\n",
              "    </tr>\n",
              "  </tbody>\n",
              "</table>\n",
              "</div>"
            ],
            "text/plain": [
              "   Time        V1        V2        V3  ...       V27       V28  Amount  Class\n",
              "0     0 -1.359807 -0.072781  2.536347  ...  0.133558 -0.021053  149.62    0.0\n",
              "1     0  1.191857  0.266151  0.166480  ... -0.008983  0.014724    2.69    0.0\n",
              "\n",
              "[2 rows x 31 columns]"
            ]
          },
          "metadata": {
            "tags": []
          },
          "execution_count": 29
        }
      ]
    },
    {
      "cell_type": "markdown",
      "metadata": {
        "id": "jcFKpVsNyfEI"
      },
      "source": [
        ""
      ]
    },
    {
      "cell_type": "code",
      "metadata": {
        "id": "518Jaj36yMOo"
      },
      "source": [
        "df_cc3.drop(columns=['V1','V2','V3','V4','V5','V6','V7','V8','V9','V10','V11','V13','V16','V18',\n",
        "                         'V19','V20','V21','V22','V24','V25','V26','V28','Class'], axis=1, inplace=True)\n"
      ],
      "execution_count": 30,
      "outputs": []
    },
    {
      "cell_type": "code",
      "metadata": {
        "id": "v78zc3P3yw_a",
        "outputId": "bbaa2a3a-4a22-44c9-ce3e-2274ff31d7ab",
        "colab": {
          "base_uri": "https://localhost:8080/",
          "height": 108
        }
      },
      "source": [
        "df_X = df_cc3.copy()\n",
        "df_X.head(2)"
      ],
      "execution_count": 31,
      "outputs": [
        {
          "output_type": "execute_result",
          "data": {
            "text/html": [
              "<div>\n",
              "<style scoped>\n",
              "    .dataframe tbody tr th:only-of-type {\n",
              "        vertical-align: middle;\n",
              "    }\n",
              "\n",
              "    .dataframe tbody tr th {\n",
              "        vertical-align: top;\n",
              "    }\n",
              "\n",
              "    .dataframe thead th {\n",
              "        text-align: right;\n",
              "    }\n",
              "</style>\n",
              "<table border=\"1\" class=\"dataframe\">\n",
              "  <thead>\n",
              "    <tr style=\"text-align: right;\">\n",
              "      <th></th>\n",
              "      <th>Time</th>\n",
              "      <th>V12</th>\n",
              "      <th>V14</th>\n",
              "      <th>V15</th>\n",
              "      <th>V17</th>\n",
              "      <th>V23</th>\n",
              "      <th>V27</th>\n",
              "      <th>Amount</th>\n",
              "    </tr>\n",
              "  </thead>\n",
              "  <tbody>\n",
              "    <tr>\n",
              "      <th>0</th>\n",
              "      <td>0</td>\n",
              "      <td>-0.617801</td>\n",
              "      <td>-0.311169</td>\n",
              "      <td>1.468177</td>\n",
              "      <td>0.207971</td>\n",
              "      <td>-0.110474</td>\n",
              "      <td>0.133558</td>\n",
              "      <td>149.62</td>\n",
              "    </tr>\n",
              "    <tr>\n",
              "      <th>1</th>\n",
              "      <td>0</td>\n",
              "      <td>1.065235</td>\n",
              "      <td>-0.143772</td>\n",
              "      <td>0.635558</td>\n",
              "      <td>-0.114805</td>\n",
              "      <td>0.101288</td>\n",
              "      <td>-0.008983</td>\n",
              "      <td>2.69</td>\n",
              "    </tr>\n",
              "  </tbody>\n",
              "</table>\n",
              "</div>"
            ],
            "text/plain": [
              "   Time       V12       V14       V15       V17       V23       V27  Amount\n",
              "0     0 -0.617801 -0.311169  1.468177  0.207971 -0.110474  0.133558  149.62\n",
              "1     0  1.065235 -0.143772  0.635558 -0.114805  0.101288 -0.008983    2.69"
            ]
          },
          "metadata": {
            "tags": []
          },
          "execution_count": 31
        }
      ]
    },
    {
      "cell_type": "code",
      "metadata": {
        "id": "mRZIBzj7znj6",
        "outputId": "cb3a82f4-1ef5-4f4f-f342-a8bf76875506",
        "colab": {
          "base_uri": "https://localhost:8080/",
          "height": 265
        }
      },
      "source": [
        "df_X['V12'].hist(bins = 150);\n",
        "\n",
        "  "
      ],
      "execution_count": 32,
      "outputs": [
        {
          "output_type": "display_data",
          "data": {
            "image/png": "[encoded data removed]",
            "text/plain": [
              "<Figure size 432x288 with 1 Axes>"
            ]
          },
          "metadata": {
            "tags": [],
            "needs_background": "light"
          }
        }
      ]
    },
    {
      "cell_type": "code",
      "metadata": {
        "id": "RM_3vPJHYfSd",
        "outputId": "9d415569-9865-4320-8cd4-64481af4d41a",
        "colab": {
          "base_uri": "https://localhost:8080/",
          "height": 265
        }
      },
      "source": [
        "df_X['V14'].hist(bins = 150);\n"
      ],
      "execution_count": 33,
      "outputs": [
        {
          "output_type": "display_data",
          "data": {
            "image/png": "[encoded data removed]",
            "text/plain": [
              "<Figure size 432x288 with 1 Axes>"
            ]
          },
          "metadata": {
            "tags": [],
            "needs_background": "light"
          }
        }
      ]
    },
    {
      "cell_type": "code",
      "metadata": {
        "id": "Z_B4qebHIjbk",
        "outputId": "e6f7d52a-08fd-4305-f13e-337bb8763370",
        "colab": {
          "base_uri": "https://localhost:8080/",
          "height": 265
        }
      },
      "source": [
        "df_X['V15'].hist(bins = 150);\n",
        "\n"
      ],
      "execution_count": 34,
      "outputs": [
        {
          "output_type": "display_data",
          "data": {
            "image/png": "[encoded data removed]",
            "text/plain": [
              "<Figure size 432x288 with 1 Axes>"
            ]
          },
          "metadata": {
            "tags": [],
            "needs_background": "light"
          }
        }
      ]
    },
    {
      "cell_type": "code",
      "metadata": {
        "id": "jBNF35VwYZYU",
        "outputId": "8f204151-c68a-487d-99f7-19dabed8c16d",
        "colab": {
          "base_uri": "https://localhost:8080/",
          "height": 265
        }
      },
      "source": [
        "df_X['V17'].hist(bins = 150);"
      ],
      "execution_count": 35,
      "outputs": [
        {
          "output_type": "display_data",
          "data": {
            "image/png": "[encoded data removed]",
            "text/plain": [
              "<Figure size 432x288 with 1 Axes>"
            ]
          },
          "metadata": {
            "tags": [],
            "needs_background": "light"
          }
        }
      ]
    },
    {
      "cell_type": "code",
      "metadata": {
        "id": "c1Etwe5GYNxV",
        "outputId": "08829b86-9c54-4cba-a5e8-f8c89153491a",
        "colab": {
          "base_uri": "https://localhost:8080/",
          "height": 269
        }
      },
      "source": [
        "df_X['V23'].hist(bins = 150);\n"
      ],
      "execution_count": 36,
      "outputs": [
        {
          "output_type": "display_data",
          "data": {
            "image/png": "[encoded data removed]",
            "text/plain": [
              "<Figure size 432x288 with 1 Axes>"
            ]
          },
          "metadata": {
            "tags": [],
            "needs_background": "light"
          }
        }
      ]
    },
    {
      "cell_type": "code",
      "metadata": {
        "id": "OB12CFShYR5-",
        "outputId": "c3a8ee03-50b9-46f9-a66c-f56aba72ca31",
        "colab": {
          "base_uri": "https://localhost:8080/",
          "height": 283
        }
      },
      "source": [
        "df_X['V27'].hist(bins = 150)"
      ],
      "execution_count": 37,
      "outputs": [
        {
          "output_type": "execute_result",
          "data": {
            "text/plain": [
              "<matplotlib.axes._subplots.AxesSubplot at 0x7fbfe65eee80>"
            ]
          },
          "metadata": {
            "tags": []
          },
          "execution_count": 37
        },
        {
          "output_type": "display_data",
          "data": {
            "image/png": "[encoded data removed]",
            "text/plain": [
              "<Figure size 432x288 with 1 Axes>"
            ]
          },
          "metadata": {
            "tags": [],
            "needs_background": "light"
          }
        }
      ]
    },
    {
      "cell_type": "markdown",
      "metadata": {
        "id": "G0ynRJNqzMS_"
      },
      "source": [
        "# Análise das colunas preditivas eleitas como importantes quanto à curva de distribuição"
      ]
    },
    {
      "cell_type": "code",
      "metadata": {
        "id": "521JfVZr167E",
        "outputId": "5194dc51-b36d-46ce-ac4c-3feb0c70a485",
        "colab": {
          "base_uri": "https://localhost:8080/",
          "height": 299
        }
      },
      "source": [
        "# USANDO um comando reduzido do matplotlib.pyplot\n",
        "plt.figure(figsize=(10,8))\n",
        "df_X.diff(axis=0, periods=1).hist(color = 'k', alpha = 0.5, bins = 100);"
      ],
      "execution_count": 38,
      "outputs": [
        {
          "output_type": "display_data",
          "data": {
            "text/plain": [
              "<Figure size 720x576 with 0 Axes>"
            ]
          },
          "metadata": {
            "tags": []
          }
        },
        {
          "output_type": "display_data",
          "data": {
            "image/png": "[encoded data removed]",
            "text/plain": [
              "<Figure size 432x288 with 9 Axes>"
            ]
          },
          "metadata": {
            "tags": [],
            "needs_background": "light"
          }
        }
      ]
    },
    {
      "cell_type": "markdown",
      "metadata": {
        "id": "53pMMW0UZS7M"
      },
      "source": [
        "## Tentar normalizar as variáveis"
      ]
    },
    {
      "cell_type": "code",
      "metadata": {
        "id": "io384f265Ml7",
        "outputId": "bc60f6d3-f4e4-4d37-ad20-2127237f1a54",
        "colab": {
          "base_uri": "https://localhost:8080/",
          "height": 407
        }
      },
      "source": [
        "# Excluindo a coluna 'Time' que não tem serventia também.\n",
        "df_X.drop(columns = ['Time'], axis=1, inplace=True)\n",
        "df_X"
      ],
      "execution_count": 39,
      "outputs": [
        {
          "output_type": "execute_result",
          "data": {
            "text/html": [
              "<div>\n",
              "<style scoped>\n",
              "    .dataframe tbody tr th:only-of-type {\n",
              "        vertical-align: middle;\n",
              "    }\n",
              "\n",
              "    .dataframe tbody tr th {\n",
              "        vertical-align: top;\n",
              "    }\n",
              "\n",
              "    .dataframe thead th {\n",
              "        text-align: right;\n",
              "    }\n",
              "</style>\n",
              "<table border=\"1\" class=\"dataframe\">\n",
              "  <thead>\n",
              "    <tr style=\"text-align: right;\">\n",
              "      <th></th>\n",
              "      <th>V12</th>\n",
              "      <th>V14</th>\n",
              "      <th>V15</th>\n",
              "      <th>V17</th>\n",
              "      <th>V23</th>\n",
              "      <th>V27</th>\n",
              "      <th>Amount</th>\n",
              "    </tr>\n",
              "  </thead>\n",
              "  <tbody>\n",
              "    <tr>\n",
              "      <th>0</th>\n",
              "      <td>-0.617801</td>\n",
              "      <td>-0.311169</td>\n",
              "      <td>1.468177</td>\n",
              "      <td>0.207971</td>\n",
              "      <td>-0.110474</td>\n",
              "      <td>0.133558</td>\n",
              "      <td>149.62</td>\n",
              "    </tr>\n",
              "    <tr>\n",
              "      <th>1</th>\n",
              "      <td>1.065235</td>\n",
              "      <td>-0.143772</td>\n",
              "      <td>0.635558</td>\n",
              "      <td>-0.114805</td>\n",
              "      <td>0.101288</td>\n",
              "      <td>-0.008983</td>\n",
              "      <td>2.69</td>\n",
              "    </tr>\n",
              "    <tr>\n",
              "      <th>2</th>\n",
              "      <td>0.066084</td>\n",
              "      <td>-0.165946</td>\n",
              "      <td>2.345865</td>\n",
              "      <td>1.109969</td>\n",
              "      <td>0.909412</td>\n",
              "      <td>-0.055353</td>\n",
              "      <td>378.66</td>\n",
              "    </tr>\n",
              "    <tr>\n",
              "      <th>3</th>\n",
              "      <td>0.178228</td>\n",
              "      <td>-0.287924</td>\n",
              "      <td>-0.631418</td>\n",
              "      <td>-0.684093</td>\n",
              "      <td>-0.190321</td>\n",
              "      <td>0.062723</td>\n",
              "      <td>123.50</td>\n",
              "    </tr>\n",
              "    <tr>\n",
              "      <th>4</th>\n",
              "      <td>0.538196</td>\n",
              "      <td>-1.119670</td>\n",
              "      <td>0.175121</td>\n",
              "      <td>-0.237033</td>\n",
              "      <td>-0.137458</td>\n",
              "      <td>0.219422</td>\n",
              "      <td>69.99</td>\n",
              "    </tr>\n",
              "    <tr>\n",
              "      <th>...</th>\n",
              "      <td>...</td>\n",
              "      <td>...</td>\n",
              "      <td>...</td>\n",
              "      <td>...</td>\n",
              "      <td>...</td>\n",
              "      <td>...</td>\n",
              "      <td>...</td>\n",
              "    </tr>\n",
              "    <tr>\n",
              "      <th>12836</th>\n",
              "      <td>-2.463177</td>\n",
              "      <td>1.078202</td>\n",
              "      <td>-0.353184</td>\n",
              "      <td>0.560170</td>\n",
              "      <td>0.021372</td>\n",
              "      <td>-0.067625</td>\n",
              "      <td>23.27</td>\n",
              "    </tr>\n",
              "    <tr>\n",
              "      <th>12837</th>\n",
              "      <td>-3.026862</td>\n",
              "      <td>-0.878371</td>\n",
              "      <td>0.412419</td>\n",
              "      <td>4.071892</td>\n",
              "      <td>0.012378</td>\n",
              "      <td>0.078616</td>\n",
              "      <td>1.00</td>\n",
              "    </tr>\n",
              "    <tr>\n",
              "      <th>12838</th>\n",
              "      <td>-1.944870</td>\n",
              "      <td>1.113404</td>\n",
              "      <td>-0.813064</td>\n",
              "      <td>0.802003</td>\n",
              "      <td>-0.648152</td>\n",
              "      <td>0.053918</td>\n",
              "      <td>10.00</td>\n",
              "    </tr>\n",
              "    <tr>\n",
              "      <th>12839</th>\n",
              "      <td>-2.428955</td>\n",
              "      <td>1.473073</td>\n",
              "      <td>0.616349</td>\n",
              "      <td>0.009298</td>\n",
              "      <td>-0.029329</td>\n",
              "      <td>-0.048843</td>\n",
              "      <td>87.00</td>\n",
              "    </tr>\n",
              "    <tr>\n",
              "      <th>12840</th>\n",
              "      <td>-1.687593</td>\n",
              "      <td>1.605153</td>\n",
              "      <td>-1.768634</td>\n",
              "      <td>0.689228</td>\n",
              "      <td>-0.054807</td>\n",
              "      <td>-0.051277</td>\n",
              "      <td>6.99</td>\n",
              "    </tr>\n",
              "  </tbody>\n",
              "</table>\n",
              "<p>12841 rows × 7 columns</p>\n",
              "</div>"
            ],
            "text/plain": [
              "            V12       V14       V15       V17       V23       V27  Amount\n",
              "0     -0.617801 -0.311169  1.468177  0.207971 -0.110474  0.133558  149.62\n",
              "1      1.065235 -0.143772  0.635558 -0.114805  0.101288 -0.008983    2.69\n",
              "2      0.066084 -0.165946  2.345865  1.109969  0.909412 -0.055353  378.66\n",
              "3      0.178228 -0.287924 -0.631418 -0.684093 -0.190321  0.062723  123.50\n",
              "4      0.538196 -1.119670  0.175121 -0.237033 -0.137458  0.219422   69.99\n",
              "...         ...       ...       ...       ...       ...       ...     ...\n",
              "12836 -2.463177  1.078202 -0.353184  0.560170  0.021372 -0.067625   23.27\n",
              "12837 -3.026862 -0.878371  0.412419  4.071892  0.012378  0.078616    1.00\n",
              "12838 -1.944870  1.113404 -0.813064  0.802003 -0.648152  0.053918   10.00\n",
              "12839 -2.428955  1.473073  0.616349  0.009298 -0.029329 -0.048843   87.00\n",
              "12840 -1.687593  1.605153 -1.768634  0.689228 -0.054807 -0.051277    6.99\n",
              "\n",
              "[12841 rows x 7 columns]"
            ]
          },
          "metadata": {
            "tags": []
          },
          "execution_count": 39
        }
      ]
    },
    {
      "cell_type": "code",
      "metadata": {
        "id": "vVi6Ka_c2sEi",
        "outputId": "1538e2d5-58f3-4eeb-d65d-5acad0fae9a5",
        "colab": {
          "base_uri": "https://localhost:8080/",
          "height": 288
        }
      },
      "source": [
        "# Do describe(), é possível ver que há muito provavelmente outliers no df_X\n",
        "df_X.describe()"
      ],
      "execution_count": 40,
      "outputs": [
        {
          "output_type": "execute_result",
          "data": {
            "text/html": [
              "<div>\n",
              "<style scoped>\n",
              "    .dataframe tbody tr th:only-of-type {\n",
              "        vertical-align: middle;\n",
              "    }\n",
              "\n",
              "    .dataframe tbody tr th {\n",
              "        vertical-align: top;\n",
              "    }\n",
              "\n",
              "    .dataframe thead th {\n",
              "        text-align: right;\n",
              "    }\n",
              "</style>\n",
              "<table border=\"1\" class=\"dataframe\">\n",
              "  <thead>\n",
              "    <tr style=\"text-align: right;\">\n",
              "      <th></th>\n",
              "      <th>V12</th>\n",
              "      <th>V14</th>\n",
              "      <th>V15</th>\n",
              "      <th>V17</th>\n",
              "      <th>V23</th>\n",
              "      <th>V27</th>\n",
              "      <th>Amount</th>\n",
              "    </tr>\n",
              "  </thead>\n",
              "  <tbody>\n",
              "    <tr>\n",
              "      <th>count</th>\n",
              "      <td>12841.000000</td>\n",
              "      <td>12841.000000</td>\n",
              "      <td>12841.000000</td>\n",
              "      <td>12841.000000</td>\n",
              "      <td>12841.000000</td>\n",
              "      <td>12841.000000</td>\n",
              "      <td>12841.000000</td>\n",
              "    </tr>\n",
              "    <tr>\n",
              "      <th>mean</th>\n",
              "      <td>-1.494439</td>\n",
              "      <td>0.815934</td>\n",
              "      <td>-0.177547</td>\n",
              "      <td>0.393921</td>\n",
              "      <td>-0.035406</td>\n",
              "      <td>0.011375</td>\n",
              "      <td>62.219386</td>\n",
              "    </tr>\n",
              "    <tr>\n",
              "      <th>std</th>\n",
              "      <td>1.544952</td>\n",
              "      <td>1.331752</td>\n",
              "      <td>0.981075</td>\n",
              "      <td>1.158501</td>\n",
              "      <td>0.496013</td>\n",
              "      <td>0.401608</td>\n",
              "      <td>175.780115</td>\n",
              "    </tr>\n",
              "    <tr>\n",
              "      <th>min</th>\n",
              "      <td>-17.769143</td>\n",
              "      <td>-19.214325</td>\n",
              "      <td>-4.152532</td>\n",
              "      <td>-18.587366</td>\n",
              "      <td>-19.254328</td>\n",
              "      <td>-7.976100</td>\n",
              "      <td>0.000000</td>\n",
              "    </tr>\n",
              "    <tr>\n",
              "      <th>25%</th>\n",
              "      <td>-2.442860</td>\n",
              "      <td>0.218535</td>\n",
              "      <td>-0.759873</td>\n",
              "      <td>-0.078526</td>\n",
              "      <td>-0.171847</td>\n",
              "      <td>-0.077529</td>\n",
              "      <td>5.490000</td>\n",
              "    </tr>\n",
              "    <tr>\n",
              "      <th>50%</th>\n",
              "      <td>-1.817630</td>\n",
              "      <td>1.090067</td>\n",
              "      <td>-0.041798</td>\n",
              "      <td>0.392384</td>\n",
              "      <td>-0.044329</td>\n",
              "      <td>-0.000787</td>\n",
              "      <td>15.300000</td>\n",
              "    </tr>\n",
              "    <tr>\n",
              "      <th>75%</th>\n",
              "      <td>-0.248728</td>\n",
              "      <td>1.544681</td>\n",
              "      <td>0.504464</td>\n",
              "      <td>0.873357</td>\n",
              "      <td>0.071117</td>\n",
              "      <td>0.101575</td>\n",
              "      <td>50.000000</td>\n",
              "    </tr>\n",
              "    <tr>\n",
              "      <th>max</th>\n",
              "      <td>3.774837</td>\n",
              "      <td>7.692209</td>\n",
              "      <td>3.635042</td>\n",
              "      <td>9.253526</td>\n",
              "      <td>13.876221</td>\n",
              "      <td>8.254376</td>\n",
              "      <td>7712.430000</td>\n",
              "    </tr>\n",
              "  </tbody>\n",
              "</table>\n",
              "</div>"
            ],
            "text/plain": [
              "                V12           V14  ...           V27        Amount\n",
              "count  12841.000000  12841.000000  ...  12841.000000  12841.000000\n",
              "mean      -1.494439      0.815934  ...      0.011375     62.219386\n",
              "std        1.544952      1.331752  ...      0.401608    175.780115\n",
              "min      -17.769143    -19.214325  ...     -7.976100      0.000000\n",
              "25%       -2.442860      0.218535  ...     -0.077529      5.490000\n",
              "50%       -1.817630      1.090067  ...     -0.000787     15.300000\n",
              "75%       -0.248728      1.544681  ...      0.101575     50.000000\n",
              "max        3.774837      7.692209  ...      8.254376   7712.430000\n",
              "\n",
              "[8 rows x 7 columns]"
            ]
          },
          "metadata": {
            "tags": []
          },
          "execution_count": 40
        }
      ]
    },
    {
      "cell_type": "markdown",
      "metadata": {
        "id": "pmsgmvANbEMF"
      },
      "source": [
        "## Outliers\n",
        "###Para tratar os outliers, vamos voltar então ao dataframe com todos os dados, incluindo a coluna target, já tratado os missing values\n",
        "\n",
        " "
      ]
    },
    {
      "cell_type": "code",
      "metadata": {
        "id": "D7TBFGYBS1oQ",
        "outputId": "95d0cf9e-d074-4419-dbf2-ad3c6c689730",
        "colab": {
          "base_uri": "https://localhost:8080/",
          "height": 198
        }
      },
      "source": [
        "# Recompondo o dataframe original, mas apenas com as colunas relevantes,\n",
        "# com a coluna target, e com os missing values já tratados.\n",
        "# Precisamos agora tratar os outliers\n",
        "df_cc3.head()\n",
        "df_cc4 = pd.concat([df_cc3, df_y], axis=1)\n",
        "df_cc4.head()"
      ],
      "execution_count": 41,
      "outputs": [
        {
          "output_type": "execute_result",
          "data": {
            "text/html": [
              "<div>\n",
              "<style scoped>\n",
              "    .dataframe tbody tr th:only-of-type {\n",
              "        vertical-align: middle;\n",
              "    }\n",
              "\n",
              "    .dataframe tbody tr th {\n",
              "        vertical-align: top;\n",
              "    }\n",
              "\n",
              "    .dataframe thead th {\n",
              "        text-align: right;\n",
              "    }\n",
              "</style>\n",
              "<table border=\"1\" class=\"dataframe\">\n",
              "  <thead>\n",
              "    <tr style=\"text-align: right;\">\n",
              "      <th></th>\n",
              "      <th>Time</th>\n",
              "      <th>V12</th>\n",
              "      <th>V14</th>\n",
              "      <th>V15</th>\n",
              "      <th>V17</th>\n",
              "      <th>V23</th>\n",
              "      <th>V27</th>\n",
              "      <th>Amount</th>\n",
              "      <th>Class</th>\n",
              "    </tr>\n",
              "  </thead>\n",
              "  <tbody>\n",
              "    <tr>\n",
              "      <th>0</th>\n",
              "      <td>0</td>\n",
              "      <td>-0.617801</td>\n",
              "      <td>-0.311169</td>\n",
              "      <td>1.468177</td>\n",
              "      <td>0.207971</td>\n",
              "      <td>-0.110474</td>\n",
              "      <td>0.133558</td>\n",
              "      <td>149.62</td>\n",
              "      <td>0.0</td>\n",
              "    </tr>\n",
              "    <tr>\n",
              "      <th>1</th>\n",
              "      <td>0</td>\n",
              "      <td>1.065235</td>\n",
              "      <td>-0.143772</td>\n",
              "      <td>0.635558</td>\n",
              "      <td>-0.114805</td>\n",
              "      <td>0.101288</td>\n",
              "      <td>-0.008983</td>\n",
              "      <td>2.69</td>\n",
              "      <td>0.0</td>\n",
              "    </tr>\n",
              "    <tr>\n",
              "      <th>2</th>\n",
              "      <td>1</td>\n",
              "      <td>0.066084</td>\n",
              "      <td>-0.165946</td>\n",
              "      <td>2.345865</td>\n",
              "      <td>1.109969</td>\n",
              "      <td>0.909412</td>\n",
              "      <td>-0.055353</td>\n",
              "      <td>378.66</td>\n",
              "      <td>0.0</td>\n",
              "    </tr>\n",
              "    <tr>\n",
              "      <th>3</th>\n",
              "      <td>1</td>\n",
              "      <td>0.178228</td>\n",
              "      <td>-0.287924</td>\n",
              "      <td>-0.631418</td>\n",
              "      <td>-0.684093</td>\n",
              "      <td>-0.190321</td>\n",
              "      <td>0.062723</td>\n",
              "      <td>123.50</td>\n",
              "      <td>0.0</td>\n",
              "    </tr>\n",
              "    <tr>\n",
              "      <th>4</th>\n",
              "      <td>2</td>\n",
              "      <td>0.538196</td>\n",
              "      <td>-1.119670</td>\n",
              "      <td>0.175121</td>\n",
              "      <td>-0.237033</td>\n",
              "      <td>-0.137458</td>\n",
              "      <td>0.219422</td>\n",
              "      <td>69.99</td>\n",
              "      <td>0.0</td>\n",
              "    </tr>\n",
              "  </tbody>\n",
              "</table>\n",
              "</div>"
            ],
            "text/plain": [
              "   Time       V12       V14       V15  ...       V23       V27  Amount  Class\n",
              "0     0 -0.617801 -0.311169  1.468177  ... -0.110474  0.133558  149.62    0.0\n",
              "1     0  1.065235 -0.143772  0.635558  ...  0.101288 -0.008983    2.69    0.0\n",
              "2     1  0.066084 -0.165946  2.345865  ...  0.909412 -0.055353  378.66    0.0\n",
              "3     1  0.178228 -0.287924 -0.631418  ... -0.190321  0.062723  123.50    0.0\n",
              "4     2  0.538196 -1.119670  0.175121  ... -0.137458  0.219422   69.99    0.0\n",
              "\n",
              "[5 rows x 9 columns]"
            ]
          },
          "metadata": {
            "tags": []
          },
          "execution_count": 41
        }
      ]
    },
    {
      "cell_type": "code",
      "metadata": {
        "id": "BwK-nd5uUpBN",
        "outputId": "394d02f6-e190-44d4-aabc-ad75b0aec620",
        "colab": {
          "base_uri": "https://localhost:8080/",
          "height": 198
        }
      },
      "source": [
        "# Retirando a coluna Time QUE não serve.\n",
        "df_cc4.drop(columns=['Time','Amount'], axis=1, inplace=True)\n",
        "df_cc4.head()"
      ],
      "execution_count": 42,
      "outputs": [
        {
          "output_type": "execute_result",
          "data": {
            "text/html": [
              "<div>\n",
              "<style scoped>\n",
              "    .dataframe tbody tr th:only-of-type {\n",
              "        vertical-align: middle;\n",
              "    }\n",
              "\n",
              "    .dataframe tbody tr th {\n",
              "        vertical-align: top;\n",
              "    }\n",
              "\n",
              "    .dataframe thead th {\n",
              "        text-align: right;\n",
              "    }\n",
              "</style>\n",
              "<table border=\"1\" class=\"dataframe\">\n",
              "  <thead>\n",
              "    <tr style=\"text-align: right;\">\n",
              "      <th></th>\n",
              "      <th>V12</th>\n",
              "      <th>V14</th>\n",
              "      <th>V15</th>\n",
              "      <th>V17</th>\n",
              "      <th>V23</th>\n",
              "      <th>V27</th>\n",
              "      <th>Class</th>\n",
              "    </tr>\n",
              "  </thead>\n",
              "  <tbody>\n",
              "    <tr>\n",
              "      <th>0</th>\n",
              "      <td>-0.617801</td>\n",
              "      <td>-0.311169</td>\n",
              "      <td>1.468177</td>\n",
              "      <td>0.207971</td>\n",
              "      <td>-0.110474</td>\n",
              "      <td>0.133558</td>\n",
              "      <td>0.0</td>\n",
              "    </tr>\n",
              "    <tr>\n",
              "      <th>1</th>\n",
              "      <td>1.065235</td>\n",
              "      <td>-0.143772</td>\n",
              "      <td>0.635558</td>\n",
              "      <td>-0.114805</td>\n",
              "      <td>0.101288</td>\n",
              "      <td>-0.008983</td>\n",
              "      <td>0.0</td>\n",
              "    </tr>\n",
              "    <tr>\n",
              "      <th>2</th>\n",
              "      <td>0.066084</td>\n",
              "      <td>-0.165946</td>\n",
              "      <td>2.345865</td>\n",
              "      <td>1.109969</td>\n",
              "      <td>0.909412</td>\n",
              "      <td>-0.055353</td>\n",
              "      <td>0.0</td>\n",
              "    </tr>\n",
              "    <tr>\n",
              "      <th>3</th>\n",
              "      <td>0.178228</td>\n",
              "      <td>-0.287924</td>\n",
              "      <td>-0.631418</td>\n",
              "      <td>-0.684093</td>\n",
              "      <td>-0.190321</td>\n",
              "      <td>0.062723</td>\n",
              "      <td>0.0</td>\n",
              "    </tr>\n",
              "    <tr>\n",
              "      <th>4</th>\n",
              "      <td>0.538196</td>\n",
              "      <td>-1.119670</td>\n",
              "      <td>0.175121</td>\n",
              "      <td>-0.237033</td>\n",
              "      <td>-0.137458</td>\n",
              "      <td>0.219422</td>\n",
              "      <td>0.0</td>\n",
              "    </tr>\n",
              "  </tbody>\n",
              "</table>\n",
              "</div>"
            ],
            "text/plain": [
              "        V12       V14       V15       V17       V23       V27  Class\n",
              "0 -0.617801 -0.311169  1.468177  0.207971 -0.110474  0.133558    0.0\n",
              "1  1.065235 -0.143772  0.635558 -0.114805  0.101288 -0.008983    0.0\n",
              "2  0.066084 -0.165946  2.345865  1.109969  0.909412 -0.055353    0.0\n",
              "3  0.178228 -0.287924 -0.631418 -0.684093 -0.190321  0.062723    0.0\n",
              "4  0.538196 -1.119670  0.175121 -0.237033 -0.137458  0.219422    0.0"
            ]
          },
          "metadata": {
            "tags": []
          },
          "execution_count": 42
        }
      ]
    },
    {
      "cell_type": "code",
      "metadata": {
        "id": "446Q6uvVfbgU",
        "outputId": "12702116-4c8e-4308-f6be-ae97b706a39a",
        "colab": {
          "base_uri": "https://localhost:8080/",
          "height": 72
        }
      },
      "source": [
        "df_cc4['Class'].value_counts()"
      ],
      "execution_count": 43,
      "outputs": [
        {
          "output_type": "execute_result",
          "data": {
            "text/plain": [
              "0.0    12785\n",
              "1.0       56\n",
              "Name: Class, dtype: int64"
            ]
          },
          "metadata": {
            "tags": []
          },
          "execution_count": 43
        }
      ]
    },
    {
      "cell_type": "code",
      "metadata": {
        "id": "EPf4qeOcYD4b",
        "outputId": "63bfd72d-5218-4e7e-fcce-21cfd79461dd",
        "colab": {
          "base_uri": "https://localhost:8080/",
          "height": 285
        }
      },
      "source": [
        "# Função para plotar o Boxplot\n",
        "colunas = df_cc4.columns\n",
        "df_cc4.boxplot()"
      ],
      "execution_count": 44,
      "outputs": [
        {
          "output_type": "execute_result",
          "data": {
            "text/plain": [
              "<matplotlib.axes._subplots.AxesSubplot at 0x7fbfe61110b8>"
            ]
          },
          "metadata": {
            "tags": []
          },
          "execution_count": 44
        },
        {
          "output_type": "display_data",
          "data": {
            "image/png": "[encoded data removed]",
            "text/plain": [
              "<Figure size 432x288 with 1 Axes>"
            ]
          },
          "metadata": {
            "tags": [],
            "needs_background": "light"
          }
        }
      ]
    },
    {
      "cell_type": "code",
      "metadata": {
        "id": "Ve70JHBle3Sd",
        "outputId": "6cb090f6-e637-46f7-efc3-5dedeb66b1f2",
        "colab": {
          "base_uri": "https://localhost:8080/",
          "height": 198
        }
      },
      "source": [
        "df_cc5 = df_cc4.copy()\n",
        "df_cc5.head()"
      ],
      "execution_count": 45,
      "outputs": [
        {
          "output_type": "execute_result",
          "data": {
            "text/html": [
              "<div>\n",
              "<style scoped>\n",
              "    .dataframe tbody tr th:only-of-type {\n",
              "        vertical-align: middle;\n",
              "    }\n",
              "\n",
              "    .dataframe tbody tr th {\n",
              "        vertical-align: top;\n",
              "    }\n",
              "\n",
              "    .dataframe thead th {\n",
              "        text-align: right;\n",
              "    }\n",
              "</style>\n",
              "<table border=\"1\" class=\"dataframe\">\n",
              "  <thead>\n",
              "    <tr style=\"text-align: right;\">\n",
              "      <th></th>\n",
              "      <th>V12</th>\n",
              "      <th>V14</th>\n",
              "      <th>V15</th>\n",
              "      <th>V17</th>\n",
              "      <th>V23</th>\n",
              "      <th>V27</th>\n",
              "      <th>Class</th>\n",
              "    </tr>\n",
              "  </thead>\n",
              "  <tbody>\n",
              "    <tr>\n",
              "      <th>0</th>\n",
              "      <td>-0.617801</td>\n",
              "      <td>-0.311169</td>\n",
              "      <td>1.468177</td>\n",
              "      <td>0.207971</td>\n",
              "      <td>-0.110474</td>\n",
              "      <td>0.133558</td>\n",
              "      <td>0.0</td>\n",
              "    </tr>\n",
              "    <tr>\n",
              "      <th>1</th>\n",
              "      <td>1.065235</td>\n",
              "      <td>-0.143772</td>\n",
              "      <td>0.635558</td>\n",
              "      <td>-0.114805</td>\n",
              "      <td>0.101288</td>\n",
              "      <td>-0.008983</td>\n",
              "      <td>0.0</td>\n",
              "    </tr>\n",
              "    <tr>\n",
              "      <th>2</th>\n",
              "      <td>0.066084</td>\n",
              "      <td>-0.165946</td>\n",
              "      <td>2.345865</td>\n",
              "      <td>1.109969</td>\n",
              "      <td>0.909412</td>\n",
              "      <td>-0.055353</td>\n",
              "      <td>0.0</td>\n",
              "    </tr>\n",
              "    <tr>\n",
              "      <th>3</th>\n",
              "      <td>0.178228</td>\n",
              "      <td>-0.287924</td>\n",
              "      <td>-0.631418</td>\n",
              "      <td>-0.684093</td>\n",
              "      <td>-0.190321</td>\n",
              "      <td>0.062723</td>\n",
              "      <td>0.0</td>\n",
              "    </tr>\n",
              "    <tr>\n",
              "      <th>4</th>\n",
              "      <td>0.538196</td>\n",
              "      <td>-1.119670</td>\n",
              "      <td>0.175121</td>\n",
              "      <td>-0.237033</td>\n",
              "      <td>-0.137458</td>\n",
              "      <td>0.219422</td>\n",
              "      <td>0.0</td>\n",
              "    </tr>\n",
              "  </tbody>\n",
              "</table>\n",
              "</div>"
            ],
            "text/plain": [
              "        V12       V14       V15       V17       V23       V27  Class\n",
              "0 -0.617801 -0.311169  1.468177  0.207971 -0.110474  0.133558    0.0\n",
              "1  1.065235 -0.143772  0.635558 -0.114805  0.101288 -0.008983    0.0\n",
              "2  0.066084 -0.165946  2.345865  1.109969  0.909412 -0.055353    0.0\n",
              "3  0.178228 -0.287924 -0.631418 -0.684093 -0.190321  0.062723    0.0\n",
              "4  0.538196 -1.119670  0.175121 -0.237033 -0.137458  0.219422    0.0"
            ]
          },
          "metadata": {
            "tags": []
          },
          "execution_count": 45
        }
      ]
    },
    {
      "cell_type": "code",
      "metadata": {
        "id": "BuPsjnq5qmoy",
        "outputId": "1774d996-4f89-4b30-bba5-b7aa778569e6",
        "colab": {
          "base_uri": "https://localhost:8080/",
          "height": 35
        }
      },
      "source": [
        "# Outlier do V12\n",
        "q1_v12, q3_v12 = df_cc5['V12'].quantile([0.25,0.75]).to_list()\n",
        "iqr_v12 = q3_v12 - q1_v12\n",
        "outlier_v12_inferior = q1_v12 - 1.5 * iqr_v12\n",
        "outlier_v12_superior = q3_v12 + 1.5 * iqr_v12\n",
        "outlier_v12_superior, outlier_v12_inferior\n"
      ],
      "execution_count": 46,
      "outputs": [
        {
          "output_type": "execute_result",
          "data": {
            "text/plain": [
              "(3.0424686575000006, -5.7340567065000005)"
            ]
          },
          "metadata": {
            "tags": []
          },
          "execution_count": 46
        }
      ]
    },
    {
      "cell_type": "code",
      "metadata": {
        "id": "C0KEarj2fGsL",
        "outputId": "eaddc1e8-ed99-463a-f58d-d09583dbe0cc",
        "colab": {
          "base_uri": "https://localhost:8080/",
          "height": 138
        }
      },
      "source": [
        "# Outliers superiores do V12\n",
        "colunas = df_cc5.columns\n",
        "df_outliers_v12 = df_cc5[colunas]\n",
        "df_outliers_v12[df_outliers_v12['V12'] > outlier_v12_superior].sort_values(by = ['V12'], ascending = False).head(10)"
      ],
      "execution_count": 47,
      "outputs": [
        {
          "output_type": "execute_result",
          "data": {
            "text/html": [
              "<div>\n",
              "<style scoped>\n",
              "    .dataframe tbody tr th:only-of-type {\n",
              "        vertical-align: middle;\n",
              "    }\n",
              "\n",
              "    .dataframe tbody tr th {\n",
              "        vertical-align: top;\n",
              "    }\n",
              "\n",
              "    .dataframe thead th {\n",
              "        text-align: right;\n",
              "    }\n",
              "</style>\n",
              "<table border=\"1\" class=\"dataframe\">\n",
              "  <thead>\n",
              "    <tr style=\"text-align: right;\">\n",
              "      <th></th>\n",
              "      <th>V12</th>\n",
              "      <th>V14</th>\n",
              "      <th>V15</th>\n",
              "      <th>V17</th>\n",
              "      <th>V23</th>\n",
              "      <th>V27</th>\n",
              "      <th>Class</th>\n",
              "    </tr>\n",
              "  </thead>\n",
              "  <tbody>\n",
              "    <tr>\n",
              "      <th>2957</th>\n",
              "      <td>3.774837</td>\n",
              "      <td>4.197010</td>\n",
              "      <td>-1.059259</td>\n",
              "      <td>1.540329</td>\n",
              "      <td>2.009214</td>\n",
              "      <td>-0.031049</td>\n",
              "      <td>0.0</td>\n",
              "    </tr>\n",
              "    <tr>\n",
              "      <th>2954</th>\n",
              "      <td>3.607076</td>\n",
              "      <td>3.952664</td>\n",
              "      <td>-1.035516</td>\n",
              "      <td>1.381819</td>\n",
              "      <td>1.943902</td>\n",
              "      <td>-0.016154</td>\n",
              "      <td>0.0</td>\n",
              "    </tr>\n",
              "    <tr>\n",
              "      <th>2951</th>\n",
              "      <td>3.606761</td>\n",
              "      <td>3.991662</td>\n",
              "      <td>0.752753</td>\n",
              "      <td>2.216999</td>\n",
              "      <td>-0.200435</td>\n",
              "      <td>-0.132891</td>\n",
              "      <td>0.0</td>\n",
              "    </tr>\n",
              "  </tbody>\n",
              "</table>\n",
              "</div>"
            ],
            "text/plain": [
              "           V12       V14       V15       V17       V23       V27  Class\n",
              "2957  3.774837  4.197010 -1.059259  1.540329  2.009214 -0.031049    0.0\n",
              "2954  3.607076  3.952664 -1.035516  1.381819  1.943902 -0.016154    0.0\n",
              "2951  3.606761  3.991662  0.752753  2.216999 -0.200435 -0.132891    0.0"
            ]
          },
          "metadata": {
            "tags": []
          },
          "execution_count": 47
        }
      ]
    },
    {
      "cell_type": "code",
      "metadata": {
        "id": "BNLjPXL8wQC3"
      },
      "source": [
        "# Vamos tratar os outliers. Colocar o valor superior para os que ultrapassarem, e inferior para os que ultrapassarem \n",
        "# no sentido inferior.\n",
        "colunas = ['V12','V14','V15', 'V17','V23','V27']\n",
        "for i in colunas:\n",
        "    q1_v, q3_v = df_cc5[i].quantile([0.25,0.75]).to_list()\n",
        "    iqr_v = q3_v - q1_v\n",
        "    outlier_v_inferior = q1_v - 1.5 * iqr_v\n",
        "    outlier_v_superior = q3_v + 1.5 * iqr_v\n",
        "    df_cc5.loc[df_cc5[i] > outlier_v_superior, i] = outlier_v_superior\n",
        "    df_cc5.loc[df_cc5[i] < outlier_v_inferior, i] = outlier_v_inferior"
      ],
      "execution_count": 48,
      "outputs": []
    },
    {
      "cell_type": "code",
      "metadata": {
        "id": "-5YZPo-UvPKC",
        "outputId": "da235dbc-32c0-48c0-aec7-c39b24573129",
        "colab": {
          "base_uri": "https://localhost:8080/",
          "height": 48
        }
      },
      "source": [
        "# Conferindo se ainda existem valores superiores ou inferiores aos limites minimo e máximos fixados\n",
        "# Como vemos abaixo, os resultados das duas células seguintes, não mais há outliers no v12, TOMADO POR EXEMPLO.\n",
        "\n",
        "colunas = df_cc5.columns\n",
        "df_outliers_v12 = df_cc5[colunas]\n",
        "df_outliers_v12[df_outliers_v12['V12'] > outlier_v12_superior].sort_values(by = ['V12'], ascending = False).head(10)\n",
        "\n"
      ],
      "execution_count": 49,
      "outputs": [
        {
          "output_type": "execute_result",
          "data": {
            "text/html": [
              "<div>\n",
              "<style scoped>\n",
              "    .dataframe tbody tr th:only-of-type {\n",
              "        vertical-align: middle;\n",
              "    }\n",
              "\n",
              "    .dataframe tbody tr th {\n",
              "        vertical-align: top;\n",
              "    }\n",
              "\n",
              "    .dataframe thead th {\n",
              "        text-align: right;\n",
              "    }\n",
              "</style>\n",
              "<table border=\"1\" class=\"dataframe\">\n",
              "  <thead>\n",
              "    <tr style=\"text-align: right;\">\n",
              "      <th></th>\n",
              "      <th>V12</th>\n",
              "      <th>V14</th>\n",
              "      <th>V15</th>\n",
              "      <th>V17</th>\n",
              "      <th>V23</th>\n",
              "      <th>V27</th>\n",
              "      <th>Class</th>\n",
              "    </tr>\n",
              "  </thead>\n",
              "  <tbody>\n",
              "  </tbody>\n",
              "</table>\n",
              "</div>"
            ],
            "text/plain": [
              "Empty DataFrame\n",
              "Columns: [V12, V14, V15, V17, V23, V27, Class]\n",
              "Index: []"
            ]
          },
          "metadata": {
            "tags": []
          },
          "execution_count": 49
        }
      ]
    },
    {
      "cell_type": "code",
      "metadata": {
        "id": "c1tMnDe0vY5I",
        "outputId": "b6f2f244-92d5-4ab2-b57c-242865692913",
        "colab": {
          "base_uri": "https://localhost:8080/",
          "height": 48
        }
      },
      "source": [
        "df_outliers_v12[df_outliers_v12['V12'] < outlier_v12_inferior].sort_values(by = ['V12'], ascending = False).head(5)"
      ],
      "execution_count": 50,
      "outputs": [
        {
          "output_type": "execute_result",
          "data": {
            "text/html": [
              "<div>\n",
              "<style scoped>\n",
              "    .dataframe tbody tr th:only-of-type {\n",
              "        vertical-align: middle;\n",
              "    }\n",
              "\n",
              "    .dataframe tbody tr th {\n",
              "        vertical-align: top;\n",
              "    }\n",
              "\n",
              "    .dataframe thead th {\n",
              "        text-align: right;\n",
              "    }\n",
              "</style>\n",
              "<table border=\"1\" class=\"dataframe\">\n",
              "  <thead>\n",
              "    <tr style=\"text-align: right;\">\n",
              "      <th></th>\n",
              "      <th>V12</th>\n",
              "      <th>V14</th>\n",
              "      <th>V15</th>\n",
              "      <th>V17</th>\n",
              "      <th>V23</th>\n",
              "      <th>V27</th>\n",
              "      <th>Class</th>\n",
              "    </tr>\n",
              "  </thead>\n",
              "  <tbody>\n",
              "  </tbody>\n",
              "</table>\n",
              "</div>"
            ],
            "text/plain": [
              "Empty DataFrame\n",
              "Columns: [V12, V14, V15, V17, V23, V27, Class]\n",
              "Index: []"
            ]
          },
          "metadata": {
            "tags": []
          },
          "execution_count": 50
        }
      ]
    },
    {
      "cell_type": "code",
      "metadata": {
        "id": "IQoV6rJVwGdJ",
        "outputId": "0625ee6d-210c-45fb-e0bd-8927fb544861",
        "colab": {
          "base_uri": "https://localhost:8080/",
          "height": 288
        }
      },
      "source": [
        "# No Describe, percebemos que o mínimo passou a ser o limite inferior calculado no boxplot,\n",
        "# e o máximo, o limite superior calculado para o boxplot.\n",
        "df_cc5.describe()\n"
      ],
      "execution_count": 51,
      "outputs": [
        {
          "output_type": "execute_result",
          "data": {
            "text/html": [
              "<div>\n",
              "<style scoped>\n",
              "    .dataframe tbody tr th:only-of-type {\n",
              "        vertical-align: middle;\n",
              "    }\n",
              "\n",
              "    .dataframe tbody tr th {\n",
              "        vertical-align: top;\n",
              "    }\n",
              "\n",
              "    .dataframe thead th {\n",
              "        text-align: right;\n",
              "    }\n",
              "</style>\n",
              "<table border=\"1\" class=\"dataframe\">\n",
              "  <thead>\n",
              "    <tr style=\"text-align: right;\">\n",
              "      <th></th>\n",
              "      <th>V12</th>\n",
              "      <th>V14</th>\n",
              "      <th>V15</th>\n",
              "      <th>V17</th>\n",
              "      <th>V23</th>\n",
              "      <th>V27</th>\n",
              "      <th>Class</th>\n",
              "    </tr>\n",
              "  </thead>\n",
              "  <tbody>\n",
              "    <tr>\n",
              "      <th>count</th>\n",
              "      <td>12841.000000</td>\n",
              "      <td>12841.000000</td>\n",
              "      <td>12841.000000</td>\n",
              "      <td>12841.000000</td>\n",
              "      <td>12841.000000</td>\n",
              "      <td>12841.000000</td>\n",
              "      <td>12841.000000</td>\n",
              "    </tr>\n",
              "    <tr>\n",
              "      <th>mean</th>\n",
              "      <td>-1.465186</td>\n",
              "      <td>0.873159</td>\n",
              "      <td>-0.172496</td>\n",
              "      <td>0.413211</td>\n",
              "      <td>-0.045537</td>\n",
              "      <td>0.018246</td>\n",
              "      <td>0.004361</td>\n",
              "    </tr>\n",
              "    <tr>\n",
              "      <th>std</th>\n",
              "      <td>1.376627</td>\n",
              "      <td>0.934724</td>\n",
              "      <td>0.964779</td>\n",
              "      <td>0.739668</td>\n",
              "      <td>0.210602</td>\n",
              "      <td>0.176621</td>\n",
              "      <td>0.065897</td>\n",
              "    </tr>\n",
              "    <tr>\n",
              "      <th>min</th>\n",
              "      <td>-5.734057</td>\n",
              "      <td>-1.770684</td>\n",
              "      <td>-2.656378</td>\n",
              "      <td>-1.506350</td>\n",
              "      <td>-0.536294</td>\n",
              "      <td>-0.346184</td>\n",
              "      <td>0.000000</td>\n",
              "    </tr>\n",
              "    <tr>\n",
              "      <th>25%</th>\n",
              "      <td>-2.442860</td>\n",
              "      <td>0.218535</td>\n",
              "      <td>-0.759873</td>\n",
              "      <td>-0.078526</td>\n",
              "      <td>-0.171847</td>\n",
              "      <td>-0.077529</td>\n",
              "      <td>0.000000</td>\n",
              "    </tr>\n",
              "    <tr>\n",
              "      <th>50%</th>\n",
              "      <td>-1.817630</td>\n",
              "      <td>1.090067</td>\n",
              "      <td>-0.041798</td>\n",
              "      <td>0.392384</td>\n",
              "      <td>-0.044329</td>\n",
              "      <td>-0.000787</td>\n",
              "      <td>0.000000</td>\n",
              "    </tr>\n",
              "    <tr>\n",
              "      <th>75%</th>\n",
              "      <td>-0.248728</td>\n",
              "      <td>1.544681</td>\n",
              "      <td>0.504464</td>\n",
              "      <td>0.873357</td>\n",
              "      <td>0.071117</td>\n",
              "      <td>0.101575</td>\n",
              "      <td>0.000000</td>\n",
              "    </tr>\n",
              "    <tr>\n",
              "      <th>max</th>\n",
              "      <td>3.042469</td>\n",
              "      <td>3.533899</td>\n",
              "      <td>2.400969</td>\n",
              "      <td>2.301181</td>\n",
              "      <td>0.435564</td>\n",
              "      <td>0.370230</td>\n",
              "      <td>1.000000</td>\n",
              "    </tr>\n",
              "  </tbody>\n",
              "</table>\n",
              "</div>"
            ],
            "text/plain": [
              "                V12           V14  ...           V27         Class\n",
              "count  12841.000000  12841.000000  ...  12841.000000  12841.000000\n",
              "mean      -1.465186      0.873159  ...      0.018246      0.004361\n",
              "std        1.376627      0.934724  ...      0.176621      0.065897\n",
              "min       -5.734057     -1.770684  ...     -0.346184      0.000000\n",
              "25%       -2.442860      0.218535  ...     -0.077529      0.000000\n",
              "50%       -1.817630      1.090067  ...     -0.000787      0.000000\n",
              "75%       -0.248728      1.544681  ...      0.101575      0.000000\n",
              "max        3.042469      3.533899  ...      0.370230      1.000000\n",
              "\n",
              "[8 rows x 7 columns]"
            ]
          },
          "metadata": {
            "tags": []
          },
          "execution_count": 51
        }
      ]
    },
    {
      "cell_type": "markdown",
      "metadata": {
        "id": "l5N2Jq6_zwWF"
      },
      "source": [
        "## TRATADOS OS OUTLIERS"
      ]
    },
    {
      "cell_type": "markdown",
      "metadata": {
        "id": "JBxX_hLFz2UA"
      },
      "source": [
        "## VAMOS FAZER A TRANSFORMAÇÃO YEO-JOHNSON"
      ]
    },
    {
      "cell_type": "code",
      "metadata": {
        "id": "NI3cY0QUzOyE"
      },
      "source": [
        ""
      ],
      "execution_count": null,
      "outputs": []
    },
    {
      "cell_type": "code",
      "metadata": {
        "id": "_UYPdlrP0Qnt",
        "outputId": "36d8453f-e21a-450e-c3ba-726fc5c60ab2",
        "colab": {
          "base_uri": "https://localhost:8080/",
          "height": 198
        }
      },
      "source": [
        "df_cc5.drop(columns = ['Class'], axis=1, inplace=True)\n",
        "df_cc5.head()"
      ],
      "execution_count": 52,
      "outputs": [
        {
          "output_type": "execute_result",
          "data": {
            "text/html": [
              "<div>\n",
              "<style scoped>\n",
              "    .dataframe tbody tr th:only-of-type {\n",
              "        vertical-align: middle;\n",
              "    }\n",
              "\n",
              "    .dataframe tbody tr th {\n",
              "        vertical-align: top;\n",
              "    }\n",
              "\n",
              "    .dataframe thead th {\n",
              "        text-align: right;\n",
              "    }\n",
              "</style>\n",
              "<table border=\"1\" class=\"dataframe\">\n",
              "  <thead>\n",
              "    <tr style=\"text-align: right;\">\n",
              "      <th></th>\n",
              "      <th>V12</th>\n",
              "      <th>V14</th>\n",
              "      <th>V15</th>\n",
              "      <th>V17</th>\n",
              "      <th>V23</th>\n",
              "      <th>V27</th>\n",
              "    </tr>\n",
              "  </thead>\n",
              "  <tbody>\n",
              "    <tr>\n",
              "      <th>0</th>\n",
              "      <td>-0.617801</td>\n",
              "      <td>-0.311169</td>\n",
              "      <td>1.468177</td>\n",
              "      <td>0.207971</td>\n",
              "      <td>-0.110474</td>\n",
              "      <td>0.133558</td>\n",
              "    </tr>\n",
              "    <tr>\n",
              "      <th>1</th>\n",
              "      <td>1.065235</td>\n",
              "      <td>-0.143772</td>\n",
              "      <td>0.635558</td>\n",
              "      <td>-0.114805</td>\n",
              "      <td>0.101288</td>\n",
              "      <td>-0.008983</td>\n",
              "    </tr>\n",
              "    <tr>\n",
              "      <th>2</th>\n",
              "      <td>0.066084</td>\n",
              "      <td>-0.165946</td>\n",
              "      <td>2.345865</td>\n",
              "      <td>1.109969</td>\n",
              "      <td>0.435564</td>\n",
              "      <td>-0.055353</td>\n",
              "    </tr>\n",
              "    <tr>\n",
              "      <th>3</th>\n",
              "      <td>0.178228</td>\n",
              "      <td>-0.287924</td>\n",
              "      <td>-0.631418</td>\n",
              "      <td>-0.684093</td>\n",
              "      <td>-0.190321</td>\n",
              "      <td>0.062723</td>\n",
              "    </tr>\n",
              "    <tr>\n",
              "      <th>4</th>\n",
              "      <td>0.538196</td>\n",
              "      <td>-1.119670</td>\n",
              "      <td>0.175121</td>\n",
              "      <td>-0.237033</td>\n",
              "      <td>-0.137458</td>\n",
              "      <td>0.219422</td>\n",
              "    </tr>\n",
              "  </tbody>\n",
              "</table>\n",
              "</div>"
            ],
            "text/plain": [
              "        V12       V14       V15       V17       V23       V27\n",
              "0 -0.617801 -0.311169  1.468177  0.207971 -0.110474  0.133558\n",
              "1  1.065235 -0.143772  0.635558 -0.114805  0.101288 -0.008983\n",
              "2  0.066084 -0.165946  2.345865  1.109969  0.435564 -0.055353\n",
              "3  0.178228 -0.287924 -0.631418 -0.684093 -0.190321  0.062723\n",
              "4  0.538196 -1.119670  0.175121 -0.237033 -0.137458  0.219422"
            ]
          },
          "metadata": {
            "tags": []
          },
          "execution_count": 52
        }
      ]
    },
    {
      "cell_type": "code",
      "metadata": {
        "id": "GKhbqXXl0iuL",
        "outputId": "64f108f8-4592-4fad-b4aa-6340c1679bbb",
        "colab": {
          "base_uri": "https://localhost:8080/",
          "height": 35
        }
      },
      "source": [
        "df_cc5.shape"
      ],
      "execution_count": 53,
      "outputs": [
        {
          "output_type": "execute_result",
          "data": {
            "text/plain": [
              "(12841, 6)"
            ]
          },
          "metadata": {
            "tags": []
          },
          "execution_count": 53
        }
      ]
    },
    {
      "cell_type": "code",
      "metadata": {
        "id": "s-7bC_qA0Tis"
      },
      "source": [
        "from sklearn.preprocessing import PowerTransformer"
      ],
      "execution_count": 54,
      "outputs": []
    },
    {
      "cell_type": "code",
      "metadata": {
        "id": "seNTrl-D08TZ",
        "outputId": "7d84c8e8-6d57-4633-e807-60ced64755dc",
        "colab": {
          "base_uri": "https://localhost:8080/",
          "height": 254
        }
      },
      "source": [
        "yeo_johnson = PowerTransformer(method = 'yeo-johnson', standardize = True)\n",
        "cc5_yeo_johnson = yeo_johnson.fit_transform(df_cc5)\n",
        "cc5_yeo_johnson"
      ],
      "execution_count": 55,
      "outputs": [
        {
          "output_type": "execute_result",
          "data": {
            "text/plain": [
              "array([[ 0.6662046 , -1.26866741,  1.97288392, -0.24460062, -0.29265516,\n",
              "         0.66398827],\n",
              "       [ 1.74050791, -1.1294815 ,  0.83376157, -0.69617224,  0.70710133,\n",
              "        -0.13552258],\n",
              "       [ 1.12911091, -1.14834743,  3.31390349,  0.94318553,  2.21459798,\n",
              "        -0.40131106],\n",
              "       ...,\n",
              "       [-0.31501686,  0.17691909, -0.72449987,  0.54724669, -2.41059149,\n",
              "         0.22044678],\n",
              "       [-0.69232539,  0.62161967,  0.8093023 , -0.52034748,  0.09507186,\n",
              "        -0.36382923],\n",
              "       [-0.11821986,  0.79147622, -1.53089254,  0.40003663, -0.02605865,\n",
              "        -0.37783543]])"
            ]
          },
          "metadata": {
            "tags": []
          },
          "execution_count": 55
        }
      ]
    },
    {
      "cell_type": "code",
      "metadata": {
        "id": "Fk2YwaDE1QA3",
        "outputId": "f7162e4f-75ad-470f-8916-b5081eec4d31",
        "colab": {
          "base_uri": "https://localhost:8080/",
          "height": 198
        }
      },
      "source": [
        "colunas = ['V12','V14','V15', 'V17','V23','V27']\n",
        "df_cc5_yeo_johnson = pd.DataFrame(cc5_yeo_johnson, columns = colunas)\n",
        "df_cc5_yeo_johnson.head(5)"
      ],
      "execution_count": 56,
      "outputs": [
        {
          "output_type": "execute_result",
          "data": {
            "text/html": [
              "<div>\n",
              "<style scoped>\n",
              "    .dataframe tbody tr th:only-of-type {\n",
              "        vertical-align: middle;\n",
              "    }\n",
              "\n",
              "    .dataframe tbody tr th {\n",
              "        vertical-align: top;\n",
              "    }\n",
              "\n",
              "    .dataframe thead th {\n",
              "        text-align: right;\n",
              "    }\n",
              "</style>\n",
              "<table border=\"1\" class=\"dataframe\">\n",
              "  <thead>\n",
              "    <tr style=\"text-align: right;\">\n",
              "      <th></th>\n",
              "      <th>V12</th>\n",
              "      <th>V14</th>\n",
              "      <th>V15</th>\n",
              "      <th>V17</th>\n",
              "      <th>V23</th>\n",
              "      <th>V27</th>\n",
              "    </tr>\n",
              "  </thead>\n",
              "  <tbody>\n",
              "    <tr>\n",
              "      <th>0</th>\n",
              "      <td>0.666205</td>\n",
              "      <td>-1.268667</td>\n",
              "      <td>1.972884</td>\n",
              "      <td>-0.244601</td>\n",
              "      <td>-0.292655</td>\n",
              "      <td>0.663988</td>\n",
              "    </tr>\n",
              "    <tr>\n",
              "      <th>1</th>\n",
              "      <td>1.740508</td>\n",
              "      <td>-1.129482</td>\n",
              "      <td>0.833762</td>\n",
              "      <td>-0.696172</td>\n",
              "      <td>0.707101</td>\n",
              "      <td>-0.135523</td>\n",
              "    </tr>\n",
              "    <tr>\n",
              "      <th>2</th>\n",
              "      <td>1.129111</td>\n",
              "      <td>-1.148347</td>\n",
              "      <td>3.313903</td>\n",
              "      <td>0.943186</td>\n",
              "      <td>2.214598</td>\n",
              "      <td>-0.401311</td>\n",
              "    </tr>\n",
              "    <tr>\n",
              "      <th>3</th>\n",
              "      <td>1.201093</td>\n",
              "      <td>-1.249766</td>\n",
              "      <td>-0.557270</td>\n",
              "      <td>-1.533635</td>\n",
              "      <td>-0.679522</td>\n",
              "      <td>0.269868</td>\n",
              "    </tr>\n",
              "    <tr>\n",
              "      <th>4</th>\n",
              "      <td>1.425613</td>\n",
              "      <td>-1.862560</td>\n",
              "      <td>0.274359</td>\n",
              "      <td>-0.871945</td>\n",
              "      <td>-0.422819</td>\n",
              "      <td>1.133956</td>\n",
              "    </tr>\n",
              "  </tbody>\n",
              "</table>\n",
              "</div>"
            ],
            "text/plain": [
              "        V12       V14       V15       V17       V23       V27\n",
              "0  0.666205 -1.268667  1.972884 -0.244601 -0.292655  0.663988\n",
              "1  1.740508 -1.129482  0.833762 -0.696172  0.707101 -0.135523\n",
              "2  1.129111 -1.148347  3.313903  0.943186  2.214598 -0.401311\n",
              "3  1.201093 -1.249766 -0.557270 -1.533635 -0.679522  0.269868\n",
              "4  1.425613 -1.862560  0.274359 -0.871945 -0.422819  1.133956"
            ]
          },
          "metadata": {
            "tags": []
          },
          "execution_count": 56
        }
      ]
    },
    {
      "cell_type": "code",
      "metadata": {
        "id": "qICTG4tv14Tm",
        "outputId": "2ea99f01-f0ab-420b-a021-c474fc4258bd",
        "colab": {
          "base_uri": "https://localhost:8080/",
          "height": 283
        }
      },
      "source": [
        "# Função para plotar o Boxplot\n",
        "colunas = df_cc5_yeo_johnson.columns\n",
        "df_cc5_yeo_johnson.boxplot()"
      ],
      "execution_count": 57,
      "outputs": [
        {
          "output_type": "execute_result",
          "data": {
            "text/plain": [
              "<matplotlib.axes._subplots.AxesSubplot at 0x7fbfe613cc18>"
            ]
          },
          "metadata": {
            "tags": []
          },
          "execution_count": 57
        },
        {
          "output_type": "display_data",
          "data": {
            "image/png": "[encoded data removed]",
            "text/plain": [
              "<Figure size 432x288 with 1 Axes>"
            ]
          },
          "metadata": {
            "tags": [],
            "needs_background": "light"
          }
        }
      ]
    },
    {
      "cell_type": "markdown",
      "metadata": {
        "id": "xhpMlK3k4-xi"
      },
      "source": [
        "## Vamos comparar a distribuição das variáveis antes e depois da transformação YEO-JOHNSON"
      ]
    },
    {
      "cell_type": "code",
      "metadata": {
        "id": "zR1NTb8H5Gsp",
        "outputId": "ef2d37a8-2b72-4145-9685-aa259eb49f09",
        "colab": {
          "base_uri": "https://localhost:8080/",
          "height": 299
        }
      },
      "source": [
        "# Antes do tratamento dos outliers e da transformação yeo-johnson:\n",
        "plt.figure(figsize=(10,8))\n",
        "df_X.diff(axis=0, periods=1).hist(color = 'k', alpha = 0.5, bins = 100);"
      ],
      "execution_count": 58,
      "outputs": [
        {
          "output_type": "display_data",
          "data": {
            "text/plain": [
              "<Figure size 720x576 with 0 Axes>"
            ]
          },
          "metadata": {
            "tags": []
          }
        },
        {
          "output_type": "display_data",
          "data": {
            "image/png": "[encoded data removed]",
            "text/plain": [
              "<Figure size 432x288 with 9 Axes>"
            ]
          },
          "metadata": {
            "tags": [],
            "needs_background": "light"
          }
        }
      ]
    },
    {
      "cell_type": "code",
      "metadata": {
        "id": "0q-7YKTl4Jnk",
        "outputId": "7c39688e-0c7d-40c0-e821-5e65c6d226c5",
        "colab": {
          "base_uri": "https://localhost:8080/",
          "height": 299
        }
      },
      "source": [
        "# USANDO um comando reduzido do matplotlib.pyplot\n",
        "plt.figure(figsize=(12,10))\n",
        "df_cc5_yeo_johnson.diff(axis=0, periods=1).hist(color = 'k', alpha = 0.5, bins = 100);"
      ],
      "execution_count": 59,
      "outputs": [
        {
          "output_type": "display_data",
          "data": {
            "text/plain": [
              "<Figure size 864x720 with 0 Axes>"
            ]
          },
          "metadata": {
            "tags": []
          }
        },
        {
          "output_type": "display_data",
          "data": {
            "image/png": "[encoded data removed]",
            "text/plain": [
              "<Figure size 432x288 with 6 Axes>"
            ]
          },
          "metadata": {
            "tags": [],
            "needs_background": "light"
          }
        }
      ]
    },
    {
      "cell_type": "markdown",
      "metadata": {
        "id": "ZH-jm7SR5x3L"
      },
      "source": [
        "# Agora criar o modelo de ML"
      ]
    },
    {
      "cell_type": "code",
      "metadata": {
        "id": "q010oEra479a"
      },
      "source": [
        "# VARIÁVEIS GLOBAIS\n",
        "i_CV = 10 # Número de Cross-Validations\n",
        "i_Seed = 20111974 # semente por questões de reproducibilidade\n",
        "f_Test_Size = 0.3 # Proporção do dataframe de validação (outros valores poderiam ser 0.15, 0.20 ou 0.25)"
      ],
      "execution_count": 60,
      "outputs": []
    },
    {
      "cell_type": "code",
      "metadata": {
        "id": "dRQvBgqy6JFc",
        "outputId": "05967bc0-d02c-4313-d303-4a29b7af08c8",
        "colab": {
          "base_uri": "https://localhost:8080/",
          "height": 198
        }
      },
      "source": [
        "# DataFrame com as variáveis preditivas:\n",
        "df_X = df_cc5_yeo_johnson.copy()\n",
        "df_X.head()"
      ],
      "execution_count": 61,
      "outputs": [
        {
          "output_type": "execute_result",
          "data": {
            "text/html": [
              "<div>\n",
              "<style scoped>\n",
              "    .dataframe tbody tr th:only-of-type {\n",
              "        vertical-align: middle;\n",
              "    }\n",
              "\n",
              "    .dataframe tbody tr th {\n",
              "        vertical-align: top;\n",
              "    }\n",
              "\n",
              "    .dataframe thead th {\n",
              "        text-align: right;\n",
              "    }\n",
              "</style>\n",
              "<table border=\"1\" class=\"dataframe\">\n",
              "  <thead>\n",
              "    <tr style=\"text-align: right;\">\n",
              "      <th></th>\n",
              "      <th>V12</th>\n",
              "      <th>V14</th>\n",
              "      <th>V15</th>\n",
              "      <th>V17</th>\n",
              "      <th>V23</th>\n",
              "      <th>V27</th>\n",
              "    </tr>\n",
              "  </thead>\n",
              "  <tbody>\n",
              "    <tr>\n",
              "      <th>0</th>\n",
              "      <td>0.666205</td>\n",
              "      <td>-1.268667</td>\n",
              "      <td>1.972884</td>\n",
              "      <td>-0.244601</td>\n",
              "      <td>-0.292655</td>\n",
              "      <td>0.663988</td>\n",
              "    </tr>\n",
              "    <tr>\n",
              "      <th>1</th>\n",
              "      <td>1.740508</td>\n",
              "      <td>-1.129482</td>\n",
              "      <td>0.833762</td>\n",
              "      <td>-0.696172</td>\n",
              "      <td>0.707101</td>\n",
              "      <td>-0.135523</td>\n",
              "    </tr>\n",
              "    <tr>\n",
              "      <th>2</th>\n",
              "      <td>1.129111</td>\n",
              "      <td>-1.148347</td>\n",
              "      <td>3.313903</td>\n",
              "      <td>0.943186</td>\n",
              "      <td>2.214598</td>\n",
              "      <td>-0.401311</td>\n",
              "    </tr>\n",
              "    <tr>\n",
              "      <th>3</th>\n",
              "      <td>1.201093</td>\n",
              "      <td>-1.249766</td>\n",
              "      <td>-0.557270</td>\n",
              "      <td>-1.533635</td>\n",
              "      <td>-0.679522</td>\n",
              "      <td>0.269868</td>\n",
              "    </tr>\n",
              "    <tr>\n",
              "      <th>4</th>\n",
              "      <td>1.425613</td>\n",
              "      <td>-1.862560</td>\n",
              "      <td>0.274359</td>\n",
              "      <td>-0.871945</td>\n",
              "      <td>-0.422819</td>\n",
              "      <td>1.133956</td>\n",
              "    </tr>\n",
              "  </tbody>\n",
              "</table>\n",
              "</div>"
            ],
            "text/plain": [
              "        V12       V14       V15       V17       V23       V27\n",
              "0  0.666205 -1.268667  1.972884 -0.244601 -0.292655  0.663988\n",
              "1  1.740508 -1.129482  0.833762 -0.696172  0.707101 -0.135523\n",
              "2  1.129111 -1.148347  3.313903  0.943186  2.214598 -0.401311\n",
              "3  1.201093 -1.249766 -0.557270 -1.533635 -0.679522  0.269868\n",
              "4  1.425613 -1.862560  0.274359 -0.871945 -0.422819  1.133956"
            ]
          },
          "metadata": {
            "tags": []
          },
          "execution_count": 61
        }
      ]
    },
    {
      "cell_type": "code",
      "metadata": {
        "id": "c93KtORS69QT",
        "outputId": "43b9dcf2-8080-45bd-e7de-1be4da0f5220",
        "colab": {
          "base_uri": "https://localhost:8080/",
          "height": 35
        }
      },
      "source": [
        "df_X.shape"
      ],
      "execution_count": 62,
      "outputs": [
        {
          "output_type": "execute_result",
          "data": {
            "text/plain": [
              "(12841, 6)"
            ]
          },
          "metadata": {
            "tags": []
          },
          "execution_count": 62
        }
      ]
    },
    {
      "cell_type": "code",
      "metadata": {
        "id": "t_M1La2_6JO0",
        "outputId": "89518c31-f899-4479-b7b9-8fcf7e339efb",
        "colab": {
          "base_uri": "https://localhost:8080/",
          "height": 235
        }
      },
      "source": [
        "# DataFrame com a variável target\n",
        "df_y = df_cc4['Class'].copy()\n",
        "df_y"
      ],
      "execution_count": 63,
      "outputs": [
        {
          "output_type": "execute_result",
          "data": {
            "text/plain": [
              "0        0.0\n",
              "1        0.0\n",
              "2        0.0\n",
              "3        0.0\n",
              "4        0.0\n",
              "        ... \n",
              "12836    0.0\n",
              "12837    0.0\n",
              "12838    0.0\n",
              "12839    0.0\n",
              "12840    0.0\n",
              "Name: Class, Length: 12841, dtype: float64"
            ]
          },
          "metadata": {
            "tags": []
          },
          "execution_count": 63
        }
      ]
    },
    {
      "cell_type": "code",
      "metadata": {
        "id": "61CGTrKw6JSG",
        "outputId": "337563d5-440f-4e34-84fa-f17cd40f4d3e",
        "colab": {
          "base_uri": "https://localhost:8080/",
          "height": 72
        }
      },
      "source": [
        "df_y.value_counts()"
      ],
      "execution_count": 64,
      "outputs": [
        {
          "output_type": "execute_result",
          "data": {
            "text/plain": [
              "0.0    12785\n",
              "1.0       56\n",
              "Name: Class, dtype: int64"
            ]
          },
          "metadata": {
            "tags": []
          },
          "execution_count": 64
        }
      ]
    },
    {
      "cell_type": "code",
      "metadata": {
        "id": "lQ4p8Kh16JUT",
        "outputId": "f06b8cd7-4773-4e38-ce3b-0db3ddcc88fe",
        "colab": {
          "base_uri": "https://localhost:8080/",
          "height": 35
        }
      },
      "source": [
        "df_X.shape, df_y.shape"
      ],
      "execution_count": 65,
      "outputs": [
        {
          "output_type": "execute_result",
          "data": {
            "text/plain": [
              "((12841, 6), (12841,))"
            ]
          },
          "metadata": {
            "tags": []
          },
          "execution_count": 65
        }
      ]
    },
    {
      "cell_type": "markdown",
      "metadata": {
        "id": "3SatXv1y7Hqo"
      },
      "source": [
        "## Definir a amostra de treinamento e teste"
      ]
    },
    {
      "cell_type": "code",
      "metadata": {
        "id": "Kx7bfXAy6JXW"
      },
      "source": [
        "from sklearn.model_selection import train_test_split\n"
      ],
      "execution_count": 66,
      "outputs": []
    },
    {
      "cell_type": "code",
      "metadata": {
        "id": "Ohj4RwnF7pha"
      },
      "source": [
        "X_treinamento, X_teste, y_treinamento, y_teste = train_test_split(df_X, df_y, test_size=f_Test_Size, random_state= i_Seed)\n"
      ],
      "execution_count": 67,
      "outputs": []
    },
    {
      "cell_type": "code",
      "metadata": {
        "id": "l5r33RPi7NHJ",
        "outputId": "8d39156f-2c26-4cca-c3b2-d306c6fd8b6a",
        "colab": {
          "base_uri": "https://localhost:8080/",
          "height": 35
        }
      },
      "source": [
        "X_treinamento.shape, y_treinamento.shape"
      ],
      "execution_count": 68,
      "outputs": [
        {
          "output_type": "execute_result",
          "data": {
            "text/plain": [
              "((8988, 6), (8988,))"
            ]
          },
          "metadata": {
            "tags": []
          },
          "execution_count": 68
        }
      ]
    },
    {
      "cell_type": "code",
      "metadata": {
        "id": "i1JmSzO671lx",
        "outputId": "4bb0f322-0c08-4ba6-f44a-d6cd3d66ff8e",
        "colab": {
          "base_uri": "https://localhost:8080/",
          "height": 35
        }
      },
      "source": [
        "X_teste.shape, y_teste.shape"
      ],
      "execution_count": 69,
      "outputs": [
        {
          "output_type": "execute_result",
          "data": {
            "text/plain": [
              "((3853, 6), (3853,))"
            ]
          },
          "metadata": {
            "tags": []
          },
          "execution_count": 69
        }
      ]
    },
    {
      "cell_type": "markdown",
      "metadata": {
        "id": "n75p8p--78A3"
      },
      "source": [
        "## Vamos criar o modelo DecisionTreeClassifier"
      ]
    },
    {
      "cell_type": "code",
      "metadata": {
        "id": "RG-Yky3o74Gv"
      },
      "source": [
        "from sklearn.tree import DecisionTreeClassifier # Este é o nosso classificador"
      ],
      "execution_count": null,
      "outputs": []
    },
    {
      "cell_type": "code",
      "metadata": {
        "id": "rWpQfv498EYg"
      },
      "source": [
        "ml_DT = DecisionTreeClassifier(criterion = 'gini', \n",
        "                               splitter = 'best', \n",
        "                               max_depth = None, \n",
        "                               min_samples_split = 2, \n",
        "                               min_samples_leaf = 1, \n",
        "                               min_weight_fraction_leaf = 0.0, \n",
        "                               max_features = None, \n",
        "                               random_state = i_Seed, \n",
        "                               max_leaf_nodes = None, \n",
        "                               min_impurity_decrease = 0.0, \n",
        "                               min_impurity_split = None, \n",
        "                               class_weight = None, \n",
        "                               presort = False)"
      ],
      "execution_count": 89,
      "outputs": []
    },
    {
      "cell_type": "code",
      "metadata": {
        "id": "QqjJCqDhf1eU",
        "outputId": "feed70ad-5207-467b-e2cd-5f043d134bcf",
        "colab": {
          "base_uri": "https://localhost:8080/",
          "height": 126
        }
      },
      "source": [
        "ml_DT"
      ],
      "execution_count": 90,
      "outputs": [
        {
          "output_type": "execute_result",
          "data": {
            "text/plain": [
              "DecisionTreeClassifier(ccp_alpha=0.0, class_weight=None, criterion='gini',\n",
              "                       max_depth=None, max_features=None, max_leaf_nodes=None,\n",
              "                       min_impurity_decrease=0.0, min_impurity_split=None,\n",
              "                       min_samples_leaf=1, min_samples_split=2,\n",
              "                       min_weight_fraction_leaf=0.0, presort=False,\n",
              "                       random_state=20111974, splitter='best')"
            ]
          },
          "metadata": {
            "tags": []
          },
          "execution_count": 90
        }
      ]
    },
    {
      "cell_type": "code",
      "metadata": {
        "id": "Sxslq6WD8Ez_",
        "outputId": "beb8dc10-962a-4c4a-c8b6-5e51ad889327",
        "colab": {
          "base_uri": "https://localhost:8080/",
          "height": 183
        }
      },
      "source": [
        "# Treimamento do modelo\n",
        "ml_DT.fit(X_treinamento, y_treinamento)"
      ],
      "execution_count": 91,
      "outputs": [
        {
          "output_type": "stream",
          "text": [
            "/usr/local/lib/python3.6/dist-packages/sklearn/tree/_classes.py:319: FutureWarning: The parameter 'presort' is deprecated and has no effect. It will be removed in v0.24. You can suppress this warning by not passing any value to the 'presort' parameter.\n",
            "  FutureWarning)\n"
          ],
          "name": "stderr"
        },
        {
          "output_type": "execute_result",
          "data": {
            "text/plain": [
              "DecisionTreeClassifier(ccp_alpha=0.0, class_weight=None, criterion='gini',\n",
              "                       max_depth=None, max_features=None, max_leaf_nodes=None,\n",
              "                       min_impurity_decrease=0.0, min_impurity_split=None,\n",
              "                       min_samples_leaf=1, min_samples_split=2,\n",
              "                       min_weight_fraction_leaf=0.0, presort=False,\n",
              "                       random_state=20111974, splitter='best')"
            ]
          },
          "metadata": {
            "tags": []
          },
          "execution_count": 91
        }
      ]
    },
    {
      "cell_type": "code",
      "metadata": {
        "id": "j1TyW6PhLY04"
      },
      "source": [
        "y_pred = ml_DT.predict(X_teste)"
      ],
      "execution_count": 92,
      "outputs": []
    },
    {
      "cell_type": "markdown",
      "metadata": {
        "id": "rDYbqbb6KiFM"
      },
      "source": [
        "## Vamos ver a Matriz de Confusão após treinar o modelo\n",
        "## Matriz com os dados de teste."
      ]
    },
    {
      "cell_type": "code",
      "metadata": {
        "id": "WLgEfXBWKfR1",
        "outputId": "220b662e-6304-432f-d677-6d371b41b021",
        "colab": {
          "base_uri": "https://localhost:8080/",
          "height": 575
        }
      },
      "source": [
        "from sklearn.metrics import confusion_matrix # para plotar a confusion matrix\n",
        "print(f'\\n********* CONFUSION MATRIX - PARAMETER TUNNING ***********')\n",
        "cf_matrix = confusion_matrix(y_teste, y_pred)\n",
        "cf_labels = ['True_Negative', 'False_Positive', 'False_Negative', 'True_Positive']\n",
        "cf_categories = ['Zero', 'One']\n",
        "mostra_confusion_matrix(cf_matrix, group_names = cf_labels, categories = cf_categories)\n",
        "#return ml_Opt , ml_GridSearchCV.best_params_"
      ],
      "execution_count": 93,
      "outputs": [
        {
          "output_type": "stream",
          "text": [
            "\n",
            "********* CONFUSION MATRIX - PARAMETER TUNNING ***********\n"
          ],
          "name": "stdout"
        },
        {
          "output_type": "display_data",
          "data": {
            "image/png": "[encoded data removed]",
            "text/plain": [
              "<Figure size 576x576 with 2 Axes>"
            ]
          },
          "metadata": {
            "tags": [],
            "needs_background": "light"
          }
        }
      ]
    },
    {
      "cell_type": "code",
      "metadata": {
        "id": "CSFBTPBUMVZK"
      },
      "source": [
        "# A MATRIZ DE CONFUSÃO DE UMA ACURÁCIA MUITO ALTA."
      ],
      "execution_count": null,
      "outputs": []
    },
    {
      "cell_type": "markdown",
      "metadata": {
        "id": "y9KGGvo1F_Cn"
      },
      "source": [
        "## Agora vamos fazer o cross-validation"
      ]
    },
    {
      "cell_type": "code",
      "metadata": {
        "id": "OZEz-cWjO6Bb"
      },
      "source": [
        "# VARIÁVEIS GLOBAIS\n",
        "i_CV = 10 # Número de Cross-Validations\n",
        "i_Seed = 20111974 # semente por questões de reproducibilidade\n",
        "f_Test_Size = 0.3 # Proporção do dataframe de validação (outros valores poderiam ser 0.15, 0.20 ou 0.25)"
      ],
      "execution_count": 94,
      "outputs": []
    },
    {
      "cell_type": "code",
      "metadata": {
        "id": "CXvGhvYGJypw",
        "outputId": "4dea88c5-8e22-4a44-c6ba-146f22ff4c99",
        "colab": {
          "base_uri": "https://localhost:8080/",
          "height": 78
        }
      },
      "source": [
        "X_treinamento.head(1)"
      ],
      "execution_count": 95,
      "outputs": [
        {
          "output_type": "execute_result",
          "data": {
            "text/html": [
              "<div>\n",
              "<style scoped>\n",
              "    .dataframe tbody tr th:only-of-type {\n",
              "        vertical-align: middle;\n",
              "    }\n",
              "\n",
              "    .dataframe tbody tr th {\n",
              "        vertical-align: top;\n",
              "    }\n",
              "\n",
              "    .dataframe thead th {\n",
              "        text-align: right;\n",
              "    }\n",
              "</style>\n",
              "<table border=\"1\" class=\"dataframe\">\n",
              "  <thead>\n",
              "    <tr style=\"text-align: right;\">\n",
              "      <th></th>\n",
              "      <th>V12</th>\n",
              "      <th>V14</th>\n",
              "      <th>V15</th>\n",
              "      <th>V17</th>\n",
              "      <th>V23</th>\n",
              "      <th>V27</th>\n",
              "    </tr>\n",
              "  </thead>\n",
              "  <tbody>\n",
              "    <tr>\n",
              "      <th>2703</th>\n",
              "      <td>1.972757</td>\n",
              "      <td>-1.565873</td>\n",
              "      <td>-1.623607</td>\n",
              "      <td>0.862154</td>\n",
              "      <td>2.214598</td>\n",
              "      <td>0.351843</td>\n",
              "    </tr>\n",
              "  </tbody>\n",
              "</table>\n",
              "</div>"
            ],
            "text/plain": [
              "           V12       V14       V15       V17       V23       V27\n",
              "2703  1.972757 -1.565873 -1.623607  0.862154  2.214598  0.351843"
            ]
          },
          "metadata": {
            "tags": []
          },
          "execution_count": 95
        }
      ]
    },
    {
      "cell_type": "code",
      "metadata": {
        "id": "Yq3C1ZwFJyx_",
        "outputId": "362e7df2-43a6-4247-b009-0b6631b1951f",
        "colab": {
          "base_uri": "https://localhost:8080/",
          "height": 54
        }
      },
      "source": [
        "y_treinamento.head(1)"
      ],
      "execution_count": 96,
      "outputs": [
        {
          "output_type": "execute_result",
          "data": {
            "text/plain": [
              "2703    0.0\n",
              "Name: Class, dtype: float64"
            ]
          },
          "metadata": {
            "tags": []
          },
          "execution_count": 96
        }
      ]
    },
    {
      "cell_type": "code",
      "metadata": {
        "id": "3QV6wVjRGCeg",
        "outputId": "18ef0fd0-2860-4761-ffb1-b41a9024ab8c",
        "colab": {
          "base_uri": "https://localhost:8080/",
          "height": 437
        }
      },
      "source": [
        "# Executando a função já disponível neste notebook\n",
        "from sklearn.model_selection import cross_val_score\n",
        "\n",
        "a_scores_CV = cross_val_score(ml_DT, X_treinamento, y_treinamento, cv = i_CV)\n",
        "a_scores_CV"
      ],
      "execution_count": 97,
      "outputs": [
        {
          "output_type": "stream",
          "text": [
            "/usr/local/lib/python3.6/dist-packages/sklearn/tree/_classes.py:319: FutureWarning: The parameter 'presort' is deprecated and has no effect. It will be removed in v0.24. You can suppress this warning by not passing any value to the 'presort' parameter.\n",
            "  FutureWarning)\n",
            "/usr/local/lib/python3.6/dist-packages/sklearn/tree/_classes.py:319: FutureWarning: The parameter 'presort' is deprecated and has no effect. It will be removed in v0.24. You can suppress this warning by not passing any value to the 'presort' parameter.\n",
            "  FutureWarning)\n",
            "/usr/local/lib/python3.6/dist-packages/sklearn/tree/_classes.py:319: FutureWarning: The parameter 'presort' is deprecated and has no effect. It will be removed in v0.24. You can suppress this warning by not passing any value to the 'presort' parameter.\n",
            "  FutureWarning)\n",
            "/usr/local/lib/python3.6/dist-packages/sklearn/tree/_classes.py:319: FutureWarning: The parameter 'presort' is deprecated and has no effect. It will be removed in v0.24. You can suppress this warning by not passing any value to the 'presort' parameter.\n",
            "  FutureWarning)\n",
            "/usr/local/lib/python3.6/dist-packages/sklearn/tree/_classes.py:319: FutureWarning: The parameter 'presort' is deprecated and has no effect. It will be removed in v0.24. You can suppress this warning by not passing any value to the 'presort' parameter.\n",
            "  FutureWarning)\n",
            "/usr/local/lib/python3.6/dist-packages/sklearn/tree/_classes.py:319: FutureWarning: The parameter 'presort' is deprecated and has no effect. It will be removed in v0.24. You can suppress this warning by not passing any value to the 'presort' parameter.\n",
            "  FutureWarning)\n",
            "/usr/local/lib/python3.6/dist-packages/sklearn/tree/_classes.py:319: FutureWarning: The parameter 'presort' is deprecated and has no effect. It will be removed in v0.24. You can suppress this warning by not passing any value to the 'presort' parameter.\n",
            "  FutureWarning)\n",
            "/usr/local/lib/python3.6/dist-packages/sklearn/tree/_classes.py:319: FutureWarning: The parameter 'presort' is deprecated and has no effect. It will be removed in v0.24. You can suppress this warning by not passing any value to the 'presort' parameter.\n",
            "  FutureWarning)\n",
            "/usr/local/lib/python3.6/dist-packages/sklearn/tree/_classes.py:319: FutureWarning: The parameter 'presort' is deprecated and has no effect. It will be removed in v0.24. You can suppress this warning by not passing any value to the 'presort' parameter.\n",
            "  FutureWarning)\n",
            "/usr/local/lib/python3.6/dist-packages/sklearn/tree/_classes.py:319: FutureWarning: The parameter 'presort' is deprecated and has no effect. It will be removed in v0.24. You can suppress this warning by not passing any value to the 'presort' parameter.\n",
            "  FutureWarning)\n"
          ],
          "name": "stderr"
        },
        {
          "output_type": "execute_result",
          "data": {
            "text/plain": [
              "array([1.        , 0.99888765, 0.99777531, 0.99777531, 0.99777531,\n",
              "       1.        , 1.        , 0.99888765, 0.99777283, 1.        ])"
            ]
          },
          "metadata": {
            "tags": []
          },
          "execution_count": 97
        }
      ]
    },
    {
      "cell_type": "code",
      "metadata": {
        "id": "xwOoQRITPeMs",
        "outputId": "d2e5f0e7-3e53-41e2-a3c7-d4a203244ee0",
        "colab": {
          "base_uri": "https://localhost:8080/",
          "height": 35
        }
      },
      "source": [
        "a_scores_CV.mean().round(4)"
      ],
      "execution_count": 98,
      "outputs": [
        {
          "output_type": "execute_result",
          "data": {
            "text/plain": [
              "0.9989"
            ]
          },
          "metadata": {
            "tags": []
          },
          "execution_count": 98
        }
      ]
    },
    {
      "cell_type": "markdown",
      "metadata": {
        "id": "ZZwhzVkPN58x"
      },
      "source": [
        "## Tentativa de fazer o GridSearch"
      ]
    },
    {
      "cell_type": "code",
      "metadata": {
        "id": "vvZaUk58QhaP",
        "outputId": "9630ba20-3452-487d-bcf4-d931313778b9",
        "colab": {
          "base_uri": "https://localhost:8080/",
          "height": 35
        }
      },
      "source": [
        "# COLUNAS DAS VARIÁVEIS PREDITIVAS\n",
        "l_colunas = df_X.columns\n",
        "l_colunas"
      ],
      "execution_count": 99,
      "outputs": [
        {
          "output_type": "execute_result",
          "data": {
            "text/plain": [
              "Index(['V12', 'V14', 'V15', 'V17', 'V23', 'V27'], dtype='object')"
            ]
          },
          "metadata": {
            "tags": []
          },
          "execution_count": 99
        }
      ]
    },
    {
      "cell_type": "code",
      "metadata": {
        "id": "hD7Pb9FCuRVv"
      },
      "source": [
        "# Hiperparâmetros: colocando espaço de iteração dos hiperparâmetros para o GridSearch.\n",
        "d_hiperparametros_DT = {\"criterion\": [\"gini\", \"entropy\"], \n",
        "                  \"min_samples_split\": [2, 5, 10, 30, 50, 70, 90, 120, 150, 180, 210, 240, 270, 350, 400],\n",
        "                  \"max_depth\": [None, 2, 5, 9, 15],\n",
        "                  \"min_samples_leaf\": [20, 40, 60, 80, 100],\n",
        "                  \"max_leaf_nodes\": [None, 2, 3, 4, 5, 10, 15]}"
      ],
      "execution_count": 100,
      "outputs": []
    },
    {
      "cell_type": "code",
      "metadata": {
        "id": "O_LdC9oX8E2j"
      },
      "source": [
        "# Agora, vamos fazer o GRIDSEARCH  com 10 folds i_CV = 10 já foi definido nas variáveis globais lá em cima.\n",
        "# Vou usar a função criada lá no começo do notebook:\n",
        "import sklearn\n",
        "from sklearn.model_selection import GridSearchCV, KFold\n",
        "from time import time"
      ],
      "execution_count": 85,
      "outputs": []
    },
    {
      "cell_type": "code",
      "metadata": {
        "id": "o9Ae5nxUEzep",
        "outputId": "76a52b92-3f9b-4617-da51-23601e3b860b",
        "colab": {
          "base_uri": "https://localhost:8080/",
          "height": 1000
        }
      },
      "source": [
        "# CHAMANDO A FUNÇÃO:\n",
        "ml_DT2, best_params = GridSearchOptimizer(ml_DT, 'ml_DT2', d_hiperparametros_DT, X_treinamento, y_treinamento, X_teste, y_teste, i_CV, l_colunas)\n"
      ],
      "execution_count": 106,
      "outputs": [
        {
          "output_type": "stream",
          "text": [
            "Fitting 10 folds for each of 5250 candidates, totalling 52500 fits\n"
          ],
          "name": "stdout"
        },
        {
          "output_type": "stream",
          "text": [
            "[Parallel(n_jobs=-1)]: Using backend LokyBackend with 2 concurrent workers.\n",
            "[Parallel(n_jobs=-1)]: Done   1 tasks      | elapsed:    1.4s\n",
            "[Parallel(n_jobs=-1)]: Done   4 tasks      | elapsed:    1.5s\n",
            "[Parallel(n_jobs=-1)]: Done   9 tasks      | elapsed:    1.6s\n",
            "[Parallel(n_jobs=-1)]: Done  14 tasks      | elapsed:    1.8s\n",
            "[Parallel(n_jobs=-1)]: Batch computation too fast (0.1910s.) Setting batch_size=2.\n",
            "[Parallel(n_jobs=-1)]: Done  22 tasks      | elapsed:    2.0s\n",
            "[Parallel(n_jobs=-1)]: Batch computation too fast (0.1590s.) Setting batch_size=4.\n",
            "[Parallel(n_jobs=-1)]: Done  44 tasks      | elapsed:    2.4s\n",
            "[Parallel(n_jobs=-1)]: Done  80 tasks      | elapsed:    3.3s\n",
            "[Parallel(n_jobs=-1)]: Done 116 tasks      | elapsed:    4.0s\n",
            "[Parallel(n_jobs=-1)]: Done 160 tasks      | elapsed:    5.0s\n",
            "[Parallel(n_jobs=-1)]: Done 204 tasks      | elapsed:    5.9s\n",
            "[Parallel(n_jobs=-1)]: Done 256 tasks      | elapsed:    7.0s\n",
            "[Parallel(n_jobs=-1)]: Done 308 tasks      | elapsed:    8.0s\n",
            "[Parallel(n_jobs=-1)]: Done 368 tasks      | elapsed:    9.2s\n",
            "[Parallel(n_jobs=-1)]: Done 428 tasks      | elapsed:   10.5s\n",
            "[Parallel(n_jobs=-1)]: Done 496 tasks      | elapsed:   11.8s\n",
            "[Parallel(n_jobs=-1)]: Done 564 tasks      | elapsed:   13.2s\n",
            "[Parallel(n_jobs=-1)]: Done 640 tasks      | elapsed:   14.7s\n",
            "[Parallel(n_jobs=-1)]: Done 716 tasks      | elapsed:   16.2s\n",
            "[Parallel(n_jobs=-1)]: Done 800 tasks      | elapsed:   17.6s\n",
            "[Parallel(n_jobs=-1)]: Done 884 tasks      | elapsed:   18.8s\n",
            "[Parallel(n_jobs=-1)]: Done 976 tasks      | elapsed:   20.1s\n",
            "[Parallel(n_jobs=-1)]: Done 1068 tasks      | elapsed:   21.5s\n",
            "[Parallel(n_jobs=-1)]: Done 1168 tasks      | elapsed:   23.0s\n",
            "[Parallel(n_jobs=-1)]: Done 1268 tasks      | elapsed:   24.4s\n",
            "[Parallel(n_jobs=-1)]: Done 1376 tasks      | elapsed:   26.0s\n",
            "[Parallel(n_jobs=-1)]: Done 1484 tasks      | elapsed:   27.6s\n",
            "[Parallel(n_jobs=-1)]: Done 1600 tasks      | elapsed:   29.8s\n",
            "[Parallel(n_jobs=-1)]: Done 1716 tasks      | elapsed:   32.0s\n",
            "[Parallel(n_jobs=-1)]: Done 1840 tasks      | elapsed:   34.4s\n",
            "[Parallel(n_jobs=-1)]: Done 1964 tasks      | elapsed:   36.7s\n",
            "[Parallel(n_jobs=-1)]: Done 2096 tasks      | elapsed:   39.2s\n",
            "[Parallel(n_jobs=-1)]: Done 2228 tasks      | elapsed:   41.7s\n",
            "[Parallel(n_jobs=-1)]: Done 2368 tasks      | elapsed:   44.6s\n",
            "[Parallel(n_jobs=-1)]: Done 2508 tasks      | elapsed:   47.3s\n",
            "[Parallel(n_jobs=-1)]: Done 2656 tasks      | elapsed:   50.2s\n",
            "[Parallel(n_jobs=-1)]: Done 2804 tasks      | elapsed:   53.1s\n",
            "[Parallel(n_jobs=-1)]: Done 2960 tasks      | elapsed:   56.2s\n",
            "[Parallel(n_jobs=-1)]: Done 3116 tasks      | elapsed:   59.4s\n",
            "[Parallel(n_jobs=-1)]: Done 3280 tasks      | elapsed:  1.0min\n",
            "[Parallel(n_jobs=-1)]: Done 3444 tasks      | elapsed:  1.1min\n",
            "[Parallel(n_jobs=-1)]: Done 3616 tasks      | elapsed:  1.2min\n",
            "[Parallel(n_jobs=-1)]: Done 3788 tasks      | elapsed:  1.2min\n",
            "[Parallel(n_jobs=-1)]: Done 3968 tasks      | elapsed:  1.3min\n",
            "[Parallel(n_jobs=-1)]: Done 4148 tasks      | elapsed:  1.3min\n",
            "[Parallel(n_jobs=-1)]: Done 4336 tasks      | elapsed:  1.4min\n",
            "[Parallel(n_jobs=-1)]: Done 4524 tasks      | elapsed:  1.5min\n",
            "[Parallel(n_jobs=-1)]: Done 4720 tasks      | elapsed:  1.5min\n",
            "[Parallel(n_jobs=-1)]: Done 4916 tasks      | elapsed:  1.6min\n",
            "[Parallel(n_jobs=-1)]: Done 5120 tasks      | elapsed:  1.7min\n",
            "[Parallel(n_jobs=-1)]: Done 5324 tasks      | elapsed:  1.7min\n",
            "[Parallel(n_jobs=-1)]: Done 5536 tasks      | elapsed:  1.8min\n",
            "[Parallel(n_jobs=-1)]: Done 5748 tasks      | elapsed:  1.8min\n",
            "[Parallel(n_jobs=-1)]: Done 5968 tasks      | elapsed:  1.9min\n",
            "[Parallel(n_jobs=-1)]: Done 6188 tasks      | elapsed:  1.9min\n",
            "[Parallel(n_jobs=-1)]: Done 6416 tasks      | elapsed:  2.0min\n",
            "[Parallel(n_jobs=-1)]: Done 6644 tasks      | elapsed:  2.1min\n",
            "[Parallel(n_jobs=-1)]: Done 6880 tasks      | elapsed:  2.1min\n",
            "[Parallel(n_jobs=-1)]: Done 7116 tasks      | elapsed:  2.2min\n",
            "[Parallel(n_jobs=-1)]: Done 7360 tasks      | elapsed:  2.2min\n",
            "[Parallel(n_jobs=-1)]: Done 7604 tasks      | elapsed:  2.3min\n",
            "[Parallel(n_jobs=-1)]: Done 7856 tasks      | elapsed:  2.3min\n",
            "[Parallel(n_jobs=-1)]: Done 8108 tasks      | elapsed:  2.4min\n",
            "[Parallel(n_jobs=-1)]: Done 8368 tasks      | elapsed:  2.5min\n",
            "[Parallel(n_jobs=-1)]: Done 8628 tasks      | elapsed:  2.5min\n",
            "[Parallel(n_jobs=-1)]: Done 8896 tasks      | elapsed:  2.6min\n",
            "[Parallel(n_jobs=-1)]: Done 9164 tasks      | elapsed:  2.7min\n",
            "[Parallel(n_jobs=-1)]: Done 9440 tasks      | elapsed:  2.7min\n",
            "[Parallel(n_jobs=-1)]: Done 9716 tasks      | elapsed:  2.8min\n",
            "[Parallel(n_jobs=-1)]: Done 10000 tasks      | elapsed:  2.9min\n",
            "[Parallel(n_jobs=-1)]: Done 10284 tasks      | elapsed:  2.9min\n",
            "[Parallel(n_jobs=-1)]: Done 10576 tasks      | elapsed:  3.0min\n",
            "[Parallel(n_jobs=-1)]: Done 10868 tasks      | elapsed:  3.1min\n",
            "[Parallel(n_jobs=-1)]: Done 11168 tasks      | elapsed:  3.2min\n",
            "[Parallel(n_jobs=-1)]: Done 11468 tasks      | elapsed:  3.3min\n",
            "[Parallel(n_jobs=-1)]: Done 11776 tasks      | elapsed:  3.4min\n",
            "[Parallel(n_jobs=-1)]: Done 12084 tasks      | elapsed:  3.5min\n",
            "[Parallel(n_jobs=-1)]: Done 12400 tasks      | elapsed:  3.6min\n",
            "[Parallel(n_jobs=-1)]: Done 12716 tasks      | elapsed:  3.7min\n",
            "[Parallel(n_jobs=-1)]: Done 13040 tasks      | elapsed:  3.8min\n",
            "[Parallel(n_jobs=-1)]: Done 13364 tasks      | elapsed:  3.9min\n",
            "[Parallel(n_jobs=-1)]: Done 13696 tasks      | elapsed:  4.0min\n",
            "[Parallel(n_jobs=-1)]: Done 14028 tasks      | elapsed:  4.2min\n",
            "[Parallel(n_jobs=-1)]: Done 14368 tasks      | elapsed:  4.3min\n",
            "[Parallel(n_jobs=-1)]: Done 14708 tasks      | elapsed:  4.4min\n",
            "[Parallel(n_jobs=-1)]: Done 15056 tasks      | elapsed:  4.6min\n",
            "[Parallel(n_jobs=-1)]: Done 15404 tasks      | elapsed:  4.7min\n",
            "[Parallel(n_jobs=-1)]: Done 15760 tasks      | elapsed:  4.8min\n",
            "[Parallel(n_jobs=-1)]: Done 16116 tasks      | elapsed:  4.9min\n",
            "[Parallel(n_jobs=-1)]: Done 16480 tasks      | elapsed:  5.1min\n",
            "[Parallel(n_jobs=-1)]: Done 16844 tasks      | elapsed:  5.2min\n",
            "[Parallel(n_jobs=-1)]: Done 17216 tasks      | elapsed:  5.2min\n",
            "[Parallel(n_jobs=-1)]: Done 17588 tasks      | elapsed:  5.4min\n",
            "[Parallel(n_jobs=-1)]: Done 17968 tasks      | elapsed:  5.5min\n",
            "[Parallel(n_jobs=-1)]: Done 18348 tasks      | elapsed:  5.6min\n",
            "[Parallel(n_jobs=-1)]: Done 18736 tasks      | elapsed:  5.7min\n",
            "[Parallel(n_jobs=-1)]: Done 19124 tasks      | elapsed:  5.9min\n",
            "[Parallel(n_jobs=-1)]: Done 19520 tasks      | elapsed:  6.0min\n",
            "[Parallel(n_jobs=-1)]: Done 19916 tasks      | elapsed:  6.1min\n",
            "[Parallel(n_jobs=-1)]: Done 20320 tasks      | elapsed:  6.3min\n",
            "[Parallel(n_jobs=-1)]: Done 20724 tasks      | elapsed:  6.4min\n",
            "[Parallel(n_jobs=-1)]: Done 21136 tasks      | elapsed:  6.5min\n",
            "[Parallel(n_jobs=-1)]: Done 21548 tasks      | elapsed:  6.7min\n",
            "[Parallel(n_jobs=-1)]: Done 21968 tasks      | elapsed:  6.8min\n",
            "[Parallel(n_jobs=-1)]: Done 22388 tasks      | elapsed:  6.9min\n",
            "[Parallel(n_jobs=-1)]: Done 22816 tasks      | elapsed:  7.0min\n",
            "[Parallel(n_jobs=-1)]: Done 23244 tasks      | elapsed:  7.2min\n",
            "[Parallel(n_jobs=-1)]: Done 23680 tasks      | elapsed:  7.3min\n",
            "[Parallel(n_jobs=-1)]: Done 24116 tasks      | elapsed:  7.5min\n",
            "[Parallel(n_jobs=-1)]: Done 24560 tasks      | elapsed:  7.6min\n",
            "[Parallel(n_jobs=-1)]: Done 25004 tasks      | elapsed:  7.8min\n",
            "[Parallel(n_jobs=-1)]: Done 25456 tasks      | elapsed:  7.9min\n",
            "[Parallel(n_jobs=-1)]: Done 25908 tasks      | elapsed:  8.1min\n",
            "[Parallel(n_jobs=-1)]: Done 26368 tasks      | elapsed:  8.3min\n",
            "[Parallel(n_jobs=-1)]: Done 26828 tasks      | elapsed:  8.5min\n",
            "[Parallel(n_jobs=-1)]: Done 27296 tasks      | elapsed:  8.7min\n",
            "[Parallel(n_jobs=-1)]: Done 27764 tasks      | elapsed:  8.8min\n",
            "[Parallel(n_jobs=-1)]: Done 28240 tasks      | elapsed:  9.0min\n",
            "[Parallel(n_jobs=-1)]: Done 28716 tasks      | elapsed:  9.2min\n",
            "[Parallel(n_jobs=-1)]: Done 29200 tasks      | elapsed:  9.4min\n",
            "[Parallel(n_jobs=-1)]: Done 29684 tasks      | elapsed:  9.6min\n",
            "[Parallel(n_jobs=-1)]: Done 30176 tasks      | elapsed:  9.9min\n",
            "[Parallel(n_jobs=-1)]: Done 30668 tasks      | elapsed: 10.2min\n",
            "[Parallel(n_jobs=-1)]: Done 31168 tasks      | elapsed: 10.4min\n",
            "[Parallel(n_jobs=-1)]: Done 31668 tasks      | elapsed: 10.6min\n",
            "[Parallel(n_jobs=-1)]: Done 32176 tasks      | elapsed: 10.7min\n",
            "[Parallel(n_jobs=-1)]: Done 32684 tasks      | elapsed: 10.9min\n",
            "[Parallel(n_jobs=-1)]: Done 33200 tasks      | elapsed: 11.1min\n",
            "[Parallel(n_jobs=-1)]: Done 33716 tasks      | elapsed: 11.3min\n",
            "[Parallel(n_jobs=-1)]: Done 34240 tasks      | elapsed: 11.4min\n",
            "[Parallel(n_jobs=-1)]: Done 34764 tasks      | elapsed: 11.6min\n",
            "[Parallel(n_jobs=-1)]: Done 35296 tasks      | elapsed: 11.8min\n",
            "[Parallel(n_jobs=-1)]: Done 35828 tasks      | elapsed: 12.0min\n",
            "[Parallel(n_jobs=-1)]: Done 36368 tasks      | elapsed: 12.2min\n",
            "[Parallel(n_jobs=-1)]: Done 36908 tasks      | elapsed: 12.4min\n",
            "[Parallel(n_jobs=-1)]: Done 37456 tasks      | elapsed: 12.6min\n",
            "[Parallel(n_jobs=-1)]: Done 38004 tasks      | elapsed: 12.8min\n",
            "[Parallel(n_jobs=-1)]: Done 38560 tasks      | elapsed: 13.0min\n",
            "[Parallel(n_jobs=-1)]: Done 39116 tasks      | elapsed: 13.3min\n",
            "[Parallel(n_jobs=-1)]: Done 39680 tasks      | elapsed: 13.5min\n",
            "[Parallel(n_jobs=-1)]: Done 40244 tasks      | elapsed: 13.8min\n",
            "[Parallel(n_jobs=-1)]: Done 40816 tasks      | elapsed: 14.0min\n",
            "[Parallel(n_jobs=-1)]: Done 41388 tasks      | elapsed: 14.3min\n",
            "[Parallel(n_jobs=-1)]: Done 41968 tasks      | elapsed: 14.5min\n",
            "[Parallel(n_jobs=-1)]: Done 42548 tasks      | elapsed: 14.8min\n",
            "[Parallel(n_jobs=-1)]: Done 43136 tasks      | elapsed: 15.0min\n",
            "[Parallel(n_jobs=-1)]: Done 43724 tasks      | elapsed: 15.2min\n",
            "[Parallel(n_jobs=-1)]: Done 44320 tasks      | elapsed: 15.5min\n",
            "[Parallel(n_jobs=-1)]: Done 44916 tasks      | elapsed: 15.7min\n",
            "[Parallel(n_jobs=-1)]: Done 45520 tasks      | elapsed: 16.0min\n",
            "[Parallel(n_jobs=-1)]: Done 46124 tasks      | elapsed: 16.3min\n",
            "[Parallel(n_jobs=-1)]: Done 46736 tasks      | elapsed: 16.5min\n",
            "[Parallel(n_jobs=-1)]: Done 47348 tasks      | elapsed: 16.8min\n",
            "[Parallel(n_jobs=-1)]: Done 47968 tasks      | elapsed: 17.1min\n",
            "[Parallel(n_jobs=-1)]: Done 48588 tasks      | elapsed: 17.3min\n",
            "[Parallel(n_jobs=-1)]: Done 49216 tasks      | elapsed: 17.5min\n",
            "[Parallel(n_jobs=-1)]: Done 49844 tasks      | elapsed: 17.8min\n",
            "[Parallel(n_jobs=-1)]: Done 50480 tasks      | elapsed: 18.1min\n",
            "[Parallel(n_jobs=-1)]: Done 51116 tasks      | elapsed: 18.4min\n",
            "[Parallel(n_jobs=-1)]: Done 51760 tasks      | elapsed: 18.6min\n",
            "[Parallel(n_jobs=-1)]: Done 52404 tasks      | elapsed: 18.9min\n",
            "[Parallel(n_jobs=-1)]: Done 52500 out of 52500 | elapsed: 19.0min finished\n",
            "/usr/local/lib/python3.6/dist-packages/sklearn/tree/_classes.py:319: FutureWarning: The parameter 'presort' is deprecated and has no effect. It will be removed in v0.24. You can suppress this warning by not passing any value to the 'presort' parameter.\n",
            "  FutureWarning)\n"
          ],
          "name": "stderr"
        },
        {
          "output_type": "stream",
          "text": [
            "\n",
            "Parametros otimizados: {'criterion': 'gini', 'max_depth': None, 'max_leaf_nodes': None, 'min_samples_leaf': 20, 'min_samples_split': 2}\n",
            "\n",
            "DecisionTreeClassifier *********************************************************************************************************\n",
            "\n",
            "********* CROSS-VALIDATION ***********\n",
            "Média das Acurácias calculadas pelo CV....: 99.81\n",
            "std médio das Acurácias calculadas pelo CV: 0.11\n",
            "\n",
            "********* IMPORTÂNCIA DAS COLUNAS ***********\n",
            "  coluna  importancia\n",
            "0    V12     0.905366\n",
            "2    V15     0.060794\n",
            "3    V17     0.018064\n",
            "1    V14     0.015775\n",
            "4    V23     0.000000\n",
            "5    V27     0.000000\n",
            "\n",
            "********* CONFUSION MATRIX - PARAMETER TUNNING ***********\n"
          ],
          "name": "stdout"
        },
        {
          "output_type": "display_data",
          "data": {
            "image/png": "[encoded data removed]",
            "text/plain": [
              "<Figure size 576x576 with 2 Axes>"
            ]
          },
          "metadata": {
            "tags": [],
            "needs_background": "light"
          }
        }
      ]
    },
    {
      "cell_type": "code",
      "metadata": {
        "id": "4xal5EDC9UrO",
        "outputId": "9e52e977-66c9-4b0e-89d6-22782b4af0f7",
        "colab": {
          "base_uri": "https://localhost:8080/",
          "height": 1000
        }
      },
      "source": [
        "# Visualizar os resultados:\n",
        "from sklearn.tree import export_graphviz\n",
        "from sklearn.externals.six import StringIO  \n",
        "from IPython.display import Image  \n",
        "import pydotplus\n",
        "\n",
        "np.set_printoptions(suppress=True)\n",
        "\n",
        "dot_data = StringIO()\n",
        "export_graphviz(ml_DT2, out_file = dot_data, filled = True, rounded = True, special_characters = True, feature_names = l_colunas, class_names = ['0','1'])\n",
        "\n",
        "graph = pydotplus.graph_from_dot_data(dot_data.getvalue())  \n",
        "graph.write_png('DecisionTree.png')\n",
        "Image(graph.create_png())"
      ],
      "execution_count": 107,
      "outputs": [
        {
          "output_type": "stream",
          "text": [
            "/usr/local/lib/python3.6/dist-packages/sklearn/externals/six.py:31: FutureWarning: The module is deprecated in version 0.21 and will be removed in version 0.23 since we've dropped support for Python 2.7. Please rely on the official version of six (https://pypi.org/project/six/).\n",
            "  \"(https://pypi.org/project/six/).\", FutureWarning)\n"
          ],
          "name": "stderr"
        },
        {
          "output_type": "execute_result",
          "data": {
            "image/png": "[encoded data removed]",
            "text/plain": [
              "<IPython.core.display.Image object>"
            ]
          },
          "metadata": {
            "tags": []
          },
          "execution_count": 107
        }
      ]
    },
    {
      "cell_type": "code",
      "metadata": {
        "id": "NSnwV2mh7vUM",
        "outputId": "50e2c6e2-8d2e-4cbe-b901-984923b79145",
        "colab": {
          "base_uri": "https://localhost:8080/",
          "height": 430
        }
      },
      "source": [
        "# Tratando amostra desbalanceada com under-sampling\n",
        "# https://www.kaggle.com/rafjaa/resampling-strategies-for-imbalanced-datasets\n",
        "# https://imbalanced-learn.org/stable/under_sampling.html#prototype-selection\n",
        "\n",
        "!pip install imbalanced-learn\n",
        "import imblearn\n",
        "from imblearn.under_sampling import RandomUnderSampler\n",
        "\n",
        "# Selecionando apenas as 'colunas importantes' que eu já havia definido\n",
        "\n",
        "X = df_X[['V12','V14','V15','V17','V23','V27']]\n",
        "y = df_y\n",
        "rus = RandomUnderSampler(random_state=0)\n",
        "X_resampled, y_resampled = rus.fit_resample(X, y)\n",
        "colors = ['#ef8a62' if v == 0 else '#f7f7f7' if v == 1 else '#67a9cf' for v in y_resampled]\n",
        "plt.scatter(X_resampled[:, 0], X_resampled[:, 1], c=colors, linewidth=0.5, edgecolor='black')\n",
        "sns.despine()\n",
        "plt.title(\"RandomUnderSampler Output ($n_{class}=64)$\")\n",
        "pass"
      ],
      "execution_count": 109,
      "outputs": [
        {
          "output_type": "stream",
          "text": [
            "Requirement already satisfied: imbalanced-learn in /usr/local/lib/python3.6/dist-packages (0.4.3)\n",
            "Requirement already satisfied: scipy>=0.13.3 in /usr/local/lib/python3.6/dist-packages (from imbalanced-learn) (1.4.1)\n",
            "Requirement already satisfied: numpy>=1.8.2 in /usr/local/lib/python3.6/dist-packages (from imbalanced-learn) (1.18.5)\n",
            "Requirement already satisfied: scikit-learn>=0.20 in /usr/local/lib/python3.6/dist-packages (from imbalanced-learn) (0.22.2.post1)\n",
            "Requirement already satisfied: joblib>=0.11 in /usr/local/lib/python3.6/dist-packages (from scikit-learn>=0.20->imbalanced-learn) (0.17.0)\n"
          ],
          "name": "stdout"
        },
        {
          "output_type": "stream",
          "text": [
            "/usr/local/lib/python3.6/dist-packages/sklearn/utils/deprecation.py:87: FutureWarning: Function safe_indexing is deprecated; safe_indexing is deprecated in version 0.22 and will be removed in version 0.24.\n",
            "  warnings.warn(msg, category=FutureWarning)\n"
          ],
          "name": "stderr"
        },
        {
          "output_type": "display_data",
          "data": {
            "image/png": "[encoded data removed]",
            "text/plain": [
              "<Figure size 432x288 with 1 Axes>"
            ]
          },
          "metadata": {
            "tags": [],
            "needs_background": "light"
          }
        }
      ]
    },
    {
      "cell_type": "code",
      "metadata": {
        "id": "I743ASKe8YMv",
        "outputId": "a922af14-def1-4dd9-a3f4-bab2a3b7fe39",
        "colab": {
          "base_uri": "https://localhost:8080/",
          "height": 35
        }
      },
      "source": [
        "X_resampled.shape"
      ],
      "execution_count": 110,
      "outputs": [
        {
          "output_type": "execute_result",
          "data": {
            "text/plain": [
              "(112, 6)"
            ]
          },
          "metadata": {
            "tags": []
          },
          "execution_count": 110
        }
      ]
    },
    {
      "cell_type": "code",
      "metadata": {
        "id": "vgz1Y1GG8dn2",
        "outputId": "f5690e89-a0e3-4897-e6fd-17ba783ce115",
        "colab": {
          "base_uri": "https://localhost:8080/",
          "height": 35
        }
      },
      "source": [
        "type(y_resampled)"
      ],
      "execution_count": 113,
      "outputs": [
        {
          "output_type": "execute_result",
          "data": {
            "text/plain": [
              "numpy.ndarray"
            ]
          },
          "metadata": {
            "tags": []
          },
          "execution_count": 113
        }
      ]
    },
    {
      "cell_type": "code",
      "metadata": {
        "id": "GxZWFzGW8dry"
      },
      "source": [
        "df_X2 = pd.DataFrame(X_resampled, columns= ['V12','V14','V15','V17','V23','V27'])"
      ],
      "execution_count": 114,
      "outputs": []
    },
    {
      "cell_type": "code",
      "metadata": {
        "id": "RlU1oOQQ8dvR",
        "outputId": "f64072ae-2666-4d3e-ac60-7a02272cba4b",
        "colab": {
          "base_uri": "https://localhost:8080/",
          "height": 198
        }
      },
      "source": [
        "df_X2.head()"
      ],
      "execution_count": 115,
      "outputs": [
        {
          "output_type": "execute_result",
          "data": {
            "text/html": [
              "<div>\n",
              "<style scoped>\n",
              "    .dataframe tbody tr th:only-of-type {\n",
              "        vertical-align: middle;\n",
              "    }\n",
              "\n",
              "    .dataframe tbody tr th {\n",
              "        vertical-align: top;\n",
              "    }\n",
              "\n",
              "    .dataframe thead th {\n",
              "        text-align: right;\n",
              "    }\n",
              "</style>\n",
              "<table border=\"1\" class=\"dataframe\">\n",
              "  <thead>\n",
              "    <tr style=\"text-align: right;\">\n",
              "      <th></th>\n",
              "      <th>V12</th>\n",
              "      <th>V14</th>\n",
              "      <th>V15</th>\n",
              "      <th>V17</th>\n",
              "      <th>V23</th>\n",
              "      <th>V27</th>\n",
              "    </tr>\n",
              "  </thead>\n",
              "  <tbody>\n",
              "    <tr>\n",
              "      <th>0</th>\n",
              "      <td>1.388692</td>\n",
              "      <td>-1.397284</td>\n",
              "      <td>0.219933</td>\n",
              "      <td>-0.222756</td>\n",
              "      <td>-0.582030</td>\n",
              "      <td>0.790966</td>\n",
              "    </tr>\n",
              "    <tr>\n",
              "      <th>1</th>\n",
              "      <td>-0.886257</td>\n",
              "      <td>1.493628</td>\n",
              "      <td>-0.593452</td>\n",
              "      <td>-0.860630</td>\n",
              "      <td>1.013635</td>\n",
              "      <td>-0.317907</td>\n",
              "    </tr>\n",
              "    <tr>\n",
              "      <th>2</th>\n",
              "      <td>-0.231399</td>\n",
              "      <td>0.634927</td>\n",
              "      <td>0.072193</td>\n",
              "      <td>2.275981</td>\n",
              "      <td>0.693088</td>\n",
              "      <td>0.011928</td>\n",
              "    </tr>\n",
              "    <tr>\n",
              "      <th>3</th>\n",
              "      <td>-0.097289</td>\n",
              "      <td>0.365332</td>\n",
              "      <td>-0.463035</td>\n",
              "      <td>1.182234</td>\n",
              "      <td>0.063467</td>\n",
              "      <td>-0.070907</td>\n",
              "    </tr>\n",
              "    <tr>\n",
              "      <th>4</th>\n",
              "      <td>1.224761</td>\n",
              "      <td>-1.040400</td>\n",
              "      <td>1.534369</td>\n",
              "      <td>-1.532410</td>\n",
              "      <td>-1.699749</td>\n",
              "      <td>1.336905</td>\n",
              "    </tr>\n",
              "  </tbody>\n",
              "</table>\n",
              "</div>"
            ],
            "text/plain": [
              "        V12       V14       V15       V17       V23       V27\n",
              "0  1.388692 -1.397284  0.219933 -0.222756 -0.582030  0.790966\n",
              "1 -0.886257  1.493628 -0.593452 -0.860630  1.013635 -0.317907\n",
              "2 -0.231399  0.634927  0.072193  2.275981  0.693088  0.011928\n",
              "3 -0.097289  0.365332 -0.463035  1.182234  0.063467 -0.070907\n",
              "4  1.224761 -1.040400  1.534369 -1.532410 -1.699749  1.336905"
            ]
          },
          "metadata": {
            "tags": []
          },
          "execution_count": 115
        }
      ]
    },
    {
      "cell_type": "code",
      "metadata": {
        "id": "hQMreSz68d2L"
      },
      "source": [
        "df_y2 = pd.DataFrame(y_resampled, columns = ['Class'])"
      ],
      "execution_count": 117,
      "outputs": []
    },
    {
      "cell_type": "code",
      "metadata": {
        "id": "NgAInHx28swD",
        "outputId": "9465c44b-3193-48cc-a8d2-0710d8a45469",
        "colab": {
          "base_uri": "https://localhost:8080/",
          "height": 198
        }
      },
      "source": [
        "df_y2.head()"
      ],
      "execution_count": 118,
      "outputs": [
        {
          "output_type": "execute_result",
          "data": {
            "text/html": [
              "<div>\n",
              "<style scoped>\n",
              "    .dataframe tbody tr th:only-of-type {\n",
              "        vertical-align: middle;\n",
              "    }\n",
              "\n",
              "    .dataframe tbody tr th {\n",
              "        vertical-align: top;\n",
              "    }\n",
              "\n",
              "    .dataframe thead th {\n",
              "        text-align: right;\n",
              "    }\n",
              "</style>\n",
              "<table border=\"1\" class=\"dataframe\">\n",
              "  <thead>\n",
              "    <tr style=\"text-align: right;\">\n",
              "      <th></th>\n",
              "      <th>Class</th>\n",
              "    </tr>\n",
              "  </thead>\n",
              "  <tbody>\n",
              "    <tr>\n",
              "      <th>0</th>\n",
              "      <td>0.0</td>\n",
              "    </tr>\n",
              "    <tr>\n",
              "      <th>1</th>\n",
              "      <td>0.0</td>\n",
              "    </tr>\n",
              "    <tr>\n",
              "      <th>2</th>\n",
              "      <td>0.0</td>\n",
              "    </tr>\n",
              "    <tr>\n",
              "      <th>3</th>\n",
              "      <td>0.0</td>\n",
              "    </tr>\n",
              "    <tr>\n",
              "      <th>4</th>\n",
              "      <td>0.0</td>\n",
              "    </tr>\n",
              "  </tbody>\n",
              "</table>\n",
              "</div>"
            ],
            "text/plain": [
              "   Class\n",
              "0    0.0\n",
              "1    0.0\n",
              "2    0.0\n",
              "3    0.0\n",
              "4    0.0"
            ]
          },
          "metadata": {
            "tags": []
          },
          "execution_count": 118
        }
      ]
    },
    {
      "cell_type": "code",
      "metadata": {
        "id": "ZvxJvfRD8s3N",
        "outputId": "b728b27f-5cdb-4f74-c360-8c62c3865ef9",
        "colab": {
          "base_uri": "https://localhost:8080/",
          "height": 145
        }
      },
      "source": [
        "y_resampled"
      ],
      "execution_count": 119,
      "outputs": [
        {
          "output_type": "execute_result",
          "data": {
            "text/plain": [
              "array([0., 0., 0., 0., 0., 0., 0., 0., 0., 0., 0., 0., 0., 0., 0., 0., 0.,\n",
              "       0., 0., 0., 0., 0., 0., 0., 0., 0., 0., 0., 0., 0., 0., 0., 0., 0.,\n",
              "       0., 0., 0., 0., 0., 0., 0., 0., 0., 0., 0., 0., 0., 0., 0., 0., 0.,\n",
              "       0., 0., 0., 0., 0., 1., 1., 1., 1., 1., 1., 1., 1., 1., 1., 1., 1.,\n",
              "       1., 1., 1., 1., 1., 1., 1., 1., 1., 1., 1., 1., 1., 1., 1., 1., 1.,\n",
              "       1., 1., 1., 1., 1., 1., 1., 1., 1., 1., 1., 1., 1., 1., 1., 1., 1.,\n",
              "       1., 1., 1., 1., 1., 1., 1., 1., 1., 1.])"
            ]
          },
          "metadata": {
            "tags": []
          },
          "execution_count": 119
        }
      ]
    },
    {
      "cell_type": "code",
      "metadata": {
        "id": "R6YUu-0V8s8u"
      },
      "source": [
        "# Definindo amostras de treinamento e teste (30%):\n",
        "# utilizando df_X2 e df_y2, que são as resultantes da undersampling\n",
        "from sklearn.model_selection import train_test_split\n",
        "X_treinamento, X_teste, y_treinamento, y_teste = train_test_split(df_X2, df_y2, test_size = f_Test_Size, random_state = i_Seed)"
      ],
      "execution_count": 120,
      "outputs": []
    },
    {
      "cell_type": "code",
      "metadata": {
        "id": "aW9gqe028dze",
        "outputId": "78f9442a-eef0-40ed-bde1-4e47b8fafeaa",
        "colab": {
          "base_uri": "https://localhost:8080/",
          "height": 198
        }
      },
      "source": [
        "X_treinamento.head()"
      ],
      "execution_count": 121,
      "outputs": [
        {
          "output_type": "execute_result",
          "data": {
            "text/html": [
              "<div>\n",
              "<style scoped>\n",
              "    .dataframe tbody tr th:only-of-type {\n",
              "        vertical-align: middle;\n",
              "    }\n",
              "\n",
              "    .dataframe tbody tr th {\n",
              "        vertical-align: top;\n",
              "    }\n",
              "\n",
              "    .dataframe thead th {\n",
              "        text-align: right;\n",
              "    }\n",
              "</style>\n",
              "<table border=\"1\" class=\"dataframe\">\n",
              "  <thead>\n",
              "    <tr style=\"text-align: right;\">\n",
              "      <th></th>\n",
              "      <th>V12</th>\n",
              "      <th>V14</th>\n",
              "      <th>V15</th>\n",
              "      <th>V17</th>\n",
              "      <th>V23</th>\n",
              "      <th>V27</th>\n",
              "    </tr>\n",
              "  </thead>\n",
              "  <tbody>\n",
              "    <tr>\n",
              "      <th>66</th>\n",
              "      <td>-3.452272</td>\n",
              "      <td>-2.278478</td>\n",
              "      <td>1.726846</td>\n",
              "      <td>-2.810909</td>\n",
              "      <td>2.214598</td>\n",
              "      <td>1.940849</td>\n",
              "    </tr>\n",
              "    <tr>\n",
              "      <th>20</th>\n",
              "      <td>1.541338</td>\n",
              "      <td>-0.859733</td>\n",
              "      <td>0.344805</td>\n",
              "      <td>-0.036804</td>\n",
              "      <td>0.033455</td>\n",
              "      <td>-0.269664</td>\n",
              "    </tr>\n",
              "    <tr>\n",
              "      <th>37</th>\n",
              "      <td>1.097810</td>\n",
              "      <td>-0.733885</td>\n",
              "      <td>0.762285</td>\n",
              "      <td>-0.643227</td>\n",
              "      <td>0.999089</td>\n",
              "      <td>-0.303992</td>\n",
              "    </tr>\n",
              "    <tr>\n",
              "      <th>28</th>\n",
              "      <td>-0.518155</td>\n",
              "      <td>-0.189686</td>\n",
              "      <td>0.185429</td>\n",
              "      <td>0.405143</td>\n",
              "      <td>0.213834</td>\n",
              "      <td>1.728698</td>\n",
              "    </tr>\n",
              "    <tr>\n",
              "      <th>19</th>\n",
              "      <td>-0.403863</td>\n",
              "      <td>0.232186</td>\n",
              "      <td>-1.622335</td>\n",
              "      <td>-0.141673</td>\n",
              "      <td>-0.009603</td>\n",
              "      <td>-1.297434</td>\n",
              "    </tr>\n",
              "  </tbody>\n",
              "</table>\n",
              "</div>"
            ],
            "text/plain": [
              "         V12       V14       V15       V17       V23       V27\n",
              "66 -3.452272 -2.278478  1.726846 -2.810909  2.214598  1.940849\n",
              "20  1.541338 -0.859733  0.344805 -0.036804  0.033455 -0.269664\n",
              "37  1.097810 -0.733885  0.762285 -0.643227  0.999089 -0.303992\n",
              "28 -0.518155 -0.189686  0.185429  0.405143  0.213834  1.728698\n",
              "19 -0.403863  0.232186 -1.622335 -0.141673 -0.009603 -1.297434"
            ]
          },
          "metadata": {
            "tags": []
          },
          "execution_count": 121
        }
      ]
    },
    {
      "cell_type": "code",
      "metadata": {
        "id": "l3NAtSSI8zlr"
      },
      "source": [
        "from sklearn.tree import DecisionTreeClassifier # Library para Decision Tree (Classificação)\n",
        "\n",
        "ml_DT = DecisionTreeClassifier(criterion = 'gini', \n",
        "                               splitter = 'best', \n",
        "                               max_depth = None, \n",
        "                               min_samples_split = 2, \n",
        "                               min_samples_leaf = 1, \n",
        "                               min_weight_fraction_leaf = 0.0, \n",
        "                               max_features = None, \n",
        "                               random_state = i_Seed, \n",
        "                               max_leaf_nodes = None, \n",
        "                               min_impurity_decrease = 0.0, \n",
        "                               min_impurity_split = None, \n",
        "                               class_weight = None, \n",
        "                               presort = False)\n"
      ],
      "execution_count": 122,
      "outputs": []
    },
    {
      "cell_type": "code",
      "metadata": {
        "id": "HqoNfaPA8zok",
        "outputId": "949df112-0023-4b55-e0a9-0dad5f46c7ea",
        "colab": {
          "base_uri": "https://localhost:8080/",
          "height": 126
        }
      },
      "source": [
        "ml_DT"
      ],
      "execution_count": 123,
      "outputs": [
        {
          "output_type": "execute_result",
          "data": {
            "text/plain": [
              "DecisionTreeClassifier(ccp_alpha=0.0, class_weight=None, criterion='gini',\n",
              "                       max_depth=None, max_features=None, max_leaf_nodes=None,\n",
              "                       min_impurity_decrease=0.0, min_impurity_split=None,\n",
              "                       min_samples_leaf=1, min_samples_split=2,\n",
              "                       min_weight_fraction_leaf=0.0, presort=False,\n",
              "                       random_state=20111974, splitter='best')"
            ]
          },
          "metadata": {
            "tags": []
          },
          "execution_count": 123
        }
      ]
    },
    {
      "cell_type": "code",
      "metadata": {
        "id": "flXwFdA-8zwh",
        "outputId": "65938df0-2c2c-4595-dc4b-cedf8fb2993d",
        "colab": {
          "base_uri": "https://localhost:8080/",
          "height": 183
        }
      },
      "source": [
        "ml_DT.fit(X_treinamento, y_treinamento)"
      ],
      "execution_count": 124,
      "outputs": [
        {
          "output_type": "stream",
          "text": [
            "/usr/local/lib/python3.6/dist-packages/sklearn/tree/_classes.py:319: FutureWarning: The parameter 'presort' is deprecated and has no effect. It will be removed in v0.24. You can suppress this warning by not passing any value to the 'presort' parameter.\n",
            "  FutureWarning)\n"
          ],
          "name": "stderr"
        },
        {
          "output_type": "execute_result",
          "data": {
            "text/plain": [
              "DecisionTreeClassifier(ccp_alpha=0.0, class_weight=None, criterion='gini',\n",
              "                       max_depth=None, max_features=None, max_leaf_nodes=None,\n",
              "                       min_impurity_decrease=0.0, min_impurity_split=None,\n",
              "                       min_samples_leaf=1, min_samples_split=2,\n",
              "                       min_weight_fraction_leaf=0.0, presort=False,\n",
              "                       random_state=20111974, splitter='best')"
            ]
          },
          "metadata": {
            "tags": []
          },
          "execution_count": 124
        }
      ]
    },
    {
      "cell_type": "code",
      "metadata": {
        "id": "PopVJuzM8z0o",
        "outputId": "5d83684e-791e-4dc3-e898-9c7556026c8a",
        "colab": {
          "base_uri": "https://localhost:8080/",
          "height": 437
        }
      },
      "source": [
        "a_scores_CV = funcao_cross_val_score(ml_DT, X_treinamento, y_treinamento, i_CV)"
      ],
      "execution_count": 125,
      "outputs": [
        {
          "output_type": "stream",
          "text": [
            "Média das Acurácias calculadas pelo CV....: 93.57\n",
            "std médio das Acurácias calculadas pelo CV: 8.53\n"
          ],
          "name": "stdout"
        },
        {
          "output_type": "stream",
          "text": [
            "/usr/local/lib/python3.6/dist-packages/sklearn/tree/_classes.py:319: FutureWarning: The parameter 'presort' is deprecated and has no effect. It will be removed in v0.24. You can suppress this warning by not passing any value to the 'presort' parameter.\n",
            "  FutureWarning)\n",
            "/usr/local/lib/python3.6/dist-packages/sklearn/tree/_classes.py:319: FutureWarning: The parameter 'presort' is deprecated and has no effect. It will be removed in v0.24. You can suppress this warning by not passing any value to the 'presort' parameter.\n",
            "  FutureWarning)\n",
            "/usr/local/lib/python3.6/dist-packages/sklearn/tree/_classes.py:319: FutureWarning: The parameter 'presort' is deprecated and has no effect. It will be removed in v0.24. You can suppress this warning by not passing any value to the 'presort' parameter.\n",
            "  FutureWarning)\n",
            "/usr/local/lib/python3.6/dist-packages/sklearn/tree/_classes.py:319: FutureWarning: The parameter 'presort' is deprecated and has no effect. It will be removed in v0.24. You can suppress this warning by not passing any value to the 'presort' parameter.\n",
            "  FutureWarning)\n",
            "/usr/local/lib/python3.6/dist-packages/sklearn/tree/_classes.py:319: FutureWarning: The parameter 'presort' is deprecated and has no effect. It will be removed in v0.24. You can suppress this warning by not passing any value to the 'presort' parameter.\n",
            "  FutureWarning)\n",
            "/usr/local/lib/python3.6/dist-packages/sklearn/tree/_classes.py:319: FutureWarning: The parameter 'presort' is deprecated and has no effect. It will be removed in v0.24. You can suppress this warning by not passing any value to the 'presort' parameter.\n",
            "  FutureWarning)\n",
            "/usr/local/lib/python3.6/dist-packages/sklearn/tree/_classes.py:319: FutureWarning: The parameter 'presort' is deprecated and has no effect. It will be removed in v0.24. You can suppress this warning by not passing any value to the 'presort' parameter.\n",
            "  FutureWarning)\n",
            "/usr/local/lib/python3.6/dist-packages/sklearn/tree/_classes.py:319: FutureWarning: The parameter 'presort' is deprecated and has no effect. It will be removed in v0.24. You can suppress this warning by not passing any value to the 'presort' parameter.\n",
            "  FutureWarning)\n",
            "/usr/local/lib/python3.6/dist-packages/sklearn/tree/_classes.py:319: FutureWarning: The parameter 'presort' is deprecated and has no effect. It will be removed in v0.24. You can suppress this warning by not passing any value to the 'presort' parameter.\n",
            "  FutureWarning)\n",
            "/usr/local/lib/python3.6/dist-packages/sklearn/tree/_classes.py:319: FutureWarning: The parameter 'presort' is deprecated and has no effect. It will be removed in v0.24. You can suppress this warning by not passing any value to the 'presort' parameter.\n",
            "  FutureWarning)\n"
          ],
          "name": "stderr"
        }
      ]
    },
    {
      "cell_type": "code",
      "metadata": {
        "id": "FhlcCtic8zud",
        "outputId": "21d1ff1a-13a0-4cf7-da17-f6aa1e70b079",
        "colab": {
          "base_uri": "https://localhost:8080/",
          "height": 54
        }
      },
      "source": [
        "a_scores_CV"
      ],
      "execution_count": 126,
      "outputs": [
        {
          "output_type": "execute_result",
          "data": {
            "text/plain": [
              "array([1.        , 1.        , 1.        , 0.875     , 1.        ,\n",
              "       1.        , 0.75      , 0.875     , 1.        , 0.85714286])"
            ]
          },
          "metadata": {
            "tags": []
          },
          "execution_count": 126
        }
      ]
    },
    {
      "cell_type": "code",
      "metadata": {
        "id": "BdsIgapG8_z9"
      },
      "source": [
        "# Matriz de confusão\n",
        "# Fazer predições usando o classificados DecisionTree para deduzir na amostra de teste:\n",
        "y_pred = ml_DT.predict(X_teste)"
      ],
      "execution_count": 127,
      "outputs": []
    },
    {
      "cell_type": "code",
      "metadata": {
        "id": "wByt_RR38_6t",
        "outputId": "45230c53-cfac-4af7-ebb2-4dbf88c62f33",
        "colab": {
          "base_uri": "https://localhost:8080/",
          "height": 54
        }
      },
      "source": [
        "y_pred"
      ],
      "execution_count": 128,
      "outputs": [
        {
          "output_type": "execute_result",
          "data": {
            "text/plain": [
              "array([1., 0., 1., 1., 1., 1., 1., 0., 0., 0., 0., 0., 1., 1., 0., 0., 0.,\n",
              "       1., 0., 0., 0., 1., 0., 0., 0., 1., 1., 0., 0., 0., 1., 1., 0., 1.])"
            ]
          },
          "metadata": {
            "tags": []
          },
          "execution_count": 128
        }
      ]
    },
    {
      "cell_type": "code",
      "metadata": {
        "id": "jq1EDdsM8__O",
        "outputId": "4705a694-bce5-4857-9e33-c52bcfed2803",
        "colab": {
          "base_uri": "https://localhost:8080/",
          "height": 542
        }
      },
      "source": [
        "cf_matrix = confusion_matrix(y_teste, y_pred)\n",
        "cf_labels = ['True_Negative', 'False_Positive', 'False_Negative', 'True_Positive']\n",
        "cf_categories = ['Zero', 'One']\n",
        "mostra_confusion_matrix(cf_matrix, group_names= cf_labels, categories= cf_categories)"
      ],
      "execution_count": 129,
      "outputs": [
        {
          "output_type": "display_data",
          "data": {
            "image/png": "[encoded data removed]",
            "text/plain": [
              "<Figure size 576x576 with 2 Axes>"
            ]
          },
          "metadata": {
            "tags": [],
            "needs_background": "light"
          }
        }
      ]
    },
    {
      "cell_type": "code",
      "metadata": {
        "id": "6qmFko769AEL"
      },
      "source": [
        "l_colunas = df_X2.columns       # são aquelas 6 colunas consideradas importantes "
      ],
      "execution_count": 130,
      "outputs": []
    },
    {
      "cell_type": "code",
      "metadata": {
        "id": "dU1zgemV9AIv",
        "outputId": "6f362032-4b59-462c-d99f-610495efaa62",
        "colab": {
          "base_uri": "https://localhost:8080/",
          "height": 35
        }
      },
      "source": [
        "l_colunas"
      ],
      "execution_count": 131,
      "outputs": [
        {
          "output_type": "execute_result",
          "data": {
            "text/plain": [
              "Index(['V12', 'V14', 'V15', 'V17', 'V23', 'V27'], dtype='object')"
            ]
          },
          "metadata": {
            "tags": []
          },
          "execution_count": 131
        }
      ]
    },
    {
      "cell_type": "code",
      "metadata": {
        "id": "Z6Bot0mY9SpI",
        "outputId": "84b1791b-b0ed-489b-b2f8-6dffca893891",
        "colab": {
          "base_uri": "https://localhost:8080/",
          "height": 1000
        }
      },
      "source": [
        "ml_DT2, best_params = GridSearchOptimizer(ml_DT, 'ml_DT2', d_hiperparametros_DT, X_treinamento, y_treinamento, X_teste, y_teste, i_CV, l_colunas)"
      ],
      "execution_count": 132,
      "outputs": [
        {
          "output_type": "stream",
          "text": [
            "Fitting 10 folds for each of 5250 candidates, totalling 52500 fits\n"
          ],
          "name": "stdout"
        },
        {
          "output_type": "stream",
          "text": [
            "[Parallel(n_jobs=-1)]: Using backend LokyBackend with 2 concurrent workers.\n",
            "[Parallel(n_jobs=-1)]: Done   1 tasks      | elapsed:    1.3s\n",
            "[Parallel(n_jobs=-1)]: Done   4 tasks      | elapsed:    1.3s\n",
            "[Parallel(n_jobs=-1)]: Done   9 tasks      | elapsed:    1.4s\n",
            "[Parallel(n_jobs=-1)]: Batch computation too fast (0.1940s.) Setting batch_size=2.\n",
            "[Parallel(n_jobs=-1)]: Done  14 tasks      | elapsed:    1.4s\n",
            "[Parallel(n_jobs=-1)]: Batch computation too fast (0.0260s.) Setting batch_size=4.\n",
            "[Parallel(n_jobs=-1)]: Done  28 tasks      | elapsed:    1.5s\n",
            "[Parallel(n_jobs=-1)]: Batch computation too fast (0.0445s.) Setting batch_size=8.\n",
            "[Parallel(n_jobs=-1)]: Batch computation too fast (0.1081s.) Setting batch_size=16.\n",
            "[Parallel(n_jobs=-1)]: Done  72 tasks      | elapsed:    1.7s\n",
            "[Parallel(n_jobs=-1)]: Batch computation too fast (0.1799s.) Setting batch_size=32.\n",
            "[Parallel(n_jobs=-1)]: Done 296 tasks      | elapsed:    2.7s\n",
            "[Parallel(n_jobs=-1)]: Done 584 tasks      | elapsed:    3.8s\n",
            "[Parallel(n_jobs=-1)]: Done 936 tasks      | elapsed:    5.2s\n",
            "[Parallel(n_jobs=-1)]: Done 1288 tasks      | elapsed:    6.5s\n",
            "[Parallel(n_jobs=-1)]: Done 1704 tasks      | elapsed:    8.0s\n",
            "[Parallel(n_jobs=-1)]: Done 2120 tasks      | elapsed:    9.6s\n",
            "[Parallel(n_jobs=-1)]: Done 2600 tasks      | elapsed:   11.4s\n",
            "[Parallel(n_jobs=-1)]: Done 3080 tasks      | elapsed:   13.1s\n",
            "[Parallel(n_jobs=-1)]: Done 3624 tasks      | elapsed:   15.2s\n",
            "[Parallel(n_jobs=-1)]: Done 4168 tasks      | elapsed:   17.1s\n",
            "[Parallel(n_jobs=-1)]: Done 4776 tasks      | elapsed:   19.6s\n",
            "[Parallel(n_jobs=-1)]: Done 5384 tasks      | elapsed:   22.0s\n",
            "[Parallel(n_jobs=-1)]: Done 6056 tasks      | elapsed:   24.5s\n",
            "[Parallel(n_jobs=-1)]: Done 6728 tasks      | elapsed:   27.1s\n",
            "[Parallel(n_jobs=-1)]: Done 7464 tasks      | elapsed:   29.9s\n",
            "[Parallel(n_jobs=-1)]: Done 8200 tasks      | elapsed:   32.6s\n",
            "[Parallel(n_jobs=-1)]: Done 9000 tasks      | elapsed:   35.8s\n",
            "[Parallel(n_jobs=-1)]: Done 9800 tasks      | elapsed:   38.9s\n",
            "[Parallel(n_jobs=-1)]: Done 10664 tasks      | elapsed:   42.1s\n",
            "[Parallel(n_jobs=-1)]: Done 11528 tasks      | elapsed:   45.5s\n",
            "[Parallel(n_jobs=-1)]: Done 12456 tasks      | elapsed:   48.8s\n",
            "[Parallel(n_jobs=-1)]: Done 13384 tasks      | elapsed:   52.1s\n",
            "[Parallel(n_jobs=-1)]: Done 14376 tasks      | elapsed:   55.7s\n",
            "[Parallel(n_jobs=-1)]: Done 15368 tasks      | elapsed:   59.2s\n",
            "[Parallel(n_jobs=-1)]: Done 16424 tasks      | elapsed:  1.0min\n",
            "[Parallel(n_jobs=-1)]: Done 17480 tasks      | elapsed:  1.1min\n",
            "[Parallel(n_jobs=-1)]: Done 18600 tasks      | elapsed:  1.2min\n",
            "[Parallel(n_jobs=-1)]: Done 19720 tasks      | elapsed:  1.2min\n",
            "[Parallel(n_jobs=-1)]: Done 20904 tasks      | elapsed:  1.3min\n",
            "[Parallel(n_jobs=-1)]: Done 22088 tasks      | elapsed:  1.4min\n",
            "[Parallel(n_jobs=-1)]: Done 23336 tasks      | elapsed:  1.5min\n",
            "[Parallel(n_jobs=-1)]: Done 24584 tasks      | elapsed:  1.5min\n",
            "[Parallel(n_jobs=-1)]: Done 25896 tasks      | elapsed:  1.6min\n",
            "[Parallel(n_jobs=-1)]: Done 27208 tasks      | elapsed:  1.7min\n",
            "[Parallel(n_jobs=-1)]: Done 28584 tasks      | elapsed:  1.8min\n",
            "[Parallel(n_jobs=-1)]: Done 29960 tasks      | elapsed:  1.9min\n",
            "[Parallel(n_jobs=-1)]: Done 31400 tasks      | elapsed:  2.0min\n",
            "[Parallel(n_jobs=-1)]: Done 32840 tasks      | elapsed:  2.0min\n",
            "[Parallel(n_jobs=-1)]: Done 34344 tasks      | elapsed:  2.1min\n",
            "[Parallel(n_jobs=-1)]: Done 35848 tasks      | elapsed:  2.2min\n",
            "[Parallel(n_jobs=-1)]: Done 37416 tasks      | elapsed:  2.3min\n",
            "[Parallel(n_jobs=-1)]: Done 38984 tasks      | elapsed:  2.4min\n",
            "[Parallel(n_jobs=-1)]: Done 40616 tasks      | elapsed:  2.5min\n",
            "[Parallel(n_jobs=-1)]: Done 42248 tasks      | elapsed:  2.6min\n",
            "[Parallel(n_jobs=-1)]: Done 43944 tasks      | elapsed:  2.7min\n",
            "[Parallel(n_jobs=-1)]: Done 45640 tasks      | elapsed:  2.8min\n",
            "[Parallel(n_jobs=-1)]: Done 47400 tasks      | elapsed:  3.0min\n",
            "[Parallel(n_jobs=-1)]: Done 49160 tasks      | elapsed:  3.1min\n",
            "[Parallel(n_jobs=-1)]: Done 50984 tasks      | elapsed:  3.2min\n",
            "[Parallel(n_jobs=-1)]: Done 52500 out of 52500 | elapsed:  3.3min finished\n",
            "/usr/local/lib/python3.6/dist-packages/sklearn/tree/_classes.py:319: FutureWarning: The parameter 'presort' is deprecated and has no effect. It will be removed in v0.24. You can suppress this warning by not passing any value to the 'presort' parameter.\n",
            "  FutureWarning)\n"
          ],
          "name": "stderr"
        },
        {
          "output_type": "stream",
          "text": [
            "\n",
            "Parametros otimizados: {'criterion': 'gini', 'max_depth': None, 'max_leaf_nodes': None, 'min_samples_leaf': 20, 'min_samples_split': 2}\n",
            "\n",
            "DecisionTreeClassifier *********************************************************************************************************\n",
            "\n",
            "********* CROSS-VALIDATION ***********\n",
            "Média das Acurácias calculadas pelo CV....: 93.57\n",
            "std médio das Acurácias calculadas pelo CV: 8.53\n",
            "\n",
            "********* IMPORTÂNCIA DAS COLUNAS ***********\n",
            "  coluna  importancia\n",
            "0    V12     0.961461\n",
            "1    V14     0.038539\n",
            "2    V15     0.000000\n",
            "3    V17     0.000000\n",
            "4    V23     0.000000\n",
            "5    V27     0.000000\n",
            "\n",
            "********* CONFUSION MATRIX - PARAMETER TUNNING ***********\n"
          ],
          "name": "stdout"
        },
        {
          "output_type": "display_data",
          "data": {
            "image/png": "[encoded data removed]",
            "text/plain": [
              "<Figure size 576x576 with 2 Axes>"
            ]
          },
          "metadata": {
            "tags": [],
            "needs_background": "light"
          }
        }
      ]
    },
    {
      "cell_type": "code",
      "metadata": {
        "id": "rq_j8qNA9Su-"
      },
      "source": [
        ""
      ],
      "execution_count": null,
      "outputs": []
    },
    {
      "cell_type": "code",
      "metadata": {
        "id": "d2oM1mkh9S0b"
      },
      "source": [
        ""
      ],
      "execution_count": null,
      "outputs": []
    }
  ]
}